{
 "cells": [
  {
   "cell_type": "markdown",
   "metadata": {},
   "source": [
    "# About this Course\n",
    "This is an interactive course that serves as an introduction to electronic energy band theory, which can be used as a continutation of the Crystalography course or standalone. In quantum systems the discrete energy levels uniquely define the light-matter interaction and chemical bonding, etc. Therefore, accurate descriptions of the electron energies are required to understand fundamental properties in quantum systems. Condensed matter has energy bands and many atoms posing unique challeges, etc. With this in mind the chapters in this course cover the impact of proximity, periodicity and symmetry on the discrete electronic energy levels found in atoms. Moreover, progression through the chapters presents a hierarchy of electronic structure methods."
   ]
  },
  {
   "cell_type": "markdown",
   "metadata": {},
   "source": [
    "### Author\n",
    "- Zachary Romestan, West Virginia University"
   ]
  },
  {
   "cell_type": "markdown",
   "metadata": {},
   "source": [
    "### Contents\n",
    "1. Introduction\n",
    "2. Bound State Model\n",
    "3. Diatomic Bound State Model\n",
    "4. Empty Lattice Approximation\n",
    "5. Kronig Penney Model\n",
    "6. Tight Binding Model\n",
    "7. Plane Wave Expansion?"
   ]
  },
  {
   "cell_type": "markdown",
   "metadata": {},
   "source": [
    "### Dependencies"
   ]
  },
  {
   "cell_type": "markdown",
   "metadata": {},
   "source": [
    "### Interacting with the Chapters"
   ]
  },
  {
   "cell_type": "code",
   "execution_count": null,
   "metadata": {},
   "outputs": [],
   "source": []
  }
 ],
 "metadata": {
  "kernelspec": {
   "display_name": "Python 3",
   "language": "python",
   "name": "python3"
  },
  "language_info": {
   "codemirror_mode": {
    "name": "ipython",
    "version": 3
   },
   "file_extension": ".py",
   "mimetype": "text/x-python",
   "name": "python",
   "nbconvert_exporter": "python",
   "pygments_lexer": "ipython3",
   "version": "3.8.5"
  }
 },
 "nbformat": 4,
 "nbformat_minor": 4
}
