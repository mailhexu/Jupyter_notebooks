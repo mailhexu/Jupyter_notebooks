{
 "cells": [
  {
   "cell_type": "markdown",
   "metadata": {},
   "source": [
    "# Empty Lattice Approximation\n",
    "\n",
    " \n",
    "### Bloch's Theorem.\n",
    "\n",
    "In the previous chapter, the bound state energy levels of the two particles split as the distance between the potential wells decreases due to the Pauli exclusion principle. In a crystalline lattice, the compact and periodic arrangement of the atoms should have even greater impact on the energy levels. First, the impact of periodicity on the wavefunction needs to be assessed, in order to further examine the impact on the energy levels.\n",
    "\n",
    "Recall from the crystallographic notebooks that a translation between any two lattice sites can be expressed as\n",
    "\n",
    "\\begin{equation}\n",
    "\\mathbf{R_n} = n_1\\mathbf{a}_1 + n_2\\mathbf{a}_2 + n_3\\mathbf{a}_3,\n",
    "\\end{equation}\n",
    "\n",
    "where $a_i$ are lattice vectors and $n_i$ are integers. The Hamiltonian is a translationally invariant quanitity. In a lattice this can be expressed as:\n",
    "\n",
    "\\begin{equation}\n",
    "\\hat{H}(\\mathbf{r}+\\mathbf{R_n}) = \\hat{H}(\\mathbf{r}).\n",
    "\\end{equation}\n",
    "\n",
    "However, the impact on the wavefunction is not obvious. This can be determined by defining a translation operator that acts as\n",
    "\n",
    "\\begin{equation}\n",
    "\\hat{\\mathbf{T}}_\\mathbf{n}\\psi(\\mathbf{r}) = \\psi(\\mathbf{r}+\\mathbf{R_n}).\n",
    "\\end{equation}\n",
    "\n",
    "Since the Hamiltonian is translationally invariant, the commutator between the two operators must be\n",
    "\n",
    "\\begin{equation}\n",
    "\\left[ \\hat{H},\\hat{\\mathbf{T}}_\\mathbf{n} \\right] = 0.\n",
    "\\end{equation}\n",
    "\n",
    "This implies that the wavefunction is a simultaneous eigenstate of both $\\hat{H}$ and $\\hat{T}$. So, $\\hat{T}$ acting on the wavefunction can also be expressed as\n",
    "\n",
    "\\begin{equation}\n",
    "\\hat{\\mathbf{T}}_\\mathbf{n}\\psi(\\mathbf{r}) = \\lambda_\\mathbf{n}\\psi(\\mathbf{r}),\n",
    "\\end{equation}\n",
    "\n",
    "where $\\lambda_n$ is an eigenvalue of $\\hat{T}$. The value of $\\lambda_n$ can be determined via normalization:\n",
    "\n",
    "\\begin{equation}\n",
    "\\int\\left|\\hat{\\mathbf{T}}_\\mathbf{n}\\psi(\\mathbf{r})\\right|^2d^3\\mathbf{r} = \\\\\n",
    "\\left|\\lambda_n \\right|^2\\int\\left|\\psi(\\mathbf{r})\\right|^2d^3\\mathbf{r} = 1.\n",
    "\\end{equation}\n",
    "\n",
    "Evaluating gives\n",
    "\n",
    "\\begin{equation}\n",
    "\\lambda_n = \\sqrt{1}.\n",
    "\\end{equation}\n",
    "\n",
    "Since $\\lambda_n$ may be a complex number, this is\n",
    "\n",
    "\\begin{equation}\n",
    "\\lambda_n = e^{i2n\\pi} = e^{i \\mathbf{k}\\cdot\\mathbf{R_n}}.\n",
    "\\end{equation}\n",
    "\n",
    "Therefore, the wavefunction is periodic up to a phase and can be expressed as\n",
    "\n",
    "\\begin{equation}\n",
    "\\psi(\\mathbf{r}+\\mathbf{R_n}) = e^{i\\mathbf{k}\\cdot\\mathbf{R_n}}\\psi(\\mathbf{r}).\n",
    "\\end{equation}\n",
    "\n",
    "Using the fact that the wavefunction is periodic in real space, it can be written as a Fourier series in momenum space as:\n",
    "\n",
    "\\begin{equation}\n",
    "\\psi(\\mathbf{r}) = \\sum_\\mathbf{k} C_\\mathbf{k} e^{i\\mathbf{k}\\cdot\\mathbf{r}}\n",
    "\\end{equation}\n",
    "\n",
    "where $C_\\mathbf{k}$ is an expansion coefficent. The direct consequence for this is that a free electron's energy in a periodic lattice is unique up to a reciprocal lattice vector translation. This can be seen by adding a reciprocal lattice vector $\\mathbf{G_n}$ to the wavevector, giving\n",
    "\n",
    "\\begin{equation}\n",
    "\\psi(\\mathbf{r}) = \\sum_\\mathbf{G_n} C_\\mathbf{k-G_n} e^{i\\mathbf{k+G_n}\\cdot\\mathbf{r}}.\n",
    "\\end{equation}\n",
    "\n",
    "Applying Schrodinger's equation to this wavefunction,\n",
    "\n",
    "\\begin{equation}\n",
    "\\hat{H}\\psi(\\mathbf{r}) = \\frac{-\\hbar^2}{2m}\\nabla^2\\psi(\\mathbf{r}) = E\\psi(\\mathbf{r}),\n",
    "\\end{equation}\n",
    "\n",
    "gives that the energy of a free particle becomes a continuous spectrum written as\n",
    "\n",
    "\\begin{equation}\n",
    "E(\\mathbf{k}) =  \\frac{\\hbar^2(\\mathbf{k}+\\mathbf{G}_n)^2}{2m}.\n",
    "\\end{equation}\n",
    "\n",
    "For a 1D lattice with the lattice parameter $a$, the reprical lattice constant is $G = \\frac{2n\\pi}{a}$"
   ]
  },
  {
   "cell_type": "code",
   "execution_count": 1,
   "metadata": {
    "scrolled": false
   },
   "outputs": [
    {
     "data": {
      "application/vnd.jupyter.widget-view+json": {
       "model_id": "26c9e0f9055a44aaa540c8ed094da872",
       "version_major": 2,
       "version_minor": 0
      },
      "text/plain": [
       "interactive(children=(FloatSlider(value=1.0, description='a:', max=5.0, min=0.1), FloatSlider(value=1.0, descr…"
      ]
     },
     "metadata": {},
     "output_type": "display_data"
    },
    {
     "data": {
      "text/plain": [
       "<function __main__.energy_levels(a, m)>"
      ]
     },
     "execution_count": 1,
     "metadata": {},
     "output_type": "execute_result"
    }
   ],
   "source": [
    "import numpy as np\n",
    "import matplotlib.pyplot as plt\n",
    "from ipywidgets import interact, FloatSlider\n",
    "\n",
    "def energy_levels(a,m):\n",
    "    k = np.linspace(-10*np.pi,10*np.pi,1000)\n",
    "    for n in range(10):\n",
    "        E = (k+2*np.pi*n/a)**2/(2*m)\n",
    "        plt.plot(k,E)\n",
    "        E = (k-2*np.pi*n/a)**2/(2*m)\n",
    "        plt.plot(k,E)\n",
    "        plt.axvline(x=(2*n+1)*np.pi/a,color='black')\n",
    "        plt.axvline(x=-(2*n+1)*np.pi/a,color='black')\n",
    "    plt.xlim(-np.pi,np.pi)\n",
    "    plt.ylim(0,20)\n",
    "    plt.show()\n",
    "\n",
    "interactive_plot = interact(energy_levels, a=FloatSlider(value=1, min=0.1, max=5, step=0.1, description='a:'),\n",
    "                           m=FloatSlider(value=1, min=0.05, max=2.25, step=0.05, description='m:'))\n",
    "interactive_plot"
   ]
  },
  {
   "cell_type": "code",
   "execution_count": 6,
   "metadata": {},
   "outputs": [
    {
     "data": {
      "application/vnd.jupyter.widget-view+json": {
       "model_id": "216c5b742d874c40af1cd6976d3acd9b",
       "version_major": 2,
       "version_minor": 0
      },
      "text/plain": [
       "interactive(children=(FloatSlider(value=3.141592653589793, description='k:', max=3.141592653589793, step=0.157…"
      ]
     },
     "metadata": {},
     "output_type": "display_data"
    },
    {
     "data": {
      "text/plain": [
       "<function __main__.energy_levels(k, m)>"
      ]
     },
     "execution_count": 6,
     "metadata": {},
     "output_type": "execute_result"
    }
   ],
   "source": [
    "import numpy as np\n",
    "import matplotlib.pyplot as plt\n",
    "from ipywidgets import interact, FloatSlider\n",
    "\n",
    "def energy_levels(k,m):\n",
    "    a = np.linspace(0.1,10,1000)\n",
    "    for n in range(10):\n",
    "        E = (k/(a+n))**2/(2*m)\n",
    "        plt.plot(a,E)\n",
    "        #E = (k/(a-n))**2/(2*m)\n",
    "        #plt.plot(a,E)\n",
    "        #plt.axvline(x=(2*n+1)*np.pi/a,color='black')\n",
    "        #plt.axvline(x=-(2*n+1)*np.pi/a,color='black')\n",
    "    plt.xlim(0,10)\n",
    "    plt.ylim(-1,2)\n",
    "    plt.ylabel('Energy')\n",
    "    plt.xlabel('a')\n",
    "    plt.show()\n",
    "\n",
    "interactive_plot = interact(energy_levels, k=FloatSlider(value=np.pi, min=0, max=np.pi, step=np.pi/20, description='k:'),\n",
    "                           m=FloatSlider(value=1, min=0.25, max=2.25, step=0.25, description='m:'))\n",
    "interactive_plot"
   ]
  },
  {
   "cell_type": "markdown",
   "metadata": {},
   "source": [
    "Simple Cubic"
   ]
  },
  {
   "cell_type": "code",
   "execution_count": 5,
   "metadata": {},
   "outputs": [
    {
     "data": {
      "application/vnd.jupyter.widget-view+json": {
       "model_id": "2a35c1ea7f6b49d9a7b76601470ba035",
       "version_major": 2,
       "version_minor": 0
      },
      "text/plain": [
       "interactive(children=(FloatSlider(value=1.0, description='a:', max=2.0, min=0.5), FloatSlider(value=1.0, descr…"
      ]
     },
     "metadata": {},
     "output_type": "display_data"
    },
    {
     "data": {
      "text/plain": [
       "<function __main__.dispersion(a, m)>"
      ]
     },
     "execution_count": 5,
     "metadata": {},
     "output_type": "execute_result"
    }
   ],
   "source": [
    "import seekpath\n",
    "import numpy as np\n",
    "import matplotlib.pyplot as plt\n",
    "from ipywidgets import interact, FloatSlider\n",
    "\n",
    "def energy(kx,ky,kz,a,m,nx,ny,nz):\n",
    "    return 1/(2*m)*((kx+2*np.pi*nx/a)**2+(ky+2*np.pi*ny/a)**2+(kz+2*np.pi*nz/a)**2)\n",
    "\n",
    "def dispersion(a,m):\n",
    "    structure=([[a,0,0],[0,a,0],[0,0,a]],[[0,0,0]],[1])\n",
    "    k_path = seekpath.get_explicit_k_path(structure=structure)\n",
    "    kx, ky, kz = np.split(k_path['explicit_kpoints_abs'],3,1)\n",
    "    k_ticks = k_path['explicit_kpoints_linearcoord']\n",
    "    k_labels = k_path['explicit_kpoints_labels']\n",
    "                \n",
    "    for nx in range(-3,3):\n",
    "        for ny in range(-3,3):\n",
    "            for nz in range(-3,3):\n",
    "                plt.plot(k_ticks,energy(kx,ky,kz,a,m,nx,ny,nz))\n",
    "                \n",
    "    plt.ylim(0,50)\n",
    "    plt.xlim(0,max(k_ticks))\n",
    "    plt.xticks(k_ticks,k_labels)\n",
    "    plt.show()\n",
    "\n",
    "interactive_plot = interact(dispersion, a=FloatSlider(value=1, min=0.5, max=2, step=0.1, description='a:'),\n",
    "                           m=FloatSlider(value=1, min=0.5, max=1.5, step=0.1, description='m:'))\n",
    "interactive_plot"
   ]
  },
  {
   "cell_type": "code",
   "execution_count": null,
   "metadata": {},
   "outputs": [],
   "source": [
    "FCC"
   ]
  },
  {
   "cell_type": "code",
   "execution_count": 3,
   "metadata": {},
   "outputs": [
    {
     "data": {
      "application/vnd.jupyter.widget-view+json": {
       "model_id": "0708962b217e44ffbefec3292fd3dbbf",
       "version_major": 2,
       "version_minor": 0
      },
      "text/plain": [
       "interactive(children=(FloatSlider(value=1.0, description='a:', max=2.0, min=0.5), FloatSlider(value=1.0, descr…"
      ]
     },
     "metadata": {},
     "output_type": "display_data"
    },
    {
     "data": {
      "text/plain": [
       "<function __main__.dispersion(a, m)>"
      ]
     },
     "execution_count": 3,
     "metadata": {},
     "output_type": "execute_result"
    }
   ],
   "source": [
    "import seekpath\n",
    "import numpy as np\n",
    "import matplotlib.pyplot as plt\n",
    "from ipywidgets import interact, FloatSlider\n",
    "\n",
    "def energy(kx,ky,kz,a,m,nx,ny,nz):\n",
    "    return 1/(2*m)*((kx-ky+kz+2*np.pi*nx/a)**2+(kx+ky-kz+2*np.pi*ny/a)**2+(-kx+ky+kz+2*np.pi*nz/a)**2)\n",
    "\n",
    "def dispersion(a,m):\n",
    "    structure=([[a/2,0,a/2],[a/2,a/2,0],[0,a/2,a/2]],[[0,0,0]],[1])\n",
    "    k_path = seekpath.get_explicit_k_path(structure=structure)\n",
    "    kx, ky, kz = np.split(k_path['explicit_kpoints_abs'],3,1)\n",
    "    k_ticks = k_path['explicit_kpoints_linearcoord']\n",
    "    k_labels = k_path['explicit_kpoints_labels']\n",
    "                \n",
    "    for nx in range(-3,3):\n",
    "        for ny in range(-3,3):\n",
    "            for nz in range(-3,3):\n",
    "                plt.plot(k_ticks,energy(kx,ky,kz,a,m,nx,ny,nz))\n",
    "                \n",
    "    plt.ylim(0,50)\n",
    "    plt.xlim(0,max(k_ticks))\n",
    "    plt.xticks(k_ticks,k_labels)\n",
    "    plt.show()\n",
    "\n",
    "interactive_plot = interact(dispersion, a=FloatSlider(value=1, min=0.5, max=2, step=0.1, description='a:'),\n",
    "                           m=FloatSlider(value=1, min=0.5, max=1.5, step=0.1, description='m:'))\n",
    "interactive_plot"
   ]
  },
  {
   "cell_type": "markdown",
   "metadata": {},
   "source": [
    "BCC"
   ]
  },
  {
   "cell_type": "code",
   "execution_count": 4,
   "metadata": {},
   "outputs": [
    {
     "data": {
      "application/vnd.jupyter.widget-view+json": {
       "model_id": "d4a724c8863c4d9b85dd221a1337e06f",
       "version_major": 2,
       "version_minor": 0
      },
      "text/plain": [
       "interactive(children=(FloatSlider(value=1.0, description='a:', max=2.0, min=0.5), FloatSlider(value=1.0, descr…"
      ]
     },
     "metadata": {},
     "output_type": "display_data"
    },
    {
     "data": {
      "text/plain": [
       "<function __main__.dispersion(a, m)>"
      ]
     },
     "execution_count": 4,
     "metadata": {},
     "output_type": "execute_result"
    }
   ],
   "source": [
    "import seekpath\n",
    "import numpy as np\n",
    "import matplotlib.pyplot as plt\n",
    "from ipywidgets import interact, FloatSlider\n",
    "\n",
    "def energy(kx,ky,kz,a,m,nx,ny,nz):\n",
    "    return 1/(2*m)*((kx+ky+2*np.pi*nx/a)**2+(ky+kz+2*np.pi*ny/a)**2+(kx+kz+2*np.pi*nz/a)**2)\n",
    "\n",
    "def dispersion(a,m):\n",
    "    structure=([[a/2,a/2,-a/2],[-a/2,a/2,a/2],[a/2,-a/2,a/2]],[[0,0,0]],[1])\n",
    "    k_path = seekpath.get_explicit_k_path(structure=structure)\n",
    "    kx, ky, kz = np.split(k_path['explicit_kpoints_abs'],3,1)\n",
    "    k_ticks = k_path['explicit_kpoints_linearcoord']\n",
    "    k_labels = k_path['explicit_kpoints_labels']\n",
    "                \n",
    "    for nx in range(-3,3):\n",
    "        for ny in range(-3,3):\n",
    "            for nz in range(-3,3):\n",
    "                plt.plot(k_ticks,energy(kx,ky,kz,a,m,nx,ny,nz))\n",
    "                \n",
    "    plt.ylim(0,50)\n",
    "    plt.xlim(0,max(k_ticks))\n",
    "    plt.xticks(k_ticks,k_labels)\n",
    "    plt.show()\n",
    "\n",
    "interactive_plot = interact(dispersion, a=FloatSlider(value=1, min=0.5, max=2, step=0.1, description='a:'),\n",
    "                           m=FloatSlider(value=1, min=0.5, max=1.5, step=0.1, description='m:'))\n",
    "interactive_plot"
   ]
  },
  {
   "cell_type": "markdown",
   "metadata": {},
   "source": [
    "HEX"
   ]
  },
  {
   "cell_type": "code",
   "execution_count": 2,
   "metadata": {},
   "outputs": [
    {
     "data": {
      "application/vnd.jupyter.widget-view+json": {
       "model_id": "afa173bdf92b4529a08429d33c683996",
       "version_major": 2,
       "version_minor": 0
      },
      "text/plain": [
       "interactive(children=(FloatSlider(value=1.0, description='a:', max=2.0, min=0.5), FloatSlider(value=1.0, descr…"
      ]
     },
     "metadata": {},
     "output_type": "display_data"
    },
    {
     "data": {
      "text/plain": [
       "<function __main__.dispersion(a, c, m)>"
      ]
     },
     "execution_count": 2,
     "metadata": {},
     "output_type": "execute_result"
    }
   ],
   "source": [
    "import seekpath\n",
    "import numpy as np\n",
    "import matplotlib.pyplot as plt\n",
    "from ipywidgets import interact, FloatSlider\n",
    "\n",
    "def energy(kx,ky,kz,a,c,m,nx,ny,nz):\n",
    "    return 1/(2*m)*((np.sqrt(3)*kx-ky+2*np.pi*nx/(np.sqrt(3)*a))**2+(ky+4*np.pi*ny/(np.sqrt(3)*a))**2+(kz+2*np.pi*nz/c)**2)\n",
    "\n",
    "def dispersion(a,c,m):\n",
    "    structure=([[a/2,np.sqrt(3)*a/2,0],[a/2,-np.sqrt(3)*a/2,0],[0,0,c]],[[0,0,0]],[1])\n",
    "    k_path = seekpath.get_explicit_k_path(structure=structure)\n",
    "    kx, ky, kz = np.split(k_path['explicit_kpoints_abs'],3,1)\n",
    "    k_ticks = k_path['explicit_kpoints_linearcoord']\n",
    "    k_labels = k_path['explicit_kpoints_labels']\n",
    "                \n",
    "    for nx in range(-3,3):\n",
    "        for ny in range(-3,3):\n",
    "            for nz in range(-3,3):\n",
    "                plt.plot(k_ticks,energy(kx,ky,kz,a,c,m,nx,ny,nz))\n",
    "                \n",
    "    plt.ylim(0,50)\n",
    "    plt.xlim(0,max(k_ticks))\n",
    "    plt.xticks(k_ticks,k_labels)\n",
    "    plt.show()\n",
    "\n",
    "interactive_plot = interact(dispersion, a=FloatSlider(value=1, min=0.5, max=2, step=0.1, description='a:'),\n",
    "                           c=FloatSlider(value=1, min=0.5, max=2, step=0.1, description='c:'),\n",
    "                           m=FloatSlider(value=1, min=0.5, max=1.5, step=0.1, description='m:'))\n",
    "interactive_plot"
   ]
  },
  {
   "cell_type": "code",
   "execution_count": null,
   "metadata": {},
   "outputs": [],
   "source": []
  }
 ],
 "metadata": {
  "kernelspec": {
   "display_name": "Python 3",
   "language": "python",
   "name": "python3"
  },
  "language_info": {
   "codemirror_mode": {
    "name": "ipython",
    "version": 3
   },
   "file_extension": ".py",
   "mimetype": "text/x-python",
   "name": "python",
   "nbconvert_exporter": "python",
   "pygments_lexer": "ipython3",
   "version": "3.8.5"
  }
 },
 "nbformat": 4,
 "nbformat_minor": 4
}
