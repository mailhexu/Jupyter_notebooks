{
 "cells": [
  {
   "cell_type": "markdown",
   "metadata": {},
   "source": [
    "[![Open In Colab](https://colab.research.google.com/assets/colab-badge.svg)](https://colab.research.google.com/github/romerogroup/Jupyter_notebooks/blob/master/Band_Theory/Kronig-Penney_Model.ipynb)\n",
    "\n",
    "# The Origin of Electronic Bands and the Band Gap."
   ]
  },
  {
   "cell_type": "markdown",
   "metadata": {},
   "source": [
    "To understand the electronic structure of a solid state crystal, we can apply the delta potential model by generalizing the techniques used to treat one and two potentials. The potential for a periodic lattice of equally spaced delta potentials can be written as\n",
    "\n",
    "\\begin{equation}\n",
    "V(x) = -\\alpha \\sum_{n=0}^{N-1} \\delta(x-na),\n",
    "\\end{equation}\n",
    "\n",
    "where $\\alpha$ is the potential strength, $N$ is the total number of lattice sites, and $n$ indexes the individual delta functions, and $a$ is the lattice spacing. From the case with two potentials, we found that a suitable ansantz for the total wavefucntion in multiple delta potentials is a linear combination of the solution for a single delta. Therefore, the total wavefunction should take the form of\n",
    "\n",
    "\\begin{equation}\n",
    "\\psi(x) = \\frac{1}{N}\\sum_{n=0}^{N-1}c_n e^{-\\kappa|x-na|}.\n",
    "\\end{equation}\n",
    "\n",
    "With this in mind, the wavefunction to the left of any one of a delta potentials centered at $n=1$ is\n",
    "\n",
    "\\begin{equation}\n",
    "\\psi_0(x) = Ae^{\\kappa x} + Be^{- \\kappa x}.\n",
    "\\end{equation}\n",
    "\n",
    "Applying the periodic boundary conditions, the wavefunction to the right of the delta potential is\n",
    "\n",
    "\\begin{equation}\n",
    "\\psi_1(x) = e^{iqa}\\psi_0(x-a),\n",
    "\\end{equation}\n",
    "\n",
    "where q is any allowed wavevector for a free electron. More excplitly the wave function to the right is\n",
    "\n",
    "\\begin{equation}\n",
    "\\psi_1(x) = e^{iqa}\\left[ Ae^{\\kappa (x - a)} + Be^{- \\kappa (x - a)} \\right].\n",
    "\\end{equation}\n",
    "\n",
    "At the boundary, the wave functions must be identical. Substituting into\n",
    "\n",
    "\\begin{equation}\n",
    "\\psi_0(a) = \\psi_1(a)\n",
    "\\end{equation}\n",
    "\n",
    "provides an expression that relates the coefficients $A$ and $B$ as\n",
    "\n",
    "\\begin{equation}\n",
    "Ae^{\\kappa a} + Be^{- \\kappa a} = e^{iqa}\\left( A + B \\right).\n",
    "\\end{equation}\n",
    "\n",
    "A second expression can be derived from the discontinuous derivative condition as in the previous systems. Applying\n",
    "\n",
    "\\begin{equation}\n",
    "\\Delta \\psi'(a) = -\\frac{2m\\alpha}{\\hbar^2}\\psi(a)\n",
    "\\end{equation}\n",
    "\n",
    "gives the expression\n",
    "\n",
    "\\begin{equation}\n",
    "\\kappa e^{iqa}(A - B) - \\kappa \\left( Ae^{\\kappa a} - Be^{-\\kappa a} \\right) = - \\frac{2m\\alpha}{\\hbar^2} \\left( Ae^{\\kappa a} + Be^{-\\kappa a} \\right).\n",
    "\\end{equation}\n",
    "\n",
    "Now, grouping the multiplicative factors for $A$ and $B$ in both expressions clarifies the form of the matrix representation that will be needed to solve for the energy levels as\n",
    "\n",
    "\\begin{equation}\n",
    "\\left[ e^{iqa} - e^{\\kappa a} \\right]A + \\left[ e^{iqa} - e^{- \\kappa a} \\right]B=0 \\\\\n",
    "\\left[ \\kappa \\left( e^{iqa} - e^{\\kappa a} \\right) + \\frac{2m\\alpha}{\\hbar^2}e^{\\kappa a}\\right]A +\n",
    "\\left[- \\kappa \\left( e^{iqa} - e^{- \\kappa a} \\right) + \\frac{2m\\alpha}{\\hbar^2}e^{- \\kappa a}\\right]B=0.\n",
    "\\end{equation}\n",
    "\n",
    "The coefficients $A$ and $B$ have unique solutions when the detereminant is zero. Taking the determinant\n",
    "\n",
    "\\begin{equation}\n",
    "\\left|\n",
    "\\begin{array}{cc} \n",
    "e^{iqa} - e^{\\kappa a} &  e^{iqa} - e^{- \\kappa a} \\\\\n",
    "\\kappa \\left( e^{iqa} - e^{\\kappa a} \\right) + \\frac{2m\\alpha}{\\hbar^2}e^{\\kappa a} & \n",
    "-\\kappa \\left( e^{iqa} - e^{- \\kappa a} \\right) + \\frac{2m\\alpha}{\\hbar^2}e^{- \\kappa a}\n",
    "\\end{array}\n",
    "\\right| = 0,\n",
    "\\end{equation}\n",
    "\n",
    "gives the dispersion relation\n",
    "\n",
    "\\begin{equation}\n",
    "\\left[ e^{iqa} - e^{\\kappa a} \\right]\\left[ -\\kappa (e^{iqa} - e^{-\\kappa a}) + \\frac{2m\\alpha}{\\hbar^2}e^{- \\kappa a} \\right] - \\left[ e^{iqa} - e^{-\\kappa a} \\right]\\left[ \\kappa (e^{iqa} - e^{\\kappa a}) + \\frac{2m\\alpha}{\\hbar^2}e^{\\kappa a} \\right] = 0.\n",
    "\\end{equation}\n",
    "\n",
    "Distributing and begining to simplify it can be written as\n",
    "\n",
    "\\begin{equation}\n",
    "-2\\kappa\\left[ e^{2iqa} - e^{iqa}\\left( e^{\\kappa a} + e^{-\\kappa a} \\right) + 1 \\right] + \\frac{2m\\alpha}{\\hbar^2}e^{iqa}\\left( e^{\\kappa a} - e^{-\\kappa a} \\right) = 0.\n",
    "\\end{equation}\n",
    "\n",
    "Now, multiplying by e^{-iqa} and continuing to simplify results in\n",
    "\n",
    "\\begin{equation}\n",
    "-\\left( e^{iqa} + e^{-iqa} \\right) - \\left( e^{\\kappa a} + e^{-\\kappa a} \\right) - \\frac{m\\alpha}{\\hbar^2 \\kappa}\\left( e^{\\kappa a} - e^{-\\kappa a} \\right) = 0.\n",
    "\\end{equation}\n",
    "\n",
    "Applying the Euler formula provides a compact expression that relates $q$ to $\\kappa$ self-consistently:\n",
    "\n",
    "\\begin{equation}\n",
    "\\cos(qa) = \\cosh(\\kappa a)\\ + \\frac{am\\alpha }{\\hbar^2}\\frac{\\sinh(\\kappa a)}{\\kappa a}\n",
    "\\end{equation}\n",
    "\n",
    "By defining $\\frac{am\\alpha }{\\hbar^2}$ as the barrier strength parameter $\\beta$ and recalling that $\\kappa=ik$, the dispersion relation is\n",
    "\n",
    "\\begin{equation}\n",
    "\\cos(qa) = \\cos(k a)\\ + \\beta\\frac{\\sin(k a)}{ka}.\n",
    "\\end{equation}\n",
    "\n",
    "Moreover, applying $k = \\sqrt{\\frac{2mE}{\\hbar^2}}$ enable the electronic energy band structure to be extracted by plotting the self-consistent equation."
   ]
  },
  {
   "cell_type": "code",
   "execution_count": 23,
   "metadata": {},
   "outputs": [
    {
     "data": {
      "application/vnd.jupyter.widget-view+json": {
       "model_id": "3446e70a036e4c349f8ec4e86008e01e",
       "version_major": 2,
       "version_minor": 0
      },
      "text/plain": [
       "interactive(children=(FloatSlider(value=0.0, description='$\\\\beta$:', max=10.0, step=0.5), FloatSlider(value=1…"
      ]
     },
     "metadata": {},
     "output_type": "display_data"
    },
    {
     "data": {
      "text/plain": [
       "<function __main__.f(B, a)>"
      ]
     },
     "execution_count": 23,
     "metadata": {},
     "output_type": "execute_result"
    }
   ],
   "source": [
    "import numpy as np\n",
    "import matplotlib.pyplot as plt\n",
    "from ipywidgets import interact, FloatSlider\n",
    "from numpy import pi\n",
    "\n",
    "def f(B,a):\n",
    "    fig, ax = plt.subplots()\n",
    "    k = np.linspace(-pi/a,pi/a,500)\n",
    "    E = np.linspace(0,20,500)\n",
    "    [X,Y] = np.meshgrid(k,E)\n",
    "    Z = np.cos(X*a) - a*B*0.1*np.sinc(np.sqrt(Y)*a*1.75) - np.cos(np.sqrt(Y)*a*1.75)\n",
    "    #print(k)\n",
    "    #print(E)\n",
    "    #print(g(k,E))\n",
    "    plt.contour(X,Y,Z,[0])\n",
    "    plt.xlabel('k')\n",
    "    plt.ylabel('Energy')\n",
    "    ax.tick_params(axis='both', direction='in')\n",
    "    plt.show()   \n",
    "\n",
    "interactive_plot = interact(f, B=FloatSlider(value=0,min=0, max=10, step=0.5,description='$\\\\beta$:'), a=FloatSlider(value=1, min=0.25, max=10, step=0.25, description='a:'))\n",
    "interactive_plot"
   ]
  },
  {
   "cell_type": "markdown",
   "metadata": {},
   "source": []
  },
  {
   "cell_type": "code",
   "execution_count": null,
   "metadata": {},
   "outputs": [],
   "source": []
  }
 ],
 "metadata": {
  "kernelspec": {
   "display_name": "Python 3",
   "language": "python",
   "name": "python3"
  },
  "language_info": {
   "codemirror_mode": {
    "name": "ipython",
    "version": 3
   },
   "file_extension": ".py",
   "mimetype": "text/x-python",
   "name": "python",
   "nbconvert_exporter": "python",
   "pygments_lexer": "ipython3",
   "version": "3.8.5"
  }
 },
 "nbformat": 4,
 "nbformat_minor": 4
}
