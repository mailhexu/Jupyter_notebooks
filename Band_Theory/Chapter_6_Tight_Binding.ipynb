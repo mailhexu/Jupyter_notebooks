{
 "cells": [
  {
   "cell_type": "markdown",
   "metadata": {},
   "source": [
    "[![Open In Colab](https://colab.research.google.com/assets/colab-badge.svg)](https://colab.research.google.com/github/romerogroup/Jupyter_notebooks/blob/master/Band_Theory/Tight_Binding.ipynb)\n",
    "\n",
    "### Tight-Binding Model\n",
    "\n",
    "The tight-binding model aims to treat localization by making the assumption that electrons captured by ions in a periodic lattice will remain bound for a considerable time before tunneling or hopping to a neighboring ion. The assumption leads to the approximation that the electrons occupy atomic-like orbitals while bound. In order to apply the model, it is neccessary to understand the form of the tight-binding Hamiltonian. Considering a simple model for a single electron in a hydrogen molecule gives insight into building the model Hamiltonian and the atomic orbital basis in more general cases. In the approximation, the electron either occupties an s-like orbital centered on either hydrogen atom, or it is in the process of hopping from one to the other. Let $\\epsilon$ be the on site energy for occupying an s-like orbital on either hydrogen and $t$ be the hopping energy. Then the tight-binding Hamiltonian can be written as\n",
    "\n",
    "$$H = \\left[ \\begin{array}{cc} \\epsilon & -t\\\\ -t & \\epsilon \\end{array} \\right]$$\n",
    "\n",
    "obeying $H \\left| \\psi \\right\\rangle = E\\left| \\psi \\right\\rangle$ The energy levels and bonding atomic orbital basis can be found by diagonalization, where\n",
    "\n",
    "$$\\left| \\begin{array}{cc} \\epsilon - E & -t\\\\ -t & \\epsilon - E \\end{array} \\right| = 0$$\n",
    "\n",
    "has the characteristic polynomial $E^2 - 2\\epsilon E + (\\epsilon - t)^2 = 0.$ Thus the energy eigenvalues are $E = \\epsilon \\mp t$ with eigenvectors given by $\\left| \\psi \\right\\rangle = \\frac{1}{\\sqrt{2}} \\left( \\left| \\phi_1 \\right\\rangle \\pm \\left| \\phi_2 \\right\\rangle \\right)$. The lower energy corresponds to bonding, whereas the higher corresponds to anti-bonding. It can be seen from this example that an expansion in a linear combination of atomic orbitals (LCAO) satisfies a tight-binding Hamiltonian. The model can be generalized to a 1 dimensional lattice by extending to a chain of hydrogen atoms with the lattice constant given by $a$ with a periodic boundary. The single electron wavefunction can be expanded as before in using the LCAO as $$\\left| \\psi \\right\\rangle = \\frac{1}{\\sqrt{N}} \\sum_n e^{ikna}\\left| \\phi_n \\right\\rangle,$$ where the Bloch function enforces the periodicity. The dimer Hamiltonian can be generalized by restricting the electrons to hopping between nearest neighbors only. The on site energy $\\epsilon$ will again run down the diagonal, and the hopping term between nearest neighbors will form a tridiagonal matrix. This can be written explicitly as $$H = \\sum_n \\left( \\epsilon \\left| \\phi_n \\right\\rangle \\left\\langle \\phi_n \\right| -t\\left| \\phi_n \\right\\rangle \\left\\langle \\phi_{n+1} \\right| -t \\left| \\phi_n \\right\\rangle \\left\\langle \\phi_{n-1} \\right| \\right).$$ The energy band can be calculated by taking the expectation value. \n",
    "\n",
    "$$\\left\\langle \\psi \\middle| H \\middle| \\psi \\right\\rangle = \\frac{1}{N}\\sum_n \\sum_m e^{i\\left( m-n \\right)ka} \\left\\langle \\phi_n \\right| \\left[ \\sum_n \\epsilon \\left| \\phi_n \\right\\rangle \\left\\langle \\phi_n \\right| -t \\left( \\left| \\phi_n \\right\\rangle \\left\\langle \\phi_{n+1} \\right| + \\left| \\phi_n \\right\\rangle \\left\\langle \\phi_{n-1} \\right| \\right) \\right] \\left| \\phi_m \\right\\rangle$$\n",
    "\n",
    "$$E\\left( k \\right) = \\frac{1}{N} \\sum_n \\sum_m e^{i\\left( m - n \\right) ka}\\left[ \\sum_n \\epsilon \\left\\langle \\phi_n \\middle| \\phi_m \\right\\rangle -t\\left( \\left\\langle \\phi_{n+1} \\middle| \\phi_m \\right\\rangle + \\left\\langle \\phi_{n-1} \\middle| \\phi_m \\right\\rangle \\right) \\right]$$\n",
    "\n",
    "$$E\\left( k \\right) = \\frac{1}{N} \\sum_n \\sum_m e^{i\\left( m - n \\right) ka} \\left[ \\epsilon \\delta_{nm} -t \\left( \\delta_{n-1,m} + \\delta_{n+1,m} \\right) \\right]$$\n",
    "\n",
    "$$E\\left(k\\right)= \\frac{1}{N} \\sum_n \\epsilon - t \\left( e^{ika} + e^{-ika} \\right)$$\n",
    "\n",
    "$$E\\left(k\\right) = \\epsilon - 2t\\cos{ka}$$"
   ]
  },
  {
   "cell_type": "code",
   "execution_count": 3,
   "metadata": {},
   "outputs": [
    {
     "data": {
      "application/vnd.jupyter.widget-view+json": {
       "model_id": "6db60a8f9ffd4a24b171c3fe52e552b9",
       "version_major": 2,
       "version_minor": 0
      },
      "text/plain": [
       "interactive(children=(FloatSlider(value=-1.0, description='t:', max=2.0, min=-2.0), FloatSlider(value=1.0, des…"
      ]
     },
     "metadata": {},
     "output_type": "display_data"
    },
    {
     "data": {
      "text/plain": [
       "<function __main__.f(t, a)>"
      ]
     },
     "execution_count": 3,
     "metadata": {},
     "output_type": "execute_result"
    }
   ],
   "source": [
    "import numpy as np\n",
    "import matplotlib.pyplot as plt\n",
    "from ipywidgets import interact, FloatSlider\n",
    "from numpy import pi, cos\n",
    "def f(t,a):\n",
    "    fig, ax = plt.subplots()\n",
    "    k = np.linspace(-pi/a,pi/a,100)\n",
    "    E = 2*t*cos(k*a)\n",
    "    plt.plot(k,E)\n",
    "    plt.ylabel('E')\n",
    "    plt.xlabel('k')\n",
    "    plt.ylim(-4,4)\n",
    "    plt.xlim(-pi,pi)\n",
    "    ax.tick_params(axis='both', direction='in')\n",
    "    plt.show()\n",
    "\n",
    "interactive_plot = interact(f, t=FloatSlider(value=-1,min=-2, max=2, step=0.1,description='t:'),\n",
    "                            a=FloatSlider(value=1,min=0.5, max=1, step=0.05,description='a:'))\n",
    "interactive_plot"
   ]
  },
  {
   "cell_type": "code",
   "execution_count": null,
   "metadata": {},
   "outputs": [],
   "source": []
  },
  {
   "cell_type": "code",
   "execution_count": 3,
   "metadata": {
    "scrolled": false
   },
   "outputs": [
    {
     "data": {
      "application/vnd.jupyter.widget-view+json": {
       "model_id": "8c1da12c22534f8ebdd0bd20ee3027f2",
       "version_major": 2,
       "version_minor": 0
      },
      "text/plain": [
       "interactive(children=(FloatSlider(value=6.0, description='$\\\\epsilon_{1s}$:', max=6.0), FloatSlider(value=0.0,…"
      ]
     },
     "metadata": {},
     "output_type": "display_data"
    },
    {
     "data": {
      "text/plain": [
       "<function __main__.f(eps1, eps2, t11, t22, t12, a)>"
      ]
     },
     "execution_count": 3,
     "metadata": {},
     "output_type": "execute_result"
    }
   ],
   "source": [
    "import numpy as np\n",
    "import matplotlib.pyplot as plt\n",
    "from ipywidgets import interact, FloatSlider\n",
    "from numpy import pi, cos, sqrt, sin\n",
    "\n",
    "def f(eps1, eps2, t11, t22, t12, a):\n",
    "    fig, ax = plt.subplots()\n",
    "    k = np.linspace(-pi/a,pi/a,100)\n",
    "    coska = cos(k*a)\n",
    "    H11 = eps1 + 2*t11*coska\n",
    "    H22 = eps2 + 2*t22*coska\n",
    "    H12 = 2*t12*coska\n",
    "    E1 = (H11+H22)/2 - sqrt(1/4*(H11 - H22)**2 + H12**2)\n",
    "    E2 = (H11+H22)/2 + sqrt(1/4*(H11 - H22)**2 + H12**2)\n",
    "    plt.plot(k,E1)\n",
    "    plt.plot(k,E2)\n",
    "    plt.ylabel('E')\n",
    "    plt.xlabel('k')\n",
    "    plt.ylim(-14,19)\n",
    "    plt.xlim(-pi,pi)\n",
    "    ax.tick_params(axis='both', direction='in')\n",
    "    plt.show()\n",
    "\n",
    "interactive_plot = interact(f, eps1=FloatSlider(value=6, min=0, max=6, step=0.1, description='$\\epsilon_{1s}$:'),\n",
    "                            eps2=FloatSlider(value=0, min=0, max=6, step=0.1, description='$\\epsilon_{2s}$:'),\n",
    "                            t11=FloatSlider(value=1.5,min=-3, max=3, step=0.1,description='$t_{11}$:'),\n",
    "                            t22=FloatSlider(value=-1.5,min=-3, max=3, step=0.1,description='$t_{22}$:'),\n",
    "                            t12=FloatSlider(value=0,min=0, max=3, step=0.1,description='$t_{12}$:'),\n",
    "                            a=FloatSlider(value=1.0,min=0.5, max=1, step=0.05,description='a:'))\n",
    "interactive_plot"
   ]
  },
  {
   "cell_type": "markdown",
   "metadata": {},
   "source": [
    "### Tight-Binding in 3D\n",
    "\n",
    "In general the model Hamiltonian is constructed phenomenologically, but it will retain the tight-binding features in which the diagonal elements are the orbital occupation energies, and off diagonal elements will be nonzero only for set of neighbors for which the hopping is relevant. The LCAO expansion of the wavefunction in higher spatial dimensions can be written as\n",
    "\n",
    "$$\\psi_k\\left( \\bf{r} \\right) = \\frac{1}{\\sqrt{N}}\\sum_{\\bf{R}} e^{i\\bf{k}\\cdot\\bf{R}} \\phi(\\bf{r} - \\bf{R})$$\n",
    "\n",
    "The band dispersion is again given by the expectation value. That is\n",
    "\n",
    "$$E\\left(\\bf{k} \\right) = \\int \\psi_k^*\\left(\\bf{r}\\right) H \\psi_k \\left( \\bf{r} \\right) d\\bf{r}$$\n",
    "\n",
    "substituting the LCAO expansion for $\\psi_k$\n",
    "\n",
    "$$E\\left(\\bf{k}\\right) = \\frac{1}{N} \\sum_{\\bf{R}} \\sum_{\\bf{R}'} e^{i \\bf{k}\\cdot\\left(\\bf{R}'-\\bf{R}\\right)} \\int \\phi^*\\left(\\bf{r}-\\bf{R}\\right)H\\phi\\left(\\bf{r}-\\bf{R}'\\right) d\\bf{r}.$$\n",
    "\n",
    "The sum can be simplified by relabeling the variables. Namely, let $\\bf{x} = \\bf{r}-\\bf{R}$. \n",
    "\n",
    "$$E\\left(\\bf{k}\\right) = \\frac{1}{N} \\sum_{\\bf{R}} \\sum_{\\bf{R}'} e^{i \\bf{k}\\cdot\\left(\\bf{R}'-\\bf{R}\\right)} \\int  \\phi^*\\left(\\bf{x}\\right)H\\phi\\left(\\bf{x}+\\bf{R}-\\bf{R}'\\right) d\\bf{x}$$\n",
    "\n",
    "Now, the sum over $\\bf{R}'$ is equivalent to a sum over $\\bf{R}_N = \\bf{R} - \\bf{R}'$.\n",
    "\n",
    "$$E\\left(\\bf{k}\\right) = \\frac{1}{N} \\sum_{\\bf{R}} \\sum_{\\bf{R}_N} e^{i \\bf{k}\\cdot\\bf{R}_N} \\int \\phi^*\\left(\\bf{x}\\right)H\\phi\\left(\\bf{x}-\\bf{R}_N\\right) d\\bf{x}$$\n",
    "\n",
    "The sum over $\\bf{R}$ is empty, summing to $N$.\n",
    "\n",
    "$$E\\left(\\bf{k}\\right) = \\sum_{\\bf{R}_N} e^{i \\bf{k}\\cdot\\bf{R}_N} \\int \\phi^*\\left(\\bf{x}\\right)H\\phi\\left(\\bf{x}-\\bf{R}_N\\right) d\\bf{x}$$\n",
    "\n",
    "The integrand can be split into two terms, when $\\bf{R}_N = 0$ and when $\\bf{R}_N \\ne 0$.\n",
    "\n",
    "$$E\\left(\\bf{k}\\right) = \\int \\phi^*\\left(\\bf{x}\\right)H\\phi\\left(\\bf{x}\\right) d\\bf{x} + \\sum_{\\bf{R}_N \\ne 0} e^{i \\bf{k}\\cdot\\bf{R}_N} \\int \\phi^*\\left(\\bf{x}\\right)H\\phi\\left(\\bf{x}-\\bf{R}_N\\right) d\\bf{x}$$\n",
    "\n",
    "The first integral evaluates as $\\epsilon$. The second integral, however, will not be evaluated. Instead, the overlap inegral is related to the electron hopping and will be assigned a phenomenological value expressed as\n",
    "\n",
    "$$t\\left[{R}_N\\right] = - \\int \\phi^*\\left(\\bf{x}\\right)H\\phi\\left(\\bf{x}-\\bf{R}_N\\right) d\\bf{x},$$\n",
    "\n",
    "in which the hopping parameter, $t\\left[{R}_N\\right]$, is now written as a functional in the most general case to allow for anisotropic hopping. Using the simplifications the energy dispersion can be written compactly.\n",
    "\n",
    "$$E\\left(\\bf{k}\\right) = \\epsilon - \\sum_{\\bf{R}_N}t\\left[\\bf{R}_N\\right]e^{i \\bf{k}\\cdot\\bf{R}_N}$$"
   ]
  },
  {
   "cell_type": "code",
   "execution_count": 117,
   "metadata": {},
   "outputs": [
    {
     "data": {
      "application/vnd.jupyter.widget-view+json": {
       "model_id": "3b75f7fd81b14c6ab25056354ae2e6b2",
       "version_major": 2,
       "version_minor": 0
      },
      "text/plain": [
       "interactive(children=(FloatSlider(value=2.0, description='t:', max=2.0, min=0.5), FloatSlider(value=0.5, descr…"
      ]
     },
     "metadata": {},
     "output_type": "display_data"
    },
    {
     "data": {
      "text/plain": [
       "<function __main__.f(t, a)>"
      ]
     },
     "execution_count": 117,
     "metadata": {},
     "output_type": "execute_result"
    }
   ],
   "source": [
    "import numpy as np\n",
    "import matplotlib.pyplot as plt\n",
    "from ipywidgets import interact, FloatSlider\n",
    "from numpy import pi, cos\n",
    "\n",
    "def f(t,a):\n",
    "    \n",
    "    fig, ax = plt.subplots()\n",
    "    \n",
    "    kx = np.linspace(0,2*pi/a,100)\n",
    "    ky = np.linspace(0,2*pi/a,100)\n",
    "    kz = np.linspace(0,2*pi/a,100)\n",
    "    \n",
    "    def g(kx,ky,kz):\n",
    "        return -2*t*(cos(kx*a) + cos(ky*a) + cos(kz*a))\n",
    "    \n",
    "    \n",
    "    E = g(0,ky/2,0)\n",
    "    plt.plot(-ky/2,E,color='dodgerblue')\n",
    "    \n",
    "    E = g(kx/2,ky/2,0)\n",
    "    plt.plot(ky/2,E,color='dodgerblue')\n",
    "    \n",
    "    E = g(pi/a,pi/a,kz/2)\n",
    "    plt.plot(pi/a+ky/2,E,color='dodgerblue')\n",
    "    \n",
    "    E = g(pi/a-kx/2,pi/a-ky/2,pi-kz/2)\n",
    "    plt.plot(2*pi/a+ky/2,E,color='dodgerblue')\n",
    "\n",
    "    plt.ylabel('E')\n",
    "    plt.xlabel('k')\n",
    "    plt.ylim(-12.2,12.2)\n",
    "    plt.xlim(-pi,3*pi)\n",
    "    ax.tick_params(axis='both', direction='in')\n",
    "    plt.show()\n",
    "\n",
    "interactive_plot = interact(f, t=FloatSlider(value=2,min=0.5, max=2, step=0.1,description='t:'),\n",
    "                            a=FloatSlider(value=0,min=0.5, max=1, step=0.05,description='a:'))\n",
    "interactive_plot"
   ]
  },
  {
   "cell_type": "code",
   "execution_count": null,
   "metadata": {},
   "outputs": [],
   "source": []
  },
  {
   "cell_type": "code",
   "execution_count": 6,
   "metadata": {},
   "outputs": [
    {
     "data": {
      "application/vnd.jupyter.widget-view+json": {
       "model_id": "48bbd87e766e4cdbb24aad49879fba57",
       "version_major": 2,
       "version_minor": 0
      },
      "text/plain": [
       "interactive(children=(FloatSlider(value=2.0, description='t:', max=2.0, min=0.5), FloatSlider(value=0.5, descr…"
      ]
     },
     "metadata": {},
     "output_type": "display_data"
    },
    {
     "data": {
      "text/plain": [
       "<function __main__.f(t, a)>"
      ]
     },
     "execution_count": 6,
     "metadata": {},
     "output_type": "execute_result"
    }
   ],
   "source": [
    "import numpy as np\n",
    "import matplotlib.pyplot as plt\n",
    "from ipywidgets import interact, FloatSlider\n",
    "from numpy import pi, cos\n",
    "\n",
    "def f(t,a):\n",
    "    \n",
    "    fig, ax = plt.subplots()\n",
    "    \n",
    "    kx = np.linspace(0,2*pi/a,100)\n",
    "    ky = np.linspace(0,2*pi/a,100)\n",
    "    kz = np.linspace(0,2*pi/a,100)\n",
    "    \n",
    "    def g(kx,ky,kz):\n",
    "        return -4*t*(cos(kx*a/2)*cos(ky*a/2) + cos(ky*a/2)*cos(kz*a/2) + cos(kz*a/2)*cos(kx*a/2))\n",
    "    \n",
    "    E = g(kx/2,ky/2,kz/2)\n",
    "    plt.plot(-ky/2,E)\n",
    "    \n",
    "    E = g(0,ky,0)\n",
    "    plt.plot(ky/2,E)\n",
    "    \n",
    "    E = g(kx/4,2*pi/a,kz/4)\n",
    "    plt.plot(pi/a+ky/2,E)\n",
    "    \n",
    "    E = g(pi/a/2+kx/2,2*pi/a-ky/4,pi/a/2-kz/4)\n",
    "    plt.plot(2*pi/a+ky/2,E)\n",
    "    \n",
    "    E = g(3/2*pi/a-3/2*kx/2,3/2*pi/a-3/2*ky/2,0)\n",
    "    plt.plot(3*pi/a+ky/2,E)\n",
    "    \n",
    "    plt.ylabel('E')\n",
    "    plt.xlabel('k')\n",
    "    plt.ylim(-24.2,8.5)\n",
    "    plt.xlim(-pi,4*pi)\n",
    "    ax.tick_params(axis='both', direction='in')\n",
    "    plt.show()\n",
    "\n",
    "interactive_plot = interact(f, t=FloatSlider(value=2,min=0.5, max=2, step=0.1,description='t:'),\n",
    "                            a=FloatSlider(value=0.5,min=0.5, max=1, step=0.05,description='a:'))\n",
    "interactive_plot"
   ]
  },
  {
   "cell_type": "markdown",
   "metadata": {},
   "source": [
    "Simple_Cubic Solver?"
   ]
  },
  {
   "cell_type": "code",
   "execution_count": 4,
   "metadata": {
    "scrolled": true
   },
   "outputs": [
    {
     "data": {
      "application/vnd.jupyter.widget-view+json": {
       "model_id": "3fa76fcf73984dafa5f07fdedb712a72",
       "version_major": 2,
       "version_minor": 0
      },
      "text/plain": [
       "interactive(children=(FloatSlider(value=4.0, description='$\\\\epsilon_{s}$:', max=6.0, min=-6.0), FloatSlider(v…"
      ]
     },
     "metadata": {},
     "output_type": "display_data"
    },
    {
     "data": {
      "text/plain": [
       "<function __main__.solver(e_s, e_p, t_s, t_sp, t_p, t_p12, t_p13, t_p23, a)>"
      ]
     },
     "execution_count": 4,
     "metadata": {},
     "output_type": "execute_result"
    }
   ],
   "source": [
    "import numpy as np\n",
    "import seekpath\n",
    "import matplotlib.pyplot as plt\n",
    "import matplotlib.ticker as ticker\n",
    "from ipywidgets import interact, FloatSlider\n",
    "import cmath\n",
    "\n",
    "def solver(e_s,e_p,t_s,t_sp,t_p,t_p12,t_p13,t_p23,a):\n",
    "    plt.rcParams.update({'font.size': 14})\n",
    "    fig, ax = plt.subplots(figsize=(5,5))\n",
    "    \n",
    "    ax.tick_params(axis='both',direction='in')\n",
    "    plt.ylabel('Energy')\n",
    "    \n",
    "    structure = ([[a,0,0],[0,a,0],[0,0,a]],[[0,0,0]],[1])\n",
    "    hopping = np.array([[t_s,t_sp,t_sp,t_sp],[t_sp,t_p,t_p12,t_p13],[t_sp,t_p12,t_p,t_p23],[t_sp,t_p13,t_p23,t_p]])\n",
    "    #pi_hopping = np.array([[0,0,0,0],[0,t_ppi,0,0],[0,0,t_ppi,0],[0,0,0,t_ppi]])\n",
    "    onsite = np.array([[e_s,0,0,0],[0,e_p,0,0],[0,0,e_p,0],[0,0,0,e_p]])\n",
    "    k_path = seekpath.get_explicit_k_path(structure=structure)['explicit_kpoints_abs']\n",
    "    k_ticks = seekpath.get_explicit_k_path(structure=structure)['explicit_kpoints_linearcoord']\n",
    "    k_labels = seekpath.get_explicit_k_path(structure=structure)['explicit_kpoints_labels']\n",
    "    k_segments = seekpath.get_explicit_k_path(structure=structure)['explicit_segments']\n",
    "    hamiltonian = np.arange(16*len(k_ticks),dtype=complex).reshape(4,4,len(k_ticks))\n",
    "    energy = np.arange(4*len(k_ticks),dtype=complex).reshape(4,len(k_ticks))\n",
    "    eig_vects = np.arange(16*len(k_ticks),dtype=complex).reshape(4,4,len(k_ticks))\n",
    "    \n",
    "    lat = structure[0]\n",
    "    position = structure[1]\n",
    "    \n",
    "    G = np.zeros((3, 3))\n",
    "    G[0] = 2* np.pi * np.cross(lat[1], lat[2]) / (np.inner(\n",
    "            lat[0], np.cross(lat[1], lat[2])))\n",
    "    G[1] = 2* np.pi * np.cross(lat[2], lat[0]) / (np.inner(\n",
    "            lat[1], np.cross(lat[2], lat[0])))\n",
    "    G[2] =  2* np.pi * np.cross(lat[0], lat[1]) / (np.inner(\n",
    "            lat[2], np.cross(lat[0], lat[1])))\n",
    "    \n",
    "    kpath = np.inner(G,k_path/(2*np.pi)).T\n",
    "\n",
    "    \n",
    "    R = []\n",
    "    for dimx in range(-1,2):\n",
    "        for dimy in range(-1,2):\n",
    "            for dimz in range(-1,2):\n",
    "                R1 = [x * dimx for x in lat[0]]\n",
    "                R2 = [y * dimy for y in lat[1]]\n",
    "                R3 = [z * dimz for z in lat[2]]\n",
    "                R.append([sum(x) for x in zip(R1,R2,R3)])\n",
    "\n",
    "    dist = []\n",
    "    index = []\n",
    "    for i in range(len(R)):          \n",
    "        norm = np.linalg.norm(np.asarray(position)-np.asarray(R[i]))\n",
    "        dist.append(norm)\n",
    "\n",
    "    for i in range(len(dist)):\n",
    "        if dist[i] <= sorted(dist)[1]:\n",
    "            index.append(i)\n",
    "            \n",
    "    NN = [R[i] for i in index]\n",
    "    \n",
    "    dis = position + np.inner(NN,lat)\n",
    "       \n",
    "          \n",
    "    for k in range(len(kpath)):\n",
    "        for iham in range(4):\n",
    "            for jham in range(4):\n",
    "                hop = hopping[iham][jham]\n",
    "                val = 0\n",
    "                for Rn in range(len(dis)):\n",
    "                    #print((sigma_hopping[iham][jham] * cmath.exp(-1j*np.inner(kpath[k],dis[Rn]))))\n",
    "                    val += cmath.exp(1j*np.inner(kpath[k],dis[Rn]))\n",
    "                \n",
    "                hamiltonian[iham][jham][k] = onsite[iham][jham] + hop * val\n",
    "        \n",
    "        hamiltonian[:,:,k] = 1/2*(hamiltonian[:,:,k] + hamiltonian[:,:,k].conj().T)\n",
    "\n",
    "        energy[:,k], eig_vects[:,:,k] = np.linalg.eigh(hamiltonian[:,:,k])[:]\n",
    "\n",
    "    \n",
    "    for i in range(4):\n",
    "        plt.plot(k_ticks,energy[i,:].real)\n",
    "    \n",
    "    plt.xlim(0,max(k_ticks))\n",
    "    \n",
    "    for i in range(len(k_segments[:])):\n",
    "        if k_segments[i-1][1] == k_segments[i][0]:\n",
    "            k_labels[k_segments[i-1][1]] = k_labels[k_segments[i][0]-1] + '|' + k_labels[k_segments[i][0]]\n",
    "            k_labels[k_segments[i][0]-1] = ''\n",
    "            plt.axvline(x=k_ticks[k_segments[i][0]],color='black')\n",
    "        else:\n",
    "            pass\n",
    "    \n",
    "    for i in range(len(k_labels)):\n",
    "        if k_labels[i] == \"GAMMA\":\n",
    "            k_labels[i] = \"\\Gamma\"\n",
    "        else:\n",
    "            pass\n",
    "\n",
    "    k_labels = [str(\"$\" + latx + \"$\") for latx in k_labels]\n",
    "    \n",
    "    plt.xticks([k_ticks[i] for i,x in enumerate(k_labels) if x != '$$'],[k_labels[i] for i,x in enumerate(k_labels) if x != '$$'])\n",
    "    \n",
    "    plt.show()\n",
    "\n",
    "interactive_plot = interact(solver, e_s=FloatSlider(value=4, min=-6, max=6, step=0.1, description='$\\epsilon_{s}$:'),\n",
    "                            e_p=FloatSlider(value=-2, min=-6, max=6, step=0.1, description='$\\epsilon_{p}$:'),\n",
    "                            t_s=FloatSlider(value=-0.5,min=-3, max=3, step=0.1,description='$t_{s}$:'),\n",
    "                            t_sp=FloatSlider(value=0.,min=-3, max=3, step=0.1,description='$t_{sp}$:'),\n",
    "                            t_p=FloatSlider(value=0.5,min=-3, max=3, step=0.1,description='$t_{p}$:'),\n",
    "                            t_p12=FloatSlider(value=0.,min=-3, max=3, step=0.1,description='$t_{p12}$:'),\n",
    "                            t_p13=FloatSlider(value=0.,min=-3, max=3, step=0.1,description='$t_{p13}$:'),\n",
    "                            t_p23=FloatSlider(value=0.,min=-3, max=3, step=0.1,description='$t_{p23}$:'),\n",
    "                            a=FloatSlider(value=1.0,min=0.5, max=4, step=0.05,description='a:'))\n",
    "interactive_plot"
   ]
  },
  {
   "cell_type": "code",
   "execution_count": 3,
   "metadata": {},
   "outputs": [
    {
     "data": {
      "application/vnd.jupyter.widget-view+json": {
       "model_id": "6071e39cef114788aceceae2b85b99e4",
       "version_major": 2,
       "version_minor": 0
      },
      "text/plain": [
       "interactive(children=(FloatSlider(value=4.0, description='$\\\\epsilon_{s}$:', max=6.0, min=-6.0), FloatSlider(v…"
      ]
     },
     "metadata": {},
     "output_type": "display_data"
    },
    {
     "data": {
      "text/plain": [
       "<function __main__.solver(e_s, e_p, t_s, t_sp, t_p, t_p12, t_p13, t_p23, a)>"
      ]
     },
     "execution_count": 3,
     "metadata": {},
     "output_type": "execute_result"
    }
   ],
   "source": [
    "import numpy as np\n",
    "import seekpath\n",
    "import matplotlib.pyplot as plt\n",
    "import matplotlib.ticker as ticker\n",
    "from ipywidgets import interact, FloatSlider\n",
    "import cmath\n",
    "\n",
    "def solver(e_s,e_p,t_s,t_sp,t_p,t_p12,t_p13,t_p23,a):\n",
    "    plt.rcParams.update({'font.size': 14})\n",
    "    fig, ax = plt.subplots(figsize=(5,5))\n",
    "    \n",
    "    ax.tick_params(axis='both',direction='in')\n",
    "    plt.ylabel('Energy')\n",
    "    \n",
    "    structure = ([[a/2,a/2,-a/2],[a/2,-a/2,a/2],[-a/2,a/2,a/2]],[[0,0,0]],[1])\n",
    "    hopping = np.array([[t_s,t_sp,t_sp,t_sp],[t_sp,t_p,t_p12,t_p13],[t_sp,t_p12,t_p,t_p23],[t_sp,t_p13,t_p23,t_p]])\n",
    "    #pi_hopping = np.array([[0,0,0,0],[0,t_ppi,0,0],[0,0,t_ppi,0],[0,0,0,t_ppi]])\n",
    "    onsite = np.array([[e_s,0,0,0],[0,e_p,0,0],[0,0,e_p,0],[0,0,0,e_p]])\n",
    "    k_path = seekpath.get_explicit_k_path(structure=structure)['explicit_kpoints_abs']\n",
    "    k_ticks = seekpath.get_explicit_k_path(structure=structure)['explicit_kpoints_linearcoord']\n",
    "    k_labels = seekpath.get_explicit_k_path(structure=structure)['explicit_kpoints_labels']\n",
    "    k_segments = seekpath.get_explicit_k_path(structure=structure)['explicit_segments']\n",
    "    hamiltonian = np.arange(16*len(k_ticks),dtype=complex).reshape(4,4,len(k_ticks))\n",
    "    energy = np.arange(4*len(k_ticks),dtype=complex).reshape(4,len(k_ticks))\n",
    "    eig_vects = np.arange(16*len(k_ticks),dtype=complex).reshape(4,4,len(k_ticks))\n",
    "    \n",
    "    lat = structure[0]\n",
    "    position = structure[1]\n",
    "    \n",
    "    G = np.zeros((3, 3))\n",
    "    G[0] = 2* np.pi * np.cross(lat[1], lat[2]) / (np.inner(\n",
    "            lat[0], np.cross(lat[1], lat[2])))\n",
    "    G[1] = 2* np.pi * np.cross(lat[2], lat[0]) / (np.inner(\n",
    "            lat[1], np.cross(lat[2], lat[0])))\n",
    "    G[2] =  2* np.pi * np.cross(lat[0], lat[1]) / (np.inner(\n",
    "            lat[2], np.cross(lat[0], lat[1])))\n",
    "    \n",
    "    kpath = np.inner(G,k_path/(2*np.pi)).T\n",
    "\n",
    "    \n",
    "    R = []\n",
    "    for dimx in range(-1,2):\n",
    "        for dimy in range(-1,2):\n",
    "            for dimz in range(-1,2):\n",
    "                R1 = [x * dimx for x in lat[0]]\n",
    "                R2 = [y * dimy for y in lat[1]]\n",
    "                R3 = [z * dimz for z in lat[2]]\n",
    "                R.append([sum(x) for x in zip(R1,R2,R3)])\n",
    "\n",
    "    dist = []\n",
    "    index = []\n",
    "    for i in range(len(R)):          \n",
    "        norm = np.linalg.norm(np.asarray(position)-np.asarray(R[i]))\n",
    "        dist.append(norm)\n",
    "\n",
    "    for i in range(len(dist)):\n",
    "        if dist[i] <= sorted(dist)[1]:\n",
    "            index.append(i)\n",
    "            \n",
    "    NN = [R[i] for i in index]\n",
    "    \n",
    "    dis = position + np.inner(NN,lat)\n",
    "       \n",
    "          \n",
    "    for k in range(len(kpath)):\n",
    "        for iham in range(4):\n",
    "            for jham in range(4):\n",
    "                hop = hopping[iham][jham]\n",
    "                val = 0\n",
    "                for Rn in range(len(dis)):\n",
    "                    #print((sigma_hopping[iham][jham] * cmath.exp(-1j*np.inner(kpath[k],dis[Rn]))))\n",
    "                    val += cmath.exp(1j*np.inner(kpath[k],dis[Rn]))\n",
    "                \n",
    "                hamiltonian[iham][jham][k] = onsite[iham][jham] + hop * val\n",
    "        \n",
    "        hamiltonian[:,:,k] = 1/2*(hamiltonian[:,:,k] + hamiltonian[:,:,k].conj().T)\n",
    "\n",
    "        energy[:,k], eig_vects[:,:,k] = np.linalg.eigh(hamiltonian[:,:,k])[:]\n",
    "\n",
    "    \n",
    "    for i in range(4):\n",
    "        plt.plot(k_ticks,energy[i,:].real)\n",
    "    \n",
    "    plt.xlim(0,max(k_ticks))\n",
    "    \n",
    "    for i in range(len(k_segments[:])):\n",
    "        if k_segments[i-1][1] == k_segments[i][0]:\n",
    "            k_labels[k_segments[i-1][1]] = k_labels[k_segments[i][0]-1] + '|' + k_labels[k_segments[i][0]]\n",
    "            k_labels[k_segments[i][0]-1] = ''\n",
    "            plt.axvline(x=k_ticks[k_segments[i][0]],color='black')\n",
    "        else:\n",
    "            pass\n",
    "    \n",
    "    for i in range(len(k_labels)):\n",
    "        if k_labels[i] == \"GAMMA\":\n",
    "            k_labels[i] = \"\\Gamma\"\n",
    "        else:\n",
    "            pass\n",
    "\n",
    "    k_labels = [str(\"$\" + latx + \"$\") for latx in k_labels]\n",
    "    \n",
    "    plt.xticks([k_ticks[i] for i,x in enumerate(k_labels) if x != '$$'],[k_labels[i] for i,x in enumerate(k_labels) if x != '$$'])\n",
    "    \n",
    "    plt.show()\n",
    "\n",
    "interactive_plot = interact(solver, e_s=FloatSlider(value=4, min=-6, max=6, step=0.1, description='$\\epsilon_{s}$:'),\n",
    "                            e_p=FloatSlider(value=-2, min=-6, max=6, step=0.1, description='$\\epsilon_{p}$:'),\n",
    "                            t_s=FloatSlider(value=-0.5,min=-3, max=3, step=0.1,description='$t_{s}$:'),\n",
    "                            t_sp=FloatSlider(value=0.,min=-3, max=3, step=0.1,description='$t_{sp}$:'),\n",
    "                            t_p=FloatSlider(value=0.5,min=-3, max=3, step=0.1,description='$t_{p}$:'),\n",
    "                            t_p12=FloatSlider(value=0.,min=-3, max=3, step=0.1,description='$t_{p12}$:'),\n",
    "                            t_p13=FloatSlider(value=0.,min=-3, max=3, step=0.1,description='$t_{p13}$:'),\n",
    "                            t_p23=FloatSlider(value=0.,min=-3, max=3, step=0.1,description='$t_{p23}$:'),\n",
    "                            a=FloatSlider(value=1.0,min=0.5, max=4, step=0.05,description='a:'))\n",
    "interactive_plot"
   ]
  },
  {
   "cell_type": "code",
   "execution_count": 1,
   "metadata": {},
   "outputs": [
    {
     "data": {
      "application/vnd.jupyter.widget-view+json": {
       "model_id": "aa652b9b14304aa4ab25080115611d0d",
       "version_major": 2,
       "version_minor": 0
      },
      "text/plain": [
       "interactive(children=(FloatSlider(value=4.0, description='$\\\\epsilon_{s}$:', max=6.0, min=-6.0), FloatSlider(v…"
      ]
     },
     "metadata": {},
     "output_type": "display_data"
    },
    {
     "data": {
      "text/plain": [
       "<function __main__.solver(e_s, e_p, t_s, t_sp, t_p, t_p12, t_p13, t_p23, a)>"
      ]
     },
     "execution_count": 1,
     "metadata": {},
     "output_type": "execute_result"
    }
   ],
   "source": [
    "import numpy as np\n",
    "import seekpath\n",
    "import matplotlib.pyplot as plt\n",
    "import matplotlib.ticker as ticker\n",
    "from ipywidgets import interact, FloatSlider\n",
    "import cmath\n",
    "\n",
    "def solver(e_s,e_p,t_s,t_sp,t_p,t_p12,t_p13,t_p23,a):\n",
    "    plt.rcParams.update({'font.size': 14})\n",
    "    fig, ax = plt.subplots(figsize=(5,5))\n",
    "    \n",
    "    ax.tick_params(axis='both',direction='in')\n",
    "    plt.ylabel('Energy')\n",
    "    \n",
    "    structure = ([[a/2,a/2,0],[a/2,0,a/2],[0,a/2,a/2]],[[0,0,0]],[1])\n",
    "    hopping = np.array([[t_s,t_sp,t_sp,t_sp],[t_sp,t_p,t_p12,t_p13],[t_sp,t_p12,t_p,t_p23],[t_sp,t_p13,t_p23,t_p]])\n",
    "    #pi_hopping = np.array([[0,0,0,0],[0,t_ppi,0,0],[0,0,t_ppi,0],[0,0,0,t_ppi]])\n",
    "    onsite = np.array([[e_s,0,0,0],[0,e_p,0,0],[0,0,e_p,0],[0,0,0,e_p]])\n",
    "    k_path = seekpath.get_explicit_k_path(structure=structure)['explicit_kpoints_abs']\n",
    "    k_ticks = seekpath.get_explicit_k_path(structure=structure)['explicit_kpoints_linearcoord']\n",
    "    k_labels = seekpath.get_explicit_k_path(structure=structure)['explicit_kpoints_labels']\n",
    "    k_segments = seekpath.get_explicit_k_path(structure=structure)['explicit_segments']\n",
    "    hamiltonian = np.arange(16*len(k_ticks),dtype=complex).reshape(4,4,len(k_ticks))\n",
    "    energy = np.arange(4*len(k_ticks),dtype=complex).reshape(4,len(k_ticks))\n",
    "    eig_vects = np.arange(16*len(k_ticks),dtype=complex).reshape(4,4,len(k_ticks))\n",
    "    \n",
    "    lat = structure[0]\n",
    "    position = structure[1]\n",
    "    \n",
    "    G = np.zeros((3, 3))\n",
    "    G[0] = 2* np.pi * np.cross(lat[1], lat[2]) / (np.inner(\n",
    "            lat[0], np.cross(lat[1], lat[2])))\n",
    "    G[1] = 2* np.pi * np.cross(lat[2], lat[0]) / (np.inner(\n",
    "            lat[1], np.cross(lat[2], lat[0])))\n",
    "    G[2] =  2* np.pi * np.cross(lat[0], lat[1]) / (np.inner(\n",
    "            lat[2], np.cross(lat[0], lat[1])))\n",
    "    \n",
    "    kpath = np.inner(G,k_path/(2*np.pi)).T\n",
    "\n",
    "    \n",
    "    R = []\n",
    "    for dimx in range(-1,2):\n",
    "        for dimy in range(-1,2):\n",
    "            for dimz in range(-1,2):\n",
    "                R1 = [x * dimx for x in lat[0]]\n",
    "                R2 = [y * dimy for y in lat[1]]\n",
    "                R3 = [z * dimz for z in lat[2]]\n",
    "                R.append([sum(x) for x in zip(R1,R2,R3)])\n",
    "\n",
    "    dist = []\n",
    "    index = []\n",
    "    for i in range(len(R)):          \n",
    "        norm = np.linalg.norm(np.asarray(position)-np.asarray(R[i]))\n",
    "        dist.append(norm)\n",
    "\n",
    "    for i in range(len(dist)):\n",
    "        if dist[i] <= sorted(dist)[1]:\n",
    "            index.append(i)\n",
    "            \n",
    "    NN = [R[i] for i in index]\n",
    "    \n",
    "    print(NN)\n",
    "    dis = position + np.inner(NN,lat)\n",
    "       \n",
    "          \n",
    "    for k in range(len(kpath)):\n",
    "        for iham in range(4):\n",
    "            for jham in range(4):\n",
    "                hop = hopping[iham][jham]\n",
    "                val = 0\n",
    "                for Rn in range(len(dis)):\n",
    "                    #print((sigma_hopping[iham][jham] * cmath.exp(-1j*np.inner(kpath[k],dis[Rn]))))\n",
    "                    val += cmath.exp(1j*np.inner(kpath[k],dis[Rn]))\n",
    "                \n",
    "                hamiltonian[iham][jham][k] = onsite[iham][jham] + hop * val\n",
    "        \n",
    "        hamiltonian[:,:,k] = 1/2*(hamiltonian[:,:,k] + hamiltonian[:,:,k].conj().T)\n",
    "\n",
    "        energy[:,k], eig_vects[:,:,k] = np.linalg.eigh(hamiltonian[:,:,k])[:]\n",
    "\n",
    "    \n",
    "    for i in range(4):\n",
    "        plt.plot(k_ticks,energy[i,:].real)\n",
    "    \n",
    "    plt.xlim(0,max(k_ticks))\n",
    "    \n",
    "    for i in range(len(k_segments[:])):\n",
    "        if k_segments[i-1][1] == k_segments[i][0]:\n",
    "            k_labels[k_segments[i-1][1]] = k_labels[k_segments[i][0]-1] + '|' + k_labels[k_segments[i][0]]\n",
    "            k_labels[k_segments[i][0]-1] = ''\n",
    "            plt.axvline(x=k_ticks[k_segments[i][0]],color='black')\n",
    "        else:\n",
    "            pass\n",
    "    \n",
    "    for i in range(len(k_labels)):\n",
    "        if k_labels[i] == \"GAMMA\":\n",
    "            k_labels[i] = \"\\Gamma\"\n",
    "        else:\n",
    "            pass\n",
    "\n",
    "    k_labels = [str(\"$\" + latx + \"$\") for latx in k_labels]\n",
    "    \n",
    "    plt.xticks([k_ticks[i] for i,x in enumerate(k_labels) if x != '$$'],[k_labels[i] for i,x in enumerate(k_labels) if x != '$$'])\n",
    "    \n",
    "    plt.show()\n",
    "\n",
    "interactive_plot = interact(solver, e_s=FloatSlider(value=4, min=-6, max=6, step=0.1, description='$\\epsilon_{s}$:'),\n",
    "                            e_p=FloatSlider(value=-2, min=-6, max=6, step=0.1, description='$\\epsilon_{p}$:'),\n",
    "                            t_s=FloatSlider(value=-0.5,min=-3, max=3, step=0.1,description='$t_{s}$:'),\n",
    "                            t_sp=FloatSlider(value=0.,min=-3, max=3, step=0.1,description='$t_{sp}$:'),\n",
    "                            t_p=FloatSlider(value=0.5,min=-3, max=3, step=0.1,description='$t_{p}$:'),\n",
    "                            t_p12=FloatSlider(value=0.,min=-3, max=3, step=0.1,description='$t_{p12}$:'),\n",
    "                            t_p13=FloatSlider(value=0.,min=-3, max=3, step=0.1,description='$t_{p13}$:'),\n",
    "                            t_p23=FloatSlider(value=0.,min=-3, max=3, step=0.1,description='$t_{p23}$:'),\n",
    "                            a=FloatSlider(value=1.0,min=0.5, max=4, step=0.05,description='a:'))\n",
    "interactive_plot"
   ]
  },
  {
   "cell_type": "code",
   "execution_count": null,
   "metadata": {},
   "outputs": [],
   "source": []
  }
 ],
 "metadata": {
  "kernelspec": {
   "display_name": "Python 3",
   "language": "python",
   "name": "python3"
  },
  "language_info": {
   "codemirror_mode": {
    "name": "ipython",
    "version": 3
   },
   "file_extension": ".py",
   "mimetype": "text/x-python",
   "name": "python",
   "nbconvert_exporter": "python",
   "pygments_lexer": "ipython3",
   "version": "3.8.5"
  }
 },
 "nbformat": 4,
 "nbformat_minor": 4
}
