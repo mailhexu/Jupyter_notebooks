{
 "cells": [
  {
   "cell_type": "markdown",
   "metadata": {},
   "source": [
    "# About this course"
   ]
  },
  {
   "cell_type": "markdown",
   "metadata": {},
   "source": [
    "This is an interactive course for learning the essentials of Crystallography. It covers several fundamental concepts, such as lattices, symmetry operations, and space groups (you'll learn what all of those mean soon), and comes equipped with an application (Ch. 7) that tells you the symmetry operations of any crystallographic file you choose to upload. The text follows the progression of Walter Borchardt-Ott's *Crystallography: An Introduction* (Third Edition). Along with text, this course uses images, questions, and interactive widgets to help you understand the information. "
   ]
  },
  {
   "cell_type": "markdown",
   "metadata": {},
   "source": [
    "### Credit\n",
    "Authors:\n",
    "* Freddy Farah, University of Pennsylvania\n",
    "* Pedram Tavadze, University of West Virginia\n",
    "\n",
    "\n",
    "Based on the text:\n",
    "\n",
    "> Ott-Borchardt, W. (1993). *Crystallography: An Introduction* (3rd ed.) (R. Gould, Trans.). Springer. \n",
    "<br>\n",
    "ISBN 978-3-642-16451-4"
   ]
  },
  {
   "cell_type": "markdown",
   "metadata": {},
   "source": [
    "### Contents\n",
    "1. Introduction\n",
    "2. Lattices and Crystal Structures\n",
    "3. Symmetries\n",
    "4. Bravais Lattices and Crystal Families\n",
    "5. Point Groups\n",
    "6. Space Groups\n",
    "7. Application"
   ]
  },
  {
   "cell_type": "markdown",
   "metadata": {},
   "source": [
    "### Installations\n",
    "To use the interactive elements in this notebook, you'll need to have the right Python packages installed. Do this by running the cells below. Installations may take a few minutes. "
   ]
  },
  {
   "cell_type": "code",
   "execution_count": null,
   "metadata": {},
   "outputs": [],
   "source": [
    "pip install numpy"
   ]
  },
  {
   "cell_type": "code",
   "execution_count": null,
   "metadata": {},
   "outputs": [],
   "source": [
    "pip install matplotlib"
   ]
  },
  {
   "cell_type": "code",
   "execution_count": null,
   "metadata": {},
   "outputs": [],
   "source": [
    "pip install widget_jsmol"
   ]
  },
  {
   "cell_type": "code",
   "execution_count": null,
   "metadata": {},
   "outputs": [],
   "source": [
    "pip install ipywidgets"
   ]
  },
  {
   "cell_type": "code",
   "execution_count": null,
   "metadata": {},
   "outputs": [],
   "source": [
    "pip install jupyter_contrib_nbextensions"
   ]
  },
  {
   "cell_type": "code",
   "execution_count": null,
   "metadata": {},
   "outputs": [],
   "source": [
    "!jupyter contrib nbextension install --user"
   ]
  },
  {
   "cell_type": "code",
   "execution_count": null,
   "metadata": {},
   "outputs": [],
   "source": [
    "!jupyter nbextension enable codefolding/main"
   ]
  },
  {
   "cell_type": "markdown",
   "metadata": {},
   "source": [
    "Close and reopen Jupyter Notebook before continuing. To test out all of these modules, make sure to read through **Interacting with the text.**"
   ]
  },
  {
   "cell_type": "markdown",
   "metadata": {},
   "source": [
    "### Interacting with the text"
   ]
  },
  {
   "cell_type": "markdown",
   "metadata": {},
   "source": [
    "**Images** are the most basic kind of media embedded in this course. Sometimes images are included in the text, while others require you to run some code for them to appear. Run the cell below to load a diagram of a crystal lattice and unit cell (these terms will be explained in the next chapter)."
   ]
  },
  {
   "cell_type": "markdown",
   "metadata": {},
   "source": [
    "> <span style=\"color:magenta\"> *Many of the media elements embedded in this course are executed by some ugly code. To hide or show the code in a cell, click the small gray arrow on the left tab of the cell.*"
   ]
  },
  {
   "cell_type": "code",
   "execution_count": 1,
   "metadata": {
    "code_folding": [
     0
    ],
    "scrolled": true
   },
   "outputs": [
    {
     "data": {
      "text/html": [
       "<img src=\"https://github.com/romerogroup/CrystalCompanion/blob/master/testimage.png?raw=true\"/>"
      ],
      "text/plain": [
       "<IPython.core.display.Image object>"
      ]
     },
     "execution_count": 1,
     "metadata": {},
     "output_type": "execute_result"
    }
   ],
   "source": [
    "#Load Image\n",
    "\n",
    "from IPython.display import Image as ipim\n",
    "ipim(url = 'https://github.com/romerogroup/CrystalCompanion/blob/master/testimage.png?raw=true')"
   ]
  },
  {
   "cell_type": "markdown",
   "metadata": {},
   "source": [
    "To help you quiz yourself while reading, **Knowledge Checks** will be included in each chapter, mainly at the end. You may read the question and answer either in your head or on paper before clicking \"show answer.\" Try it out with the question below."
   ]
  },
  {
   "cell_type": "code",
   "execution_count": null,
   "metadata": {
    "code_folding": [
     0
    ]
   },
   "outputs": [],
   "source": [
    "#Knowledge Check\n",
    "print('How many days are in a year?')\n",
    "import ipywidgets as widgets\n",
    "\n",
    "answer_button = widgets.Button(description = 'Show Answer')\n",
    "out = widgets.Output()\n",
    "\n",
    "def show_answer(self):\n",
    "    with out:\n",
    "        print('365')\n",
    "        \n",
    "answer_button.on_click(show_answer)\n",
    "widgets.HBox([answer_button, out])"
   ]
  },
  {
   "cell_type": "markdown",
   "metadata": {},
   "source": [
    "Another common media element used in this course is a **Jmol Widget**. Jmol is a program used to visualize crystal structures. Jmol widgets will allow you to interact with structures by changing views and applying symmetry operations. Try running the cell below to see a Jmol Widget. <br><br>\n",
    "Every time you load a Jmol Widget it will show the same default structure. To show the structure relevant to the lesson, click the *Load Structure* Button. In this example, you will see the unit cell for tugtupite. The other buttons allow you to apply operations like rotation, inversion, and roto-inversion, which we'll cover in Chapter 3. Clicking *Reset* will restore the structure to its original position. You can also use the selection bubbles to toggle spinning and cell edges. "
   ]
  },
  {
   "cell_type": "code",
   "execution_count": null,
   "metadata": {
    "code_folding": [
     0
    ]
   },
   "outputs": [],
   "source": [
    "#Load Jmol Widget\n",
    "from widget_jsmol import WidgetJmol\n",
    "import ipywidgets as widgets\n",
    "\n",
    "w = WidgetJmol()\n",
    "display(w)\n",
    "\n",
    "load_button = widgets.Button(description = 'Load Structure')\n",
    "rotate_button = widgets.Button(description = 'Rotate')\n",
    "invert_button = widgets.Button(description = 'Invert')\n",
    "rotoinversion_button = widgets.Button(description = 'Rotoinversion')\n",
    "reset_button = widgets.Button(description = 'Reset')\n",
    "symops_button = widgets.Button(description = 'List All SymOps')\n",
    "\n",
    "out = widgets.Output()\n",
    "\n",
    "def load_structure(self):\n",
    "    with out:\n",
    "        w.script = 'load https://raw.githubusercontent.com/romerogroup/CrystalCompanion/master/jmol_AMS_DATA_(2).cif'\n",
    "        \n",
    "def rotate(self):\n",
    "    with out:\n",
    "        w.script = 'rotate y 90 90'\n",
    "\n",
    "def invert(self):\n",
    "    with out:\n",
    "        w.script = 'invertSelected'\n",
    "        \n",
    "def rotoinversion(self):\n",
    "    with out:\n",
    "        w.script = 'rotate y 90 90; delay 0.5; invertSelected'\n",
    "        \n",
    "def symops(self):\n",
    "    with out:\n",
    "        w.script = 'show SYMOP'\n",
    "\n",
    "\n",
    "load_button.on_click(load_structure)\n",
    "rotate_button.on_click(rotate)\n",
    "invert_button.on_click(invert)\n",
    "rotoinversion_button.on_click(rotoinversion)\n",
    "reset_button.on_click(load_structure)\n",
    "symops_button.on_click(symops)\n",
    "\n",
    "bottom_row = widgets.HBox([rotate_button, invert_button, rotoinversion_button, out])\n",
    "top_row = widgets.HBox([load_button, reset_button, out])\n",
    "widgets.VBox([top_row, bottom_row])\n"
   ]
  },
  {
   "cell_type": "markdown",
   "metadata": {},
   "source": [
    "# What is Crystallography?"
   ]
  },
  {
   "cell_type": "markdown",
   "metadata": {},
   "source": [
    "[{\"metadata\":{},\"cell_type\":\"markdown\",\"source\":\"Crystallography is the study of the structure and properties of crystals. At a minimum, it covers fundamental geometric principles such as symmetry, coordinate vectors, and lattices. It also includes more applied topics such as ionic structures, close-packed solids, X-ray diffraction, and defects. This course will focus primarily on the geometry of crystals, allowing you to subsequently explore crystallography as it applies to your particular field. Crystallography itself is not an independent field of study as much as it is an essential piece of physics, chemistry, geology, materials science, and many other scientific fields.\"}]\n"
   ]
  },
  {
   "cell_type": "code",
   "execution_count": null,
   "metadata": {},
   "outputs": [],
   "source": []
  }
 ],
 "metadata": {
  "kernelspec": {
   "display_name": "Python 3",
   "language": "python",
   "name": "python3"
  },
  "language_info": {
   "codemirror_mode": {
    "name": "ipython",
    "version": 3
   },
   "file_extension": ".py",
   "mimetype": "text/x-python",
   "name": "python",
   "nbconvert_exporter": "python",
   "pygments_lexer": "ipython3",
   "version": "3.7.4"
  }
 },
 "nbformat": 4,
 "nbformat_minor": 2
}
