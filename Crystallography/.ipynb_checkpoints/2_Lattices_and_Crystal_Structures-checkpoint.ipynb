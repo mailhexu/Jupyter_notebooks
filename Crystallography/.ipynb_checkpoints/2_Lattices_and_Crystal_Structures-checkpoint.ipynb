{
 "cells": [
  {
   "cell_type": "markdown",
   "metadata": {},
   "source": [
    "# 2. Lattices and Crystal Structures"
   ]
  },
  {
   "cell_type": "markdown",
   "metadata": {},
   "source": [
    "## 2.1 Lattices"
   ]
  },
  {
   "cell_type": "markdown",
   "metadata": {},
   "source": [
    "Lattices are a mathematical concept that is created by gathering all the permutations of basis vectors. One can look at a lattice as a tiling of some object. Lattices can exist in one, two, or three dimensions. To represent a lattice in n dimensions one needs n basis vectors. The basis vectors are often referred to as translational vectors. Lattices in 1D, 2D, and 3D are called line, plane, and, space lattices respectively. The following figures show a line lattice and a plane lattice represented by basis vectors $\\vec{a}$ and $\\vec{b}(\\vec{b}\\nparallel\\vec{a})$."
   ]
  },
  {
   "cell_type": "markdown",
   "metadata": {},
   "source": [
    "![title](https://image.slidesharecdn.com/972b3102005cullitychapter2-090427075953-phpapp01/95/972-b3102005-cullity-chapter-2-2-728.jpg?cb=1240819335)"
   ]
  },
  {
   "cell_type": "markdown",
   "metadata": {},
   "source": [
    "If we introduce another vector $\\vec{c}$ not co-planar to $\\vec{a}$ and $\\vec{b}$, we can create a space lattice. "
   ]
  },
  {
   "cell_type": "markdown",
   "metadata": {},
   "source": [
    "![title](https://image.slidesharecdn.com/972b3102005cullitychapter2-090427075953-phpapp01/95/972-b3102005-cullity-chapter-2-3-728.jpg?cb=1240819335)"
   ]
  },
  {
   "cell_type": "markdown",
   "metadata": {},
   "source": [
    "There are three useful concepts in lattices, Lattice Point, Lattice Lines, and Lattice Planes. The following is a brief explanation and conventions of writing definitions. The examples will be on space lattices. All of these concepts are defined with respect to an origin of the lattic."
   ]
  },
  {
   "cell_type": "markdown",
   "metadata": {},
   "source": [
    "## 2.1.1 Lattice Points"
   ]
  },
  {
   "cell_type": "markdown",
   "metadata": {},
   "source": [
    "Every lattice point can be defined by the vector $\\tau = u\\vec{a}+v\\vec{b}+w\\vec{c}$. Most often $u$, $v$, $w$ are integers. As a convention lattice points are written as a triple $uvw$.The following shows the lattice points in two dimensions. Negative numbers are represented by bar."
   ]
  },
  {
   "attachments": {},
   "cell_type": "markdown",
   "metadata": {},
   "source": [
    "![title](http://pd.chem.ucl.ac.uk/pdnn/diff1/lattice.gif)"
   ]
  },
  {
   "cell_type": "markdown",
   "metadata": {},
   "source": [
    "## 2.1.2 Lattice Lines"
   ]
  },
  {
   "cell_type": "markdown",
   "metadata": {},
   "source": [
    "In Euclidean geometry, a line is defined by two lattice points. In a lattice, however, a line also defines all of the parallel lines to that line with the same lattice parameter (i.e. distance between two adjacent points on the are the same). Usually, lattice lines are represented with $[uvw]$ in a bracket (*e.g.* [1 2 5])."
   ]
  },
  {
   "cell_type": "markdown",
   "metadata": {},
   "source": [
    "![title](https://www.oreilly.com/library/view/engineering-physics/9788131775073/images/c03f001.png)"
   ]
  },
  {
   "cell_type": "markdown",
   "metadata": {},
   "source": [
    "## 2.1.3 Lattice Planes"
   ]
  },
  {
   "cell_type": "markdown",
   "metadata": {},
   "source": [
    "If we consider a plane intersecting the axes $x$, $y$, and $z$ at points m00, 0n0, and 00p. We define that plane as a triple in prantheses $(hkl)$, where $h$,$k$, and $l$ are chosen by multiplying the the least comomn multiplier of $m$, $n$, and $p$ with the reciprocal intercepts form $\\frac{1}{m}$, $\\frac{1}{n}$, and $\\frac{1}{p}$. "
   ]
  },
  {
   "cell_type": "markdown",
   "metadata": {},
   "source": [
    "![title](https://ars.els-cdn.com/content/image/3-s2.0-B9780123970145000055-b05-01-9780123970145.jpg?_)"
   ]
  },
  {
   "cell_type": "markdown",
   "metadata": {},
   "source": [
    "## 2.2 Crystal Structures"
   ]
  },
  {
   "cell_type": "markdown",
   "metadata": {},
   "source": [
    "A lattice is the best mathematical object to define a crystal structure. A crystal structure is created by combining a basis with a lattice. This means that the basis will be repeated in all of the points defining the lattice, creating periodic entities of the basis. In solid-state physics, we can use this concept to represent crystal structures. Using a suitable basis and lattice, we represent most of the crystal structures known to us. \n",
    "The following are examples of crystal structures defined by their basis and lattice. "
   ]
  },
  {
   "cell_type": "markdown",
   "metadata": {},
   "source": [
    "![title](https://cdn3.edurev.in/ApplicationImages/Temp/1611931_8eb5b11e-86fe-4219-83bf-592987dfc808_lg.PNG)"
   ]
  },
  {
   "cell_type": "markdown",
   "metadata": {},
   "source": [
    "![title](https://nanohub.org/wiki/CrystalViewerPage/Image:diamond.jpg)"
   ]
  },
  {
   "cell_type": "code",
   "execution_count": null,
   "metadata": {},
   "outputs": [],
   "source": []
  }
 ],
 "metadata": {
  "kernelspec": {
   "display_name": "Python 3",
   "language": "python",
   "name": "python3"
  },
  "language_info": {
   "codemirror_mode": {
    "name": "ipython",
    "version": 3
   },
   "file_extension": ".py",
   "mimetype": "text/x-python",
   "name": "python",
   "nbconvert_exporter": "python",
   "pygments_lexer": "ipython3",
   "version": "3.7.4"
  }
 },
 "nbformat": 4,
 "nbformat_minor": 2
}
