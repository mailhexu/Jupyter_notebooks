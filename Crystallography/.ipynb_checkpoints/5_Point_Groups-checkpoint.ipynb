{
 "cells": [
  {
   "cell_type": "markdown",
   "metadata": {},
   "source": [
    "# 5. Point Groups"
   ]
  },
  {
   "cell_type": "markdown",
   "metadata": {},
   "source": [
    "A **point group** is the group of all of the mirror planes, rotation axes, and inversion centers of a crystal, i.e. the symmetry operations that leave at least one point unmoved. Different crystals that possess the same rotation, reflection, and inversion symmetries are said to belong to the same point group. "
   ]
  },
  {
   "cell_type": "markdown",
   "metadata": {},
   "source": [
    "In the previous chapter, we determined the space group of highest symmetry for a few of the Bravais lattices. We can easily find the point groups of highest symmetry for each crystal system by removing any translational symmetry, meaning we can also ignore the centerting type. These are listed for each crystal system in the table below, on the left half of the \"Point groups\" column."
   ]
  },
  {
   "cell_type": "markdown",
   "metadata": {
    "code_folding": []
   },
   "source": [
    "![title](https://raw.githubusercontent.com/romerogroup/CrystalCompanion/master/pointgroups.PNG)"
   ]
  },
  {
   "cell_type": "markdown",
   "metadata": {},
   "source": [
    "Each highest-symmetry group contains at least one subgroup of lower symmetry. In the triclinic system, for example, the only subgroup of $\\overline{1}$ is $1$. Moving on to the monoclinic system, $2/m$ has the subgroups $m$, $2$, $\\overline{1}$, and $1$... but $\\overline{1}$ and $1$ belong to the triclinic system. If we continue this process until the cubic lattice, we will have identified all 32 unique point groups*."
   ]
  },
  {
   "cell_type": "markdown",
   "metadata": {},
   "source": [
    "> *There are 32 unique _crystallographic_ point groups. Point symmetry is also heavily used to describe molecules, which have more allowable symmetries (e.g. five-fold rotations) and thus a greater number of unique point groups."
   ]
  },
  {
   "cell_type": "markdown",
   "metadata": {},
   "source": [
    "## Notation"
   ]
  },
  {
   "cell_type": "markdown",
   "metadata": {},
   "source": [
    "Most of the point group symbols are over defined, so in many cases, they are abbreviated (e.g. 4/m 2/m 2/m $\\rightarrow$ 4/mmm). This is done in two ways:"
   ]
  },
  {
   "cell_type": "markdown",
   "metadata": {},
   "source": [
    "1. Operations that are implied by other operations are often left out. (e.g. a 6-fold rotation axis implies a parallel 2-fold rotation axis, so 6/m 2/m 2/m $\\rightarrow$ 6/mmm.)\n",
    "2. The following conventions are used to describe the directions of symmetry elements:\n",
    "> * $AB$ or $ABC$: A-fold, B-fold, and (when included) C-fold rotation axes which are perpendicular to each other (e.g $23$, $422$)\n",
    "> * $Nm$: N-fold rotation axis and mirror planes parallel to it (e.g. $3m$).\n",
    "> * $\\overline{N}m$: N-fold improper rotations axis and mirror planes parallel to it (e.g. $\\overline{6}m2$)\n",
    "> * $N/mm$: N-fold rotation axis and mirror planes both parallel and perpendicular to it (e.g. $4/mmm$)"
   ]
  },
  {
   "cell_type": "markdown",
   "metadata": {},
   "source": [
    "This notation style is called the *International* or *Hermann-Mauguin* notation. Alternatively, point groups are often referred to by their *Schonflies* symbol, characterized by an uppercase letter with subscripted letters and numbers (e.g. $C_{2}$, $D_{6h}$). But unlike International symbols, Schonflies symbols are not useful for describing space groups. We won't give them much attention in this text, but if you do encounter them you can easily find tables online to translate between Schonflies and International. "
   ]
  },
  {
   "cell_type": "markdown",
   "metadata": {},
   "source": [
    "Don't worry too much about understanding all of the nuances of point group notation. You will rarely if ever, need to be able to discern all of the symmetries of a crystal from its Hermann-Mauguin symbol yourself. The Bilbao Crystallographic Server is one of many helpful resources that lists all of the symmetry operations for each point group, among other information:"
   ]
  },
  {
   "cell_type": "markdown",
   "metadata": {},
   "source": [
    "https://www.cryst.ehu.es/"
   ]
  },
  {
   "cell_type": "code",
   "execution_count": null,
   "metadata": {},
   "outputs": [],
   "source": []
  }
 ],
 "metadata": {
  "kernelspec": {
   "display_name": "Python 3",
   "language": "python",
   "name": "python3"
  },
  "language_info": {
   "codemirror_mode": {
    "name": "ipython",
    "version": 3
   },
   "file_extension": ".py",
   "mimetype": "text/x-python",
   "name": "python",
   "nbconvert_exporter": "python",
   "pygments_lexer": "ipython3",
   "version": "3.7.4"
  }
 },
 "nbformat": 4,
 "nbformat_minor": 2
}
