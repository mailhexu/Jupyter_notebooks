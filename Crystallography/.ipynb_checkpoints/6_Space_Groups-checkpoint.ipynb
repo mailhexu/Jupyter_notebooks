{
 "cells": [
  {
   "cell_type": "markdown",
   "metadata": {},
   "source": [
    "# 6. Space Groups"
   ]
  },
  {
   "cell_type": "markdown",
   "metadata": {},
   "source": [
    "Many important physical properties, from optical activity to electronic structure, depend only on a crystal's point symmetries. However, we cannot generate all atomic/molecular positions in a crystal structure without considering translational symmetries as well. A **space group** includes _all_ of the symmetries a crystal possesses, including _glide planes_ and _screw axes_."
   ]
  },
  {
   "cell_type": "markdown",
   "metadata": {},
   "source": [
    "## Glide Planes"
   ]
  },
  {
   "cell_type": "markdown",
   "metadata": {},
   "source": [
    "A **glide reflection** is a compound symmetry operation consisting of a reflection followed by a translation parallel to the reflection plane. The corresponding symmetry element is called a **glide plane**, and the translation vector is called the **glide component.**"
   ]
  },
  {
   "cell_type": "markdown",
   "metadata": {},
   "source": [
    "In the Jmol widget below, you will find two FCC (Cubic F-lattice) unit cells side by side. If we reflect the selected lattice points across the plane $(040)$ and then translate them to the right by $\\frac{\\vec{a}}{2}$, they will coincide with the atoms in the central plane. Try for yourself:"
   ]
  },
  {
   "cell_type": "code",
   "execution_count": 3,
   "metadata": {
    "code_folding": [
     0
    ]
   },
   "outputs": [
    {
     "data": {
      "application/vnd.jupyter.widget-view+json": {
       "model_id": "358b09dc371748ff87c9da0fec4267cd",
       "version_major": 2,
       "version_minor": 0
      },
      "text/plain": [
       "WidgetJmol()"
      ]
     },
     "metadata": {},
     "output_type": "display_data"
    },
    {
     "data": {
      "application/vnd.jupyter.widget-view+json": {
       "model_id": "0593b19350e044b2971f5d9d8607f78d",
       "version_major": 2,
       "version_minor": 0
      },
      "text/plain": [
       "VBox(children=(HBox(children=(Button(description='Load Structure', style=ButtonStyle()), Button(description='R…"
      ]
     },
     "metadata": {},
     "output_type": "display_data"
    }
   ],
   "source": [
    "#Load Jmol Widget 6.1\n",
    "from widget_jsmol import WidgetJmol\n",
    "import ipywidgets as widgets\n",
    "\n",
    "a = WidgetJmol()\n",
    "display(a)\n",
    "\n",
    "load_button = widgets.Button(description = 'Load Structure')\n",
    "mirror_button = widgets.Button(description = 'Reflect Across Plane')\n",
    "translate_button = widgets.Button(description = 'Translate a/2')\n",
    "reset_button = widgets.Button(description = 'Reset')\n",
    "\n",
    "out = widgets.Output()\n",
    "\n",
    "def load_structure(self):\n",
    "    with out:\n",
    "        a.script = 'load https://raw.githubusercontent.com/romerogroup/CrystalCompanion/master/Cu.cif'\n",
    "        a.script = 'load https://raw.githubusercontent.com/romerogroup/CrystalCompanion/master/glide.spt'\n",
    "        a.script = 'set picking rotate'\n",
    "\n",
    "def reflect(self):\n",
    "    with out:\n",
    "        a.script = 'invertSelected HKL {0 4 0}'\n",
    "\n",
    "def translate(self):\n",
    "    with out:\n",
    "        a.script = 'translateSelected {1/2 0 0}'\n",
    "\n",
    "load_button.on_click(load_structure)\n",
    "mirror_button.on_click(reflect)\n",
    "translate_button.on_click(translate)\n",
    "reset_button.on_click(load_structure)\n",
    "\n",
    "bottom_row = widgets.HBox([mirror_button, translate_button, out])\n",
    "top_row = widgets.HBox([load_button, reset_button, out])\n",
    "widgets.VBox([top_row, bottom_row])"
   ]
  },
  {
   "cell_type": "markdown",
   "metadata": {},
   "source": [
    "The centering type is always included in the space group symbol and implies several glide planes on its own. In addition, the following symbols are used to define glide planes based on their glide components:\n",
    "* **a, b,** or **c**: Glide component $\\frac{\\vec{a}}{2}$, $\\frac{\\vec{b}}{2}$, or $\\frac{\\vec{c}}{2}$ respectively.\n",
    "* **e**: A glide plane with components in both of its directions, e.g. an xy-plane with glide components $\\frac{\\vec{a}}{2}$ and $\\frac{\\vec{b}}{2}$.\n",
    "* **n**: Diagonal glide component $\\frac{1}{2}(\\vec{\\tau_{1}} \\pm \\vec{\\tau_2})$\n",
    "* **d**: \"Diamond glide\" $\\frac{1}{4}(\\vec{\\tau_{1}} \\pm \\vec{\\tau_2})$"
   ]
  },
  {
   "cell_type": "markdown",
   "metadata": {},
   "source": [
    "## Screw Axes"
   ]
  },
  {
   "cell_type": "markdown",
   "metadata": {},
   "source": [
    "A **screw rotation** is a compound symmetry operation comprised of a rotation followed by a translation parallel to the screw component. The corresponding symmetry element is a **screw axis,** and the translation vector is the **screw component.** Screw axes follow the right-hand rule. A counter-clockwise rotation in the xy-plane corresponds to a translation in the +z direction, and so on."
   ]
  },
  {
   "cell_type": "markdown",
   "metadata": {},
   "source": [
    "In I-type lattices, for example, the corner lattice points are related to the central lattice points by screw symmetry. Let's demonstrate this using the BCC unit cell in the Jmol widget below. The corner atom we've selected coincides with the central atom following:\n",
    "1. A 180-degree rotation about the axis 1/4,z,3/4 (yellow arrow)\n",
    "2. A translation $\\frac{\\vec{b}}{2}$"
   ]
  },
  {
   "cell_type": "code",
   "execution_count": 2,
   "metadata": {
    "code_folding": [
     0
    ]
   },
   "outputs": [
    {
     "data": {
      "application/vnd.jupyter.widget-view+json": {
       "model_id": "70bfdb2915db472ebf8cc54e6a5cda3d",
       "version_major": 2,
       "version_minor": 0
      },
      "text/plain": [
       "WidgetJmol()"
      ]
     },
     "metadata": {},
     "output_type": "display_data"
    },
    {
     "data": {
      "application/vnd.jupyter.widget-view+json": {
       "model_id": "3ce3a1792a524ade810cb5556fda78dc",
       "version_major": 2,
       "version_minor": 0
      },
      "text/plain": [
       "VBox(children=(HBox(children=(Button(description='Load Structure', style=ButtonStyle()), Button(description='R…"
      ]
     },
     "metadata": {},
     "output_type": "display_data"
    }
   ],
   "source": [
    "#Load Jmol Widget 6.2\n",
    "from widget_jsmol import WidgetJmol\n",
    "import ipywidgets as widgets\n",
    "\n",
    "b = WidgetJmol()\n",
    "display(b)\n",
    "\n",
    "load_button = widgets.Button(description = 'Load Structure')\n",
    "rotate_button = widgets.Button(description = 'Rotate 2-fold')\n",
    "translate_button = widgets.Button(description = 'Translate b/2')\n",
    "reset_button = widgets.Button(description = 'Reset')\n",
    "\n",
    "out = widgets.Output()\n",
    "\n",
    "def load_structure(self):\n",
    "    with out:\n",
    "        b.script = 'load https://raw.githubusercontent.com/romerogroup/CrystalCompanion/master/Cu.cif'\n",
    "        b.script = 'load https://raw.githubusercontent.com/romerogroup/CrystalCompanion/master/screw.spt'\n",
    "        b.script = 'set picking rotate'\n",
    "\n",
    "def rotate(self):\n",
    "    with out:\n",
    "        b.script = 'rotateSelected {1/4 0 3/4} {1/4 1 3/4} 180 180'\n",
    "\n",
    "def translate(self):\n",
    "    with out:\n",
    "        b.script = 'translateSelected {0 1/2 0}'\n",
    "\n",
    "load_button.on_click(load_structure)\n",
    "rotate_button.on_click(rotate)\n",
    "translate_button.on_click(translate)\n",
    "reset_button.on_click(load_structure)\n",
    "\n",
    "bottom_row = widgets.HBox([rotate_button, translate_button, out])\n",
    "top_row = widgets.HBox([load_button, reset_button, out])\n",
    "widgets.VBox([top_row, bottom_row])"
   ]
  },
  {
   "cell_type": "markdown",
   "metadata": {},
   "source": [
    "In this case, the screw component was one half of a lattice translation, or $\\frac{1}{2}\\vec{\\tau}$. A rotation axis of order $X$ may have any screw component $\\frac{\\sigma}{X} \\vec{\\tau}$, where $\\sigma$ is an integer less than $X$. The symbol for a screw axis is $X_\\sigma$. Let's read a few symbols as examples:\n",
    "* $2_0$ is the same as a 2-fold rotation axis. $2_1$ is a two-fold rotation followed by a translation $\\frac{1}{2}\\vec{\\tau}$, just like the animation.\n",
    "* $3_0$ is the same as $3$. $3_{1}$ is $3$ followed by $\\frac{1}{3}\\vec{\\tau}$. $3_2$ is $3$ followed by $\\frac{2}{3}\\vec{\\tau}$.\n",
    "* For $X = 4$, we have $4_0$ (a 4-fold rotation axis), $4_1$, $4_2$, and $4_3$, with screw components 0, $\\frac{1}{4}\\vec{\\tau}$, $\\frac{2}{4}\\vec{\\tau}$, and $\\frac{3}{4}\\vec{\\tau}$.\n",
    "* And so on for $X = 6$"
   ]
  },
  {
   "cell_type": "markdown",
   "metadata": {},
   "source": [
    "## The 230 Space Groups"
   ]
  },
  {
   "cell_type": "markdown",
   "metadata": {},
   "source": [
    "Just like the 32 point groups can be derived from the point groups of highest symmetry for each crystal system, all of the space groups can be derived from the space groups of highest symmetry for each Bravais lattice, this time considering that mirror planes and rotation axes can be replaced by glide planes and screw axes. And voila, 230 unique space groups: https://en.wikipedia.org/wiki/List_of_space_groups"
   ]
  },
  {
   "cell_type": "markdown",
   "metadata": {},
   "source": [
    "If it wasn't necessary to remember the symmetries of all 32 points groups, then that certainly isn't the case for the 230 space groups. In fact, space groups are often referred to by their list number (1 - 230) rather than their space group symbol. A crystal can possess as many as 192 space group symmetries, all of which can be found on the Bilbao Crystallographic Server: https://www.cryst.ehu.es/cryst/get_gen.html"
   ]
  },
  {
   "cell_type": "markdown",
   "metadata": {},
   "source": [
    "## Representation of Symmetry Operations"
   ]
  },
  {
   "cell_type": "markdown",
   "metadata": {},
   "source": [
    "The International symbols that we've been using are a great shorthand way to write symmetry operations and groups of symmetries. But it takes an extra step of thinking to apply them mathematically to points in space, and they sometimes lack detail about the direction of an axis or plane. When applying *individual* symmetry operations scientists will often use one of three forms: *Seitz, x,y,z,*, and *matrix.*"
   ]
  },
  {
   "cell_type": "markdown",
   "metadata": {},
   "source": [
    "### Seitz"
   ]
  },
  {
   "cell_type": "markdown",
   "metadata": {},
   "source": [
    "_Seitz_ symbols have the form {R | t}, where R is the rotation element and t is the translation element. The R-part similar to the international symbol; a number indicates a rotation axis, a negative number indicates a rotoinversion axis, and $m$ indicates a mirror plane. The symbol is subscripted with the vector of the rotation axis or the normal vector of the mirror plane. For rotations $X > 2$, a superscript + or - indicates the direction of the rotation. The t-part is just the translation in each of the three directions. So for a $2_1$ screw axis in the [011] direction, the Seitz symbol would be {2$_{011}$ | 0 1/2 1/2}."
   ]
  },
  {
   "cell_type": "markdown",
   "metadata": {},
   "source": [
    "* PROS: Provides greater detail about a symmetry operation while still making it easy to visualize.\n",
    "* CONS: Cannot be applied directly to a coordinate vector."
   ]
  },
  {
   "cell_type": "markdown",
   "metadata": {},
   "source": [
    "### x,y,z "
   ]
  },
  {
   "cell_type": "markdown",
   "metadata": {},
   "source": [
    "_Triplet_ or _x,y,z_ form indicates exactly what happens to the coordinates of a point when a particular symmetry operation is applied. For both x,y,z and matrix operations it is easier to define the unit cell from -1/2 to 1/2 in each direction instead of 0 to 1. That way an inversion can be written as -x,-y,-z. "
   ]
  },
  {
   "cell_type": "markdown",
   "metadata": {},
   "source": [
    "As another example, a 90 degree rotation about the z-axis would cause the x-position of a point to become its y-position and the y-position of a point to become its negative x-position, leaving the z-position unchanged. This is written as y,-x,z. Translations are written as addition or subtraction, e.g. x+$\\frac{1}{2}$,y,z-$\\frac{1}{4}$."
   ]
  },
  {
   "cell_type": "markdown",
   "metadata": {},
   "source": [
    "* PROS: Concise, straightforward description of exactly how the operation changes a point's coordinates.\n",
    "* CONS: Less obvious for visualizing the operation. Easy to apply to a coordinate vector by hand but not convenient for a computer. "
   ]
  },
  {
   "cell_type": "markdown",
   "metadata": {},
   "source": [
    "### Matrix"
   ]
  },
  {
   "cell_type": "markdown",
   "metadata": {},
   "source": [
    "All point operations can be represented as a transformation matrix $M$, and all translations as a vector $t$. This makes it very easy to apply symmetry operations to any 3D coordinate vector $r$ by carrying out $r' = Mr + t$."
   ]
  },
  {
   "cell_type": "markdown",
   "metadata": {},
   "source": [
    "The identity matrix, as you already know, is $I = \\begin{pmatrix}\n",
    "1 & 0 & 0 \\\\\n",
    "0 & 1 & 0 \\\\\n",
    "0 & 0 & 1 \\\\ \\end{pmatrix}$. The inversion matrix is $\\overline{I} = \\begin{pmatrix}\n",
    "-1 & 0 & 0 \\\\\n",
    "0 & -1 & 0 \\\\\n",
    "0 & 0 & -1 \\\\ \\end{pmatrix}$. "
   ]
  },
  {
   "cell_type": "markdown",
   "metadata": {},
   "source": [
    "Some rotation matrices can be derived intuitively. If we consider the same 90-degree rotation as earlier, we can interpret y,-x,z as $R = \\begin{pmatrix}\n",
    "0 & 1 & 0 \\\\\n",
    "-1 & 0 & 0 \\\\\n",
    "0 & 0 & 1 \\\\ \\end{pmatrix}$. "
   ]
  },
  {
   "cell_type": "markdown",
   "metadata": {},
   "source": [
    "Others are less intuitive, especially for diagonal rotation axes. But with one general formula we can find the matrix of any rotation of angle $\\theta$ about an axis $\\vec{u} = (u_x, u_y, u_z)$:"
   ]
  },
  {
   "cell_type": "markdown",
   "metadata": {},
   "source": [
    "![title](https://wikimedia.org/api/rest_v1/media/math/render/svg/f259f80a746ee20d481f9b7f600031084358a27c)"
   ]
  },
  {
   "cell_type": "markdown",
   "metadata": {},
   "source": [
    "Two or more transformation matrices can be compounded using multiplication. Thus, a rotoinversion matrix is $\\overline{R} = R \\cdot \\overline{I}$. Remeber than any mirror plane can be represented as a rotoinversion axis. "
   ]
  },
  {
   "cell_type": "markdown",
   "metadata": {},
   "source": [
    "Rotation axes and mirror planes can be turned into screw axes and glide planes by adding a translation vector $t$ following matrix multiplication. Sometimes $M$ and $t$ are written separately; sometimes $t$ is included as a fourth column in $M$ for shorthandedness. "
   ]
  },
  {
   "cell_type": "markdown",
   "metadata": {},
   "source": [
    "$\\begin{pmatrix}\n",
    "-1 & 0 & 0 \\\\\n",
    "0 & -1 & 0 \\\\\n",
    "0 & 0 & 1 \\\\ \\end{pmatrix} \n",
    "\\quad + \\quad\n",
    "\\begin{pmatrix}\n",
    "0 \\\\ \\frac{1}{2} \\\\ \\frac{1}{2}\n",
    "\\end{pmatrix} \n",
    "\\quad \\longleftrightarrow \\quad\n",
    "\\begin{pmatrix}\n",
    "-1 & 0 & 0 & \\quad 0 \\\\\n",
    "0 & -1 & 0  & \\quad \\frac{1}{2}\\\\\n",
    "0 & 0 & 1 & \\quad \\frac{1}{2}\\\\ \\end{pmatrix}$"
   ]
  },
  {
   "cell_type": "markdown",
   "metadata": {},
   "source": [
    "* PROS: Very efficient to apply to a coordinate vector. Easy to convert to and from all other forms.\n",
    "* CONS: Not concise. Difficult to visualize the operation."
   ]
  }
 ],
 "metadata": {
  "kernelspec": {
   "display_name": "Python 3",
   "language": "python",
   "name": "python3"
  },
  "language_info": {
   "codemirror_mode": {
    "name": "ipython",
    "version": 3
   },
   "file_extension": ".py",
   "mimetype": "text/x-python",
   "name": "python",
   "nbconvert_exporter": "python",
   "pygments_lexer": "ipython3",
   "version": "3.7.4"
  }
 },
 "nbformat": 4,
 "nbformat_minor": 2
}
