{
 "cells": [
  {
   "cell_type": "markdown",
   "metadata": {},
   "source": [
    "# 2. Lattices and Crystal Structures"
   ]
  },
  {
   "cell_type": "markdown",
   "metadata": {},
   "source": [
    "## 2.1 Lattices"
   ]
  },
  {
   "cell_type": "markdown",
   "metadata": {},
   "source": [
    "Lattices are a mathematical concept that is created by gathering all the permutations of basis vectors. One can look at a lattice as a tiling of some object. Lattices can exist in one, two, or three dimensions. To represent a lattice in n dimensions one needs n basis vectors. The basis vectors are often referred to as translational vectors. Lattices in 1D, 2D, and 3D are called line, plane, and, space lattices respectively. The following figures show a line lattice and a plane lattice represented by basis vectors $\\vec{a}$ and $\\vec{b}(\\vec{b}\\nparallel\\vec{a})$."
   ]
  },
  {
   "cell_type": "markdown",
   "metadata": {},
   "source": [
    "![title](https://image.slidesharecdn.com/972b3102005cullitychapter2-090427075953-phpapp01/95/972-b3102005-cullity-chapter-2-2-728.jpg?cb=1240819335)"
   ]
  },
  {
   "cell_type": "markdown",
   "metadata": {},
   "source": [
    "If we introduce another vector $\\vec{c}$ not co-planar to $\\vec{a}$ and $\\vec{b}$, we can create a space lattice. The typical definition of this vector is that is has to follow the so called, right hand rule, which means that $\\vec{c} = \\vec{a} \\times \\vec{b}$. "
   ]
  },
  {
   "cell_type": "markdown",
   "metadata": {},
   "source": [
    "![title](https://image.slidesharecdn.com/972b3102005cullitychapter2-090427075953-phpapp01/95/972-b3102005-cullity-chapter-2-3-728.jpg?cb=1240819335)"
   ]
  },
  {
   "cell_type": "markdown",
   "metadata": {},
   "source": [
    "There are three useful concepts in lattices, Lattice Point, Lattice Lines, and Lattice Planes. The following is a brief explanation and conventions of writing definitions. The examples will be on space lattices. All of these concepts are defined with respect to an origin of the lattic."
   ]
  },
  {
   "cell_type": "markdown",
   "metadata": {},
   "source": [
    "### 2.1.1 Lattice Points"
   ]
  },
  {
   "cell_type": "markdown",
   "metadata": {},
   "source": [
    "Every lattice point can be defined by the vector $\\tau = u\\vec{a}+v\\vec{b}+w\\vec{c}$. Most often $u$, $v$, $w$ are integers. As a convention lattice points are written as a triple $uvw$.The following shows the lattice points in two dimensions. Negative numbers are represented by bar."
   ]
  },
  {
   "cell_type": "markdown",
   "metadata": {},
   "source": [
    "![title](http://pd.chem.ucl.ac.uk/pdnn/diff1/lattice.gif)"
   ]
  },
  {
   "cell_type": "markdown",
   "metadata": {},
   "source": [
    "### 2.1.2 Lattice Lines"
   ]
  },
  {
   "cell_type": "markdown",
   "metadata": {},
   "source": [
    "In Euclidean geometry, a line is defined by two lattice points. In a lattice, however, a line also defines all of the parallel lines to that line with the same lattice parameter (i.e. distance between two adjacent points on the are the same). Usually, lattice lines are represented with $[uvw]$ in a bracket (*e.g.* [1 2 5])."
   ]
  },
  {
   "cell_type": "markdown",
   "metadata": {},
   "source": [
    "![title](https://www.oreilly.com/library/view/engineering-physics/9788131775073/images/c03f001.png)"
   ]
  },
  {
   "cell_type": "markdown",
   "metadata": {},
   "source": [
    "### 2.1.3 Lattice Planes"
   ]
  },
  {
   "cell_type": "markdown",
   "metadata": {},
   "source": [
    "If we consider a plane intersecting the axes $x$, $y$, and $z$ at points m00, 0n0, and 00p. We define that plane as a triple in prantheses $(hkl)$, where $h$,$k$, and $l$ are chosen by multiplying the the least comomn multiplier of $m$, $n$, and $p$ with the reciprocal intercepts form $\\frac{1}{m}$, $\\frac{1}{n}$, and $\\frac{1}{p}$. "
   ]
  },
  {
   "cell_type": "markdown",
   "metadata": {},
   "source": [
    "![title](https://ars.els-cdn.com/content/image/3-s2.0-B9780123970145000055-b05-01-9780123970145.jpg?_)"
   ]
  },
  {
   "cell_type": "markdown",
   "metadata": {},
   "source": [
    "A very useful concept in crystallography is the miller index. To better define the miller indices we need to introduce the reciprocal lattice. "
   ]
  },
  {
   "cell_type": "markdown",
   "metadata": {},
   "source": [
    "## 2.2 Reciprocal Lattice"
   ]
  },
  {
   "cell_type": "markdown",
   "metadata": {},
   "source": [
    "Reciprocal lattice is the Fourier transform of another lattice. A reciprocal lattice has every property that we have defined in this chapter. To derive the reciprocal lattice of a lattice defined by lattice vectors a, b, and c, one has to simply follow the following formulas.  \n",
    "\n",
    "$\\textbf{a}^\\ast = \\frac{2\\pi}{\\textbf{a}.(\\textbf{b} \\times \\textbf{c})}\\textbf{b} \\times \\textbf{c}$\n",
    "\n",
    "$\\textbf{b}^\\ast = \\frac{2\\pi}{\\textbf{a}.(\\textbf{b} \\times \\textbf{c})}\\textbf{c} \\times \\textbf{a}$\n",
    "\n",
    "$\\textbf{c}^\\ast = \\frac{2\\pi}{\\textbf{a}.(\\textbf{b} \\times \\textbf{c})}\\textbf{a} \\times \\textbf{b}$\n",
    "\n",
    "Any vector in the reciprocal lattice can be defined using these vectors. \n"
   ]
  },
  {
   "cell_type": "markdown",
   "metadata": {},
   "source": [
    "This cell parameters as usually defined by two different but consistent methods.\n",
    "\n",
    "+ Each one of the cell parameter, $\\textbf{a}$, $\\textbf{b}$, $\\textbf{c}$ is defined as a vector in cartesian coordinates.\n",
    "\n",
    "+ As the magnitude of each vector, $a$, $b$, $c$ and the corresponding angles between them, as in the following figure"
   ]
  },
  {
   "cell_type": "code",
   "execution_count": 118,
   "metadata": {},
   "outputs": [],
   "source": [
    "import numpy as np\n",
    "from numpy import *\n",
    "from matplotlib import pyplot as plt\n",
    "from mpl_toolkits.mplot3d import Axes3D\n",
    "from matplotlib.patches import FancyArrowPatch\n",
    "from mpl_toolkits.mplot3d.art3d import Poly3DCollection\n",
    "from mpl_toolkits.mplot3d import proj3d\n",
    "import ipywidgets as widgets"
   ]
  },
  {
   "cell_type": "code",
   "execution_count": 131,
   "metadata": {},
   "outputs": [],
   "source": [
    "#The following class has been modified from ase\n",
    "class Crystalcell():\n",
    "    \n",
    "    def __init__(self):\n",
    "        return\n",
    "    \n",
    "    def unit_vector(self, x):\n",
    "        \"\"\"Return a unit vector in the same direction as x.\"\"\"\n",
    "        y = np.array(x, dtype='float')\n",
    "        return y / np.linalg.norm(y)\n",
    "\n",
    "    def angle(self, x, y):\n",
    "        \"\"\"Return the angle between vectors a and b in degrees.\"\"\"\n",
    "        return arccos(np.dot(x, y) / (np.linalg.norm(x) * np.linalg.norm(y))) * 180. / pi\n",
    "\n",
    "    def cell_to_cellpar(self, cell, radians=False):\n",
    "        \"\"\"Returns the cell parameters [a, b, c, alpha, beta, gamma].\"\"\"\n",
    "        lengths = [np.linalg.norm(v) for v in cell]\n",
    "        angles = []\n",
    "        for i in range(3):\n",
    "            j = i - 1\n",
    "            k = i - 2\n",
    "            ll = lengths[j] * lengths[k]\n",
    "            if ll > 1e-16:\n",
    "                x = np.dot(cell[j], cell[k]) / ll\n",
    "                angle = 180.0 / pi * arccos(x)\n",
    "            else:\n",
    "                angle = 90.0\n",
    "            angles.append(angle)\n",
    "        return np.array(lengths + angles)\n",
    "\n",
    "\n",
    "    def cellpar_to_cell(self, cellpar, ab_normal=(0, 0, 1), a_direction=None):\n",
    "        \"\"\"Return a 3x3 cell matrix from cellpar=[a,b,c,alpha,beta,gamma].\n",
    "\n",
    "        Angles must be in degrees.\n",
    "\n",
    "        The returned cell is orientated such that a and b\n",
    "        are normal to `ab_normal` and a is parallel to the projection of\n",
    "        `a_direction` in the a-b plane.\n",
    "\n",
    "        Default `a_direction` is (1,0,0), unless this is parallel to\n",
    "        `ab_normal`, in which case default `a_direction` is (0,0,1).\n",
    "\n",
    "        The returned cell has the vectors va, vb and vc along the rows. The\n",
    "        cell will be oriented such that va and vb are normal to `ab_normal`\n",
    "        and va will be along the projection of `a_direction` onto the a-b\n",
    "        plane.\n",
    "\n",
    "        Example:\n",
    "\n",
    "        >>> cell = cellpar_to_cell([1, 2, 4, 10, 20, 30], (0, 1, 1),(1,2,3))\n",
    "        >>> np.round(cell, 3)\n",
    "        array([[ 0.816, -0.408,  0.408],\n",
    "               [ 1.992, -0.13 ,  0.13 ],\n",
    "               [ 3.859, -0.745,  0.745]])\n",
    "\n",
    "        \"\"\"\n",
    "        if a_direction is None:\n",
    "            if np.linalg.norm(np.cross(ab_normal, (1, 0, 0))) < 1e-5:\n",
    "                a_direction = (0, 0, 1)\n",
    "            else:\n",
    "                a_direction = (1, 0, 0)\n",
    "        \n",
    "        # Define rotated X,Y,Z-system, with Z along ab_normal and X along\n",
    "        # the projection of a_direction onto the normal plane of Z.\n",
    "        ad = np.array(a_direction)\n",
    "        Z = self.unit_vector(ab_normal)\n",
    "        X = self.unit_vector(ad - dot(ad, Z) * Z)\n",
    "        Y = np.cross(Z, X)\n",
    "\n",
    "        # Express va, vb and vc in the X,Y,Z-system\n",
    "        alpha, beta, gamma = 90., 90., 90.\n",
    "        if isinstance(cellpar, (int, float)):\n",
    "            a = b = c = cellpar\n",
    "        elif len(cellpar) == 1:\n",
    "            a = b = c = cellpar[0]\n",
    "        elif len(cellpar) == 3:\n",
    "            a, b, c = cellpar\n",
    "        else:\n",
    "            a, b, c, alpha, beta, gamma = cellpar\n",
    "\n",
    "        # Handle orthorhombic cells separately to avoid rounding errors\n",
    "        eps = 2 * np.spacing(90.0, dtype=np.float64)  # around 1.4e-14\n",
    "        # alpha\n",
    "        if abs(abs(alpha) - 90) < eps:\n",
    "            cos_alpha = 0.0\n",
    "        else:\n",
    "            cos_alpha = cos(alpha * pi / 180.0)\n",
    "        # beta\n",
    "        if abs(abs(beta) - 90) < eps:\n",
    "            cos_beta = 0.0\n",
    "        else:\n",
    "            cos_beta = cos(beta * pi / 180.0)\n",
    "        # gamma\n",
    "        if abs(gamma - 90) < eps:\n",
    "            cos_gamma = 0.0\n",
    "            sin_gamma = 1.0\n",
    "        elif abs(gamma + 90) < eps:\n",
    "            cos_gamma = 0.0\n",
    "            sin_gamma = -1.0\n",
    "        else:\n",
    "            cos_gamma = cos(gamma * pi / 180.0)\n",
    "            sin_gamma = sin(gamma * pi / 180.0)\n",
    "\n",
    "        # Build the cell vectors\n",
    "        va = a * np.array([1, 0, 0])\n",
    "        vb = b * np.array([cos_gamma, sin_gamma, 0])\n",
    "        cx = cos_beta\n",
    "        cy = (cos_alpha - cos_beta * cos_gamma) / sin_gamma\n",
    "        cz_sqr = 1. - cx * cx - cy * cy\n",
    "        assert cz_sqr >= 0\n",
    "        cz = sqrt(cz_sqr)\n",
    "        vc = c * np.array([cx, cy, cz])\n",
    "\n",
    "        # Convert to the Cartesian x,y,z-system\n",
    "        abc = np.vstack((va, vb, vc))\n",
    "        T = np.vstack((X, Y, Z))\n",
    "        cell = np.dot(abc, T)\n",
    "\n",
    "        return cell\n",
    "\n",
    "    def metric_from_cell(self, cell):\n",
    "        \"\"\"Calculates the metric matrix from cell, which is given in the\n",
    "        Cartesian system.\"\"\"\n",
    "        cell = np.asarray(cell, dtype=float)\n",
    "        return np.dot(cell, cell.T)\n",
    "    \n",
    "    def vol_cell(self, cell):\n",
    "        \"\"\"Calculates the metric matrix from cell, which is given in the\n",
    "        Cartesian system.\"\"\"\n",
    "        vol=np.dot(cell[0,:],np.cross(cell[1,:],cell[2,:]))\n",
    "        return vol\n",
    "\n",
    "    def crystal_structure_from_cell(self, cell, eps=2e-4, niggli_reduce=True):\n",
    "        \"\"\"Return the crystal structure as a string calculated from the cell.\n",
    "\n",
    "        Supply a cell (from atoms.get_cell()) and get a string representing\n",
    "        the crystal structure returned. Works exactly the opposite\n",
    "        way as ase.dft.kpoints.get_special_points().\n",
    "\n",
    "        Parameters:\n",
    "\n",
    "        cell : numpy.array or list\n",
    "            An array like atoms.get_cell()\n",
    "\n",
    "        Returns:\n",
    "\n",
    "        crystal structure : str\n",
    "            'cubic', 'fcc', 'bcc', 'tetragonal', 'orthorhombic',\n",
    "            'hexagonal' or 'monoclinic'\n",
    "        \"\"\"\n",
    "        cellpar = self.cell_to_cellpar(cell)\n",
    "        abc = cellpar[:3]\n",
    "        angles = cellpar[3:] / 180 * pi\n",
    "        a, b, c = abc\n",
    "        alpha, beta, gamma = angles\n",
    "\n",
    "        if abc.ptp() < eps and abs(angles - pi / 2).max() < eps:\n",
    "            return 'cubic'\n",
    "        elif abc.ptp() < eps and abs(angles - pi / 3).max() < eps:\n",
    "            return 'fcc'\n",
    "        elif abc.ptp() < eps and abs(angles - np.arccos(-1 / 3)).max() < eps:\n",
    "            return 'bcc'\n",
    "        elif abs(a - b) < eps and abs(angles - pi / 2).max() < eps:\n",
    "            return 'tetragonal'\n",
    "        elif abs(angles - pi / 2).max() < eps:\n",
    "            return 'orthorhombic'\n",
    "        elif (abs(a - b) < eps and\n",
    "              (abs(gamma - pi / 3 * 2) < eps or abs(gamma - pi / 3) < eps) and\n",
    "              abs(angles[:2] - pi / 2).max() < eps):\n",
    "            return 'hexagonal'\n",
    "        elif (abs(angles - pi / 2) > eps).sum() == 1:\n",
    "            return 'monoclinic'\n",
    "        elif (abc.ptp() < eps and angles.ptp() < eps and\n",
    "              np.abs(angles).max() < pi / 2):\n",
    "            return 'rhombohedral type 1'\n",
    "        elif (abc.ptp() < eps and angles.ptp() < eps and\n",
    "              np.abs(angles).max() > pi / 2):\n",
    "            return 'rhombohedral type 2'\n",
    "        else:\n",
    "            raise ValueError('Cannot find crystal structure')"
   ]
  },
  {
   "cell_type": "code",
   "execution_count": 144,
   "metadata": {},
   "outputs": [
    {
     "data": {
      "application/vnd.jupyter.widget-view+json": {
       "model_id": "365f7e4aa7a74117b01fb47717f4607f",
       "version_major": 2,
       "version_minor": 0
      },
      "text/plain": [
       "interactive(children=(FloatSlider(value=1.0, description='a', max=10.0, min=0.1), FloatSlider(value=1.0, descr…"
      ]
     },
     "metadata": {},
     "output_type": "display_data"
    }
   ],
   "source": [
    "@widgets.interact_manual(a=(0.1,10.0),b=(0.1,10.0),c=(0.1,10.0), \\\n",
    "                        alpha=(0,140),beta=(0,140),gamma=(0,140),lw=(1., 10.))\n",
    "\n",
    "def plot(a=1,b=1,c=1,alpha=90,beta=90,gamma=90, lw=2):\n",
    "    cell=Crystalcell()\n",
    "    cellpar=cell.cellpar_to_cell([a,b,c,alpha,beta,gamma],(0, 1, 1),(1,2,3))\n",
    "    \n",
    "    fig = plt.figure(figsize=(15,15))\n",
    "    \n",
    "    \n",
    "    ax = fig.add_subplot(211, projection='3d')\n",
    "\n",
    "    a=cellpar[0,:]\n",
    "    b=cellpar[1,:]\n",
    "    c=cellpar[2,:]\n",
    "    \n",
    "    xyz=np.array([[0,0,0],a,b,c,a+b,a+c,b+c,a+b+c])\n",
    "    xyz=xyz.T\n",
    "    x = xyz[0,:] \n",
    "    y = xyz[1,:]\n",
    "    z = xyz[2,:] \n",
    "\n",
    "    vertices = [[0, 1, 4, 2], [0, 1, 5, 3], [1,5,7,4], [2,4,7,6], [0,2,6,3]] \n",
    "\n",
    "    tupleList = list(zip(x, y, z)) \n",
    "\n",
    "    poly3d = [[tupleList[vertices[ix][iy]] for iy in range(len(vertices[0]))] for ix in range(len(vertices))] \n",
    "    ax.scatter(x,y,z) \n",
    "    ax.add_collection3d(Poly3DCollection(poly3d, facecolors='w', linewidths=4, alpha=0.5)) \n",
    "    ax.add_collection3d(Line3DCollection(poly3d, colors='k', linewidths=1, linestyles=':')) \n",
    "    ax.set_title(\"Cell parameters in Real Space\")\n",
    "    \n",
    "    vol=cell.vol_cell(cellpar)   \n",
    "    arep=2*np.pi*np.cross(cellpar[1,:],cellpar[2,:])/vol\n",
    "    brep=2*np.pi*np.cross(cellpar[2,:],cellpar[0,:])/vol\n",
    "    crep=2*np.pi*np.cross(cellpar[0,:],cellpar[1,:])/vol\n",
    "    \n",
    "    ax = fig.add_subplot(212, projection='3d')\n",
    "    \n",
    "    xyz=np.array([[0,0,0],arep,brep,crep,arep+brep,arep+crep,brep+crep,arep+brep+crep])\n",
    "    xyz=xyz.T\n",
    "    x = xyz[0,:] \n",
    "    y = xyz[1,:]\n",
    "    z = xyz[2,:] \n",
    "\n",
    "    vertices = [[0, 1, 4, 2], [0, 1, 5, 3], [1,5,7,4], [2,4,7,6], [0,2,6,3]] \n",
    "\n",
    "    tupleList = list(zip(x, y, z)) \n",
    "\n",
    "    poly3d = [[tupleList[vertices[ix][iy]] for iy in range(len(vertices[0]))] for ix in range(len(vertices))] \n",
    "    ax.scatter(x,y,z) \n",
    "    ax.add_collection3d(Poly3DCollection(poly3d, facecolors='w', linewidths=4, alpha=0.5)) \n",
    "    ax.add_collection3d(Line3DCollection(poly3d, colors='k', linewidths=1, linestyles=':')) \n",
    "    ax.set_title(\"Cell parameters in Reciprocal Space\")\n",
    "    \n",
    "    plt.show()\n",
    "    "
   ]
  },
  {
   "cell_type": "markdown",
   "metadata": {},
   "source": [
    "### 2.2.1 Miller index"
   ]
  },
  {
   "cell_type": "markdown",
   "metadata": {},
   "source": [
    "Now that we have defined the reciprocal space, we can introduce the very useful concept of Miller indices. A plane can be used by the vector perpendicular to it. So we can use the reciprocal lattice vectors to define every plane possible in the lattice. In other words, the reciprocal vectors are used to define the planes in the real space.  The reason we have used a reciprocal lattice vector is that the real space lattice vectors can not be used to define all the planes in the real space. \n",
    "\n",
    "Imagine the reciprocal lattice vector $\\textbf{g}_{hkl}$ defined as \n",
    "\n",
    "$\\textbf{g}_{hkl}= h\\textbf{a}^\\ast + k\\textbf{b}^\\ast l\\textbf{c}^\\ast$ \n",
    " \n",
    "This vector can be used to define all the planes perpendicular to it. The miller index h, k, and l (hkl) represent all the planes perpendicular to $\\textbf{g}_{hkl}$. "
   ]
  },
  {
   "cell_type": "markdown",
   "metadata": {},
   "source": [
    "## 2.3 Crystal Structures"
   ]
  },
  {
   "cell_type": "markdown",
   "metadata": {},
   "source": [
    "A lattice is the best mathematical object to define a crystal structure. A crystal structure is created by combining a basis with a lattice. This means that the basis will be repeated in all of the points defining the lattice, creating periodic entities of the basis. In solid-state physics, we can use this concept to represent crystal structures. Using a suitable basis and lattice, we represent most of the crystal structures known to us. \n",
    "The following are examples of crystal structures defined by their basis and lattice. "
   ]
  },
  {
   "cell_type": "markdown",
   "metadata": {},
   "source": [
    "![title](https://cdn3.edurev.in/ApplicationImages/Temp/1611931_8eb5b11e-86fe-4219-83bf-592987dfc808_lg.PNG)"
   ]
  },
  {
   "cell_type": "markdown",
   "metadata": {},
   "source": [
    "![title](https://nanohub.org/wiki/CrystalViewerPage/Image:diamond.jpg)"
   ]
  },
  {
   "cell_type": "markdown",
   "metadata": {},
   "source": [
    "**In short, a lattice is a layout of points that gets repeated in all directions. A basis is any object (atoms, molecules, ions, etc.) that can be placed at the lattice points. The lattice and basis are all that is needed to describe an entire crystal.** "
   ]
  },
  {
   "cell_type": "markdown",
   "metadata": {},
   "source": [
    "Let's look at an example. We can use the WVU logo as our basis and insert it in a 2D lattice. You can choose the ratio of $\\vec{a}$ to $\\vec{b}$ by entering a length (0-4) for each. Run the code below to get started."
   ]
  },
  {
   "cell_type": "code",
   "execution_count": 142,
   "metadata": {},
   "outputs": [
    {
     "name": "stdout",
     "output_type": "stream",
     "text": [
      "Cell parameter \"a\" = 3\n",
      "Cell parameter \"b\" = 4\n"
     ]
    },
    {
     "data": {
      "image/png": "[encoded data removed]",
      "text/plain": [
       "<Figure size 432x576 with 1 Axes>"
      ]
     },
     "metadata": {
      "needs_background": "light"
     },
     "output_type": "display_data"
    }
   ],
   "source": [
    "#Lattice Widget\n",
    "\n",
    "import matplotlib.pyplot as plt\n",
    "import matplotlib.ticker as plticker\n",
    "import numpy as np\n",
    "\n",
    "from matplotlib.offsetbox import (TextArea, DrawingArea, OffsetImage,\n",
    "                                  AnnotationBbox)\n",
    "from PIL import Image\n",
    "import requests\n",
    "from io import BytesIO\n",
    "\n",
    "a = float(input('Cell parameter \"a\" = '))\n",
    "b = float(input('Cell parameter \"b\" = '))\n",
    "\n",
    "response = requests.get('https://github.com/romerogroup/CrystalCompanion/blob/master/WVU.png?raw=true')\n",
    "img = Image.open(BytesIO(response.content))\n",
    "imgsize = img.size\n",
    "zum = 45/imgsize[0]\n",
    "\n",
    "if b > a:\n",
    "    fig = plt.figure(figsize=(6,6*b/a))\n",
    "else:\n",
    "    fig = plt.figure(figsize=(6*a/b,6))\n",
    "    \n",
    "fig_pixels = fig.get_size_inches()*fig.dpi\n",
    "\n",
    "ax = plt.subplot(111)\n",
    "ax.set_ylim([0,b*4])\n",
    "ax.set_xlim([0,a*4])\n",
    "\n",
    "#Add first image at the origin\n",
    "imagebox = OffsetImage(img, zoom=zum)\n",
    "imagebox.image.axes = ax\n",
    "\n",
    "#Fill lattice with images\n",
    "for i in np.arange(1,4):\n",
    "    for j in np.arange(1,4):\n",
    "        ab = AnnotationBbox(imagebox, (0,0),\n",
    "                        xybox=(i*a,j*b),\n",
    "                        xycoords='data',\n",
    "                        boxcoords=\"data\",\n",
    "                        frameon = 'False',\n",
    "                        pad=0.2)\n",
    "\n",
    "\n",
    "        ax.add_artist(ab)\n",
    "        \n",
    "ax.annotate('a',(a/2,b/10))\n",
    "ax.annotate('b',(a/10,b/2))\n",
    "\n",
    "#Make gridlines for lattice\n",
    "a_loc = plticker.MultipleLocator(base=a)\n",
    "b_loc = plticker.MultipleLocator(base=b)\n",
    "ax.xaxis.set_major_locator(a_loc)\n",
    "ax.yaxis.set_major_locator(b_loc)\n",
    "ax.grid(color='k')\n",
    "\n",
    "plt.show()"
   ]
  },
  {
   "cell_type": "markdown",
   "metadata": {},
   "source": [
    "## "
   ]
  }
 ],
 "metadata": {
  "kernelspec": {
   "display_name": "Python 3",
   "language": "python",
   "name": "python3"
  },
  "language_info": {
   "codemirror_mode": {
    "name": "ipython",
    "version": 3
   },
   "file_extension": ".py",
   "mimetype": "text/x-python",
   "name": "python",
   "nbconvert_exporter": "python",
   "pygments_lexer": "ipython3",
   "version": "3.7.7"
  }
 },
 "nbformat": 4,
 "nbformat_minor": 2
}
