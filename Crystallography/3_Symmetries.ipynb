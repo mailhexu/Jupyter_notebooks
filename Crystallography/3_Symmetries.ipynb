{
 "cells": [
  {
   "cell_type": "markdown",
   "metadata": {},
   "source": [
    "# 3. Symmetries"
   ]
  },
  {
   "cell_type": "markdown",
   "metadata": {},
   "source": [
    "In the last chapter, we talked about how atoms are repeated throughout a crystal structure by *translations*. In addition to translations, lattices often possess several other **symmetry operations**, or specific rules that can be applied to bring an object into coincidence with itself. Examples include *rotation* and *reflection*. The point, line, or plane left unchanged by a certain symmetry operation is called the **symmetry element.**"
   ]
  },
  {
   "cell_type": "markdown",
   "metadata": {},
   "source": [
    "Crystallographers describe, classify, and group crystal structures based on the symmetries they possess. Symmetry operations are essential in understanding the physical properties of materials, from electronic structure to thermal conductivity. Understanding symmetry is crucial to understanding crystallography!"
   ]
  },
  {
   "cell_type": "markdown",
   "metadata": {},
   "source": [
    "### Rotation Axes"
   ]
  },
  {
   "cell_type": "markdown",
   "metadata": {},
   "source": [
    "Look at the below image of a wheel. The spokes are repeated every 45 degrees. Equivalently, each 45-degree rotation of the wheel brings it into coincidence with itself. Thus, **rotation** is the symmetry operation. Rotating the wheel about the central axis leaves any point on that axis unchanged, so the **rotation axis** is the symmetry element. "
   ]
  },
  {
   "cell_type": "markdown",
   "metadata": {
    "code_folding": []
   },
   "source": [
    "![title](https://static.abcteach.com/free_preview/w/wagonwheel_bw_p.png)"
   ]
  },
  {
   "cell_type": "markdown",
   "metadata": {},
   "source": [
    "The order of the rotation axis is given by $\\frac{360}{\\epsilon}$ where $\\epsilon$ is the smallest angle of rotational symmetry (in degrees). An object that appears identical after a 180-degree rotation has a **2-fold rotation axis**, and so on. Individual objects may have rotational axes with any order, but only a handful are possible in a repeated lattice. **Crystals can only show 2-fold, 3-fold, 4-fold, or 6-fold rotation axes** since these are the only objects that can be combined in such a way that they completely fill space, as pictured below. You can find an easy-to-follow general proof of this law here: https://www.xtal.iqfr.csic.es/Cristalografia/parte_03_1_1-en.html"
   ]
  },
  {
   "cell_type": "code",
   "execution_count": 1,
   "metadata": {
    "code_folding": [
     0
    ]
   },
   "outputs": [
    {
     "data": {
      "text/html": [
       "<img src=\"https://encrypted-tbn0.gstatic.com/images?q=tbn%3AANd9GcSWc3-3Ea9ky-V8TBWfCTsl4waWKk5O6fwMeA&usqp=CAU\" width=\"300\" height=\"350\"/>"
      ],
      "text/plain": [
       "<IPython.core.display.Image object>"
      ]
     },
     "execution_count": 1,
     "metadata": {},
     "output_type": "execute_result"
    }
   ],
   "source": [
    "#Load Image 3.2\n",
    "from IPython.display import Image as ipim\n",
    "ipim(url = 'https://encrypted-tbn0.gstatic.com/images?q=tbn%3AANd9GcSWc3-3Ea9ky-V8TBWfCTsl4waWKk5O6fwMeA&usqp=CAU', height=350, width=300)"
   ]
  },
  {
   "cell_type": "code",
   "execution_count": 2,
   "metadata": {
    "code_folding": [
     0
    ]
   },
   "outputs": [
    {
     "data": {
      "text/html": [
       "<img src=\"https://i.ytimg.com/vi/7GkuqcoGCU4/maxresdefault.jpg\" width=\"600\" height=\"200\"/>"
      ],
      "text/plain": [
       "<IPython.core.display.Image object>"
      ]
     },
     "execution_count": 2,
     "metadata": {},
     "output_type": "execute_result"
    }
   ],
   "source": [
    "#Load Image 3.3\n",
    "from IPython.display import Image as ipim\n",
    "ipim(url = 'https://i.ytimg.com/vi/7GkuqcoGCU4/maxresdefault.jpg', height=200, width=600)"
   ]
  },
  {
   "cell_type": "markdown",
   "metadata": {},
   "source": [
    "Above you'll see how rotation axes are applied in three dimensions. The symbol for a rotational axis is just the order of the rotation, i.e. $1$, $2$, $3$, $4$, or $6$. Using the Jmol widget below, you can see what it looks like to apply 90, 180, and 360-degree symmetrical rotations. "
   ]
  },
  {
   "cell_type": "code",
   "execution_count": 1,
   "metadata": {
    "code_folding": [
     0
    ]
   },
   "outputs": [
    {
     "data": {
      "application/vnd.jupyter.widget-view+json": {
       "model_id": "3fa96d861e8e4907a76c1ec2c89b6251",
       "version_major": 2,
       "version_minor": 0
      },
      "text/plain": [
       "WidgetJmol()"
      ]
     },
     "metadata": {},
     "output_type": "display_data"
    },
    {
     "data": {
      "application/vnd.jupyter.widget-view+json": {
       "model_id": "949ad11dee8b40e190158f6cf8d2052d",
       "version_major": 2,
       "version_minor": 0
      },
      "text/plain": [
       "VBox(children=(HBox(children=(Button(description='Load Structure', style=ButtonStyle()), Button(description='R…"
      ]
     },
     "metadata": {},
     "output_type": "display_data"
    }
   ],
   "source": [
    "#Load Jmol Widget 3.1\n",
    "from widget_jsmol import WidgetJmol\n",
    "import ipywidgets as widgets\n",
    "\n",
    "a = WidgetJmol()\n",
    "display(a)\n",
    "\n",
    "load_button = widgets.Button(description = 'Load Structure')\n",
    "button_90 = widgets.Button(description = '90 deg. (4-fold)')\n",
    "button_180 = widgets.Button(description = '180 deg. (2-fold)')\n",
    "button_360 = widgets.Button(description = '360 deg. (Identity)')\n",
    "reset_button = widgets.Button(description = 'Reset')\n",
    "\n",
    "out = widgets.Output()\n",
    "\n",
    "def load_structure(self):\n",
    "    with out:\n",
    "        a.script = 'load https://raw.githubusercontent.com/romerogroup/CrystalCompanion/master/bcc.cif'\n",
    "        a.script = 'load https://raw.githubusercontent.com/romerogroup/CrystalCompanion/master/bcc1.spt'\n",
    "        a.script = 'label *; color label red'\n",
    "\n",
    "def rotate90(self):\n",
    "    with out:\n",
    "        a.script = 'rotate y 90 90'\n",
    "\n",
    "def rotate180(self):\n",
    "    with out:\n",
    "        a.script = 'rotate y 180 90'\n",
    "\n",
    "def rotate360(self):\n",
    "    with out:\n",
    "        a.script = 'rotate y 360 90'\n",
    "\n",
    "load_button.on_click(load_structure)\n",
    "button_90.on_click(rotate90)\n",
    "button_180.on_click(rotate180)\n",
    "button_360.on_click(rotate360)\n",
    "reset_button.on_click(load_structure)\n",
    "\n",
    "bottom_row = widgets.HBox([button_90, button_180, button_360, out])\n",
    "top_row = widgets.HBox([load_button, reset_button, out])\n",
    "widgets.VBox([top_row, bottom_row])"
   ]
  },
  {
   "cell_type": "code",
   "execution_count": 15,
   "metadata": {
    "code_folding": [
     0
    ]
   },
   "outputs": [
    {
     "name": "stdout",
     "output_type": "stream",
     "text": [
      "How would you symbolize each of the operations above?\n"
     ]
    },
    {
     "data": {
      "application/vnd.jupyter.widget-view+json": {
       "model_id": "334af55312094b3984bfacc9e3c18dd4",
       "version_major": 2,
       "version_minor": 0
      },
      "text/plain": [
       "HBox(children=(Button(description='Show Answer', style=ButtonStyle()), Output()))"
      ]
     },
     "execution_count": 15,
     "metadata": {},
     "output_type": "execute_result"
    }
   ],
   "source": [
    "#Knowledge Check 3.1\n",
    "print('How would you symbolize each of the operations above?')\n",
    "import ipywidgets as widgets\n",
    "\n",
    "answer_button = widgets.Button(description = 'Show Answer')\n",
    "out = widgets.Output()\n",
    "\n",
    "def show_answer(self):\n",
    "    with out:\n",
    "        print('90 deg = 4, 180 deg = 2, 360 deg = 1')\n",
    "        \n",
    "answer_button.on_click(show_answer)\n",
    "widgets.HBox([answer_button, out])"
   ]
  },
  {
   "cell_type": "markdown",
   "metadata": {},
   "source": [
    "### The Mirror Plane"
   ]
  },
  {
   "cell_type": "markdown",
   "metadata": {},
   "source": [
    "**Reflection** is a symmetry operation you're probably already familiar with. In three dimensions, the symmetry element for reflection is a **mirror plane.** Each point on one side of the mirror plane is equivalent to a point on the other side of the plane that is the same distance from the plane in the normal direction. The symbol for reflection is $m$. Using the Jmol widget below, you can perform a reflection on a face-centered cubic lattice. The atoms have been colored so you can see the effect. "
   ]
  },
  {
   "cell_type": "code",
   "execution_count": 2,
   "metadata": {
    "code_folding": [
     0
    ]
   },
   "outputs": [
    {
     "data": {
      "application/vnd.jupyter.widget-view+json": {
       "model_id": "5f53f26d1d894e79bf2ed8857c4cd8a2",
       "version_major": 2,
       "version_minor": 0
      },
      "text/plain": [
       "WidgetJmol()"
      ]
     },
     "metadata": {},
     "output_type": "display_data"
    },
    {
     "data": {
      "application/vnd.jupyter.widget-view+json": {
       "model_id": "6419395454ca4c4e9b3045cf2256922d",
       "version_major": 2,
       "version_minor": 0
      },
      "text/plain": [
       "HBox(children=(Button(description='Load Structure', style=ButtonStyle()), Button(description='Reflect Across P…"
      ]
     },
     "metadata": {},
     "output_type": "display_data"
    }
   ],
   "source": [
    "#Load Jmol Widget 3.2\n",
    "from widget_jsmol import WidgetJmol\n",
    "import ipywidgets as widgets\n",
    "\n",
    "b = WidgetJmol()\n",
    "display(b)\n",
    "\n",
    "load_button = widgets.Button(description = 'Load Structure')\n",
    "mirror_button = widgets.Button(description = 'Reflect Across Plane')\n",
    "reset_button = widgets.Button(description = 'Reset')\n",
    "\n",
    "out = widgets.Output()\n",
    "\n",
    "def load_structure(self):\n",
    "    with out:\n",
    "        b.script = 'load https://raw.githubusercontent.com/romerogroup/CrystalCompanion/master/Cu.cif'\n",
    "        b.script = 'load https://raw.githubusercontent.com/romerogroup/CrystalCompanion/master/fcc.spt'\n",
    "\n",
    "def reflect(self):\n",
    "    with out:\n",
    "        b.script = 'invertSelected HKL {0 2 0}'\n",
    "\n",
    "load_button.on_click(load_structure)\n",
    "mirror_button.on_click(reflect)\n",
    "reset_button.on_click(load_structure)\n",
    "\n",
    "bottom_row = widgets.HBox([mirror_button, out])\n",
    "top_row = widgets.HBox([load_button, reset_button, out])\n",
    "widgets.HBox([load_button, mirror_button, reset_button, out])"
   ]
  },
  {
   "cell_type": "markdown",
   "metadata": {},
   "source": [
    "### The Inversion Center"
   ]
  },
  {
   "cell_type": "markdown",
   "metadata": {},
   "source": [
    "The **inversion** operation applies when points equidistant from and on opposite sides of a central point are symmetrical. In other words, for every point (x, y, z) in the unit cell, there is an indistinguishable point (-x, -y, -z). The symmetry element is the central point, called an **inversion center** or **center of symmetry**. A crystal possessing inversion symmetry is said to be **centrosymmetric.**"
   ]
  },
  {
   "cell_type": "markdown",
   "metadata": {
    "code_folding": []
   },
   "source": [
    "![title](https://i.pinimg.com/originals/92/1b/fb/921bfbd00944e5013ca6e0c7d9c8a8fc.gif)"
   ]
  },
  {
   "cell_type": "markdown",
   "metadata": {},
   "source": [
    "The symbol for an inversion is $\\bar{1}$. Look at the Jmol widget below, and see if you can understand where the points will end up once you invert them."
   ]
  },
  {
   "cell_type": "code",
   "execution_count": 3,
   "metadata": {
    "code_folding": [
     0
    ]
   },
   "outputs": [
    {
     "data": {
      "application/vnd.jupyter.widget-view+json": {
       "model_id": "5e03b65e93974de29dba4488379fa338",
       "version_major": 2,
       "version_minor": 0
      },
      "text/plain": [
       "WidgetJmol()"
      ]
     },
     "metadata": {},
     "output_type": "display_data"
    },
    {
     "data": {
      "application/vnd.jupyter.widget-view+json": {
       "model_id": "73fcf3ffec2749e2bcf7248294595ce1",
       "version_major": 2,
       "version_minor": 0
      },
      "text/plain": [
       "HBox(children=(Button(description='Load Structure', style=ButtonStyle()), Button(description='Invert Through C…"
      ]
     },
     "metadata": {},
     "output_type": "display_data"
    }
   ],
   "source": [
    "#Load Jmol Widget 3.3\n",
    "from widget_jsmol import WidgetJmol\n",
    "import ipywidgets as widgets\n",
    "\n",
    "c = WidgetJmol()\n",
    "display(c)\n",
    "\n",
    "load_button = widgets.Button(description = 'Load Structure')\n",
    "mirror_button = widgets.Button(description = 'Invert Through Center')\n",
    "reset_button = widgets.Button(description = 'Reset')\n",
    "\n",
    "out = widgets.Output()\n",
    "\n",
    "def load_structure(self):\n",
    "    with out:\n",
    "        c.script = 'load https://raw.githubusercontent.com/romerogroup/CrystalCompanion/master/bcc.cif'\n",
    "        c.script = 'load https://raw.githubusercontent.com/romerogroup/CrystalCompanion/master/ic2.spt'\n",
    "\n",
    "def reflect(self):\n",
    "    with out:\n",
    "        c.script = 'invertSelected POINT {1/2 1/2 1/2}'\n",
    "\n",
    "load_button.on_click(load_structure)\n",
    "mirror_button.on_click(reflect)\n",
    "reset_button.on_click(load_structure)\n",
    "\n",
    "bottom_row = widgets.HBox([mirror_button, out])\n",
    "top_row = widgets.HBox([load_button, reset_button, out])\n",
    "widgets.HBox([load_button, mirror_button, reset_button, out])"
   ]
  },
  {
   "cell_type": "markdown",
   "metadata": {},
   "source": [
    "### Compound Symmetry Operations"
   ]
  },
  {
   "cell_type": "markdown",
   "metadata": {},
   "source": [
    "Rotations, reflections, inversions, and lattice translations can be combined in many ways. Some of these combinations create brand new symmetry operations called **compound symmetry operations.** A compound symmetry operation exists when two symmetry operations are performed in sequence as a single event, and the individual operations that make it up are lost. For example, if a crystal is symmetrical only when it is rotated 2-fold *and then* inverted, but does not have 2-fold or inversion symmetry alone, it has compound symmetry. If a crystal is symmetrical under rotation + inversion *in addition to* rotation alone and inversion alone, we call that operation a **combination of symmetry operations**. A combination of symmetry operations exists when two or more individual symmetry operations are combined which are themselves symmetry operations. Combinations will be discussed more in the following chapters. "
   ]
  },
  {
   "cell_type": "markdown",
   "metadata": {},
   "source": [
    "#### Rotoinversion Axes"
   ]
  },
  {
   "cell_type": "markdown",
   "metadata": {},
   "source": [
    "The compound of rotation and inversion is called **rotoinversion**. The symmetry element is a rotation axis passing through an inversion center, called a **rotoinversion axis**. Just as there are only five possible rotation axes, there are five possible rotoinversion axes: $\\bar{1}$, $\\bar{2}$, $\\bar{3}$, $\\bar{4}$, $\\bar{6}$. "
   ]
  },
  {
   "cell_type": "markdown",
   "metadata": {
    "code_folding": []
   },
   "source": [
    "![title](https://raw.githubusercontent.com/romerogroup/CrystalCompanion/master/Rotoinversion.PNG)"
   ]
  },
  {
   "cell_type": "markdown",
   "metadata": {},
   "source": [
    "From image 3.5 we can tell that $\\bar{1}$ is just an inversion center (of course). $\\bar{2}$ is equivalent to a reflection. $\\bar{6}$ is the same as a parallel $3$ and a perpendicular $m$. Since many of these congruencies exist between symmetry operations, rotoinversion axes are an efficient way to symbolize many different point symmetry operations."
   ]
  },
  {
   "cell_type": "markdown",
   "metadata": {},
   "source": [
    "#### Rotoreflection Axes"
   ]
  },
  {
   "cell_type": "markdown",
   "metadata": {},
   "source": [
    "We can also compound rotations and reflections to define rotoreflections axes $S_{1}$, $S_{2}$, $S_{3}$, $S_{4}$, $S_{6}$. But as it turns out, we have already defined them all. $S_{1} = m = \\bar{2}$, of course, and if you visualize $S_{2}$ you will quickly realize that it is the same as $\\bar{1}$. Sketch $S_{3}$, $S_{4}$, and $S_{6}$ and see if you can figure out the equivalent rotoinversion axes. Check your answers with Knowledge Check 3.2."
   ]
  },
  {
   "cell_type": "code",
   "execution_count": 4,
   "metadata": {
    "code_folding": [
     0
    ]
   },
   "outputs": [
    {
     "name": "stdout",
     "output_type": "stream",
     "text": [
      "Which rotoinversion axes are equivalent to the rotoreflection axes S3, S4, and S6?\n"
     ]
    },
    {
     "data": {
      "application/vnd.jupyter.widget-view+json": {
       "model_id": "2d7a3ed7f11747e6b40928ad6dfb02ca",
       "version_major": 2,
       "version_minor": 0
      },
      "text/plain": [
       "HBox(children=(Button(description='Show Answer', style=ButtonStyle()), Output()))"
      ]
     },
     "metadata": {},
     "output_type": "display_data"
    }
   ],
   "source": [
    "#Knowledge Check 3.1\n",
    "print('Which rotoinversion axes are equivalent to the rotoreflection axes S3, S4, and S6?')\n",
    "import ipywidgets as widgets\n",
    "\n",
    "answer_button = widgets.Button(description = 'Show Answer')\n",
    "out = widgets.Output()\n",
    "\n",
    "def show_answer(self):\n",
    "    with out:\n",
    "        print('     _       _       _\\nS3 = 6, S4 = 4, S6 = 3')\n",
    "        \n",
    "answer_button.on_click(show_answer)\n",
    "widgets.HBox([answer_button, out])"
   ]
  },
  {
   "cell_type": "markdown",
   "metadata": {
    "code_folding": []
   },
   "source": [
    "![title](https://raw.githubusercontent.com/romerogroup/CrystalCompanion/master/compound.PNG)"
   ]
  },
  {
   "cell_type": "markdown",
   "metadata": {},
   "source": [
    "In Image 3.6 you'll find a table naming all of the compound symmetry operations. The corresponding symmetry elements are given in parentheses. Notice how combining inversion and reflection is nothing new and is in fact the same as a 2-fold rotation. We'll discuss screw and glide rotations later on when we talk about space groups. "
   ]
  },
  {
   "cell_type": "code",
   "execution_count": null,
   "metadata": {},
   "outputs": [],
   "source": []
  }
 ],
 "metadata": {
  "kernelspec": {
   "display_name": "Python 3",
   "language": "python",
   "name": "python3"
  },
  "language_info": {
   "codemirror_mode": {
    "name": "ipython",
    "version": 3
   },
   "file_extension": ".py",
   "mimetype": "text/x-python",
   "name": "python",
   "nbconvert_exporter": "python",
   "pygments_lexer": "ipython3",
   "version": "3.7.4"
  }
 },
 "nbformat": 4,
 "nbformat_minor": 2
}
