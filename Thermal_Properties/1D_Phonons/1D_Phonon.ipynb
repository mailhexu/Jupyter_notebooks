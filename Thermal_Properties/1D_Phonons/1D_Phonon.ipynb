{
 "cells": [
  {
   "cell_type": "markdown",
   "metadata": {},
   "source": [
    "[![Open In Colab](https://colab.research.google.com/assets/colab-badge.svg)](https://colab.research.google.com/github/romerogroup/Jupyter_notebooks/blob/master/Thermal_Properties/1D_Phonons/1D_Phonon.ipynb)\n",
    "\n",
    "## Approximating the interatomic potential.\n",
    "\n",
    "Atoms arranged in a lattice experience dynamic pushes and pulls extered by each of the other atoms. These interatomic forces give rise to lattice vibrations called phonons. The Lennard-Jones potential is a common model for the interatomic potential that is written as\n",
    "\n",
    "\\begin{equation}\n",
    "V(x) = 4\\epsilon\\left[ \\left(\\frac{\\sigma}{x}\\right)^{12} - \\left(\\frac{\\sigma}{x}\\right)^6 \\right].\n",
    "\\end{equation}\n",
    "\n",
    "This potential is the sum of a short range repulsive potential and a long range attractive potential where $\\epsilon$ defines the strength and $\\sigma$ defines the position of the zero in the potential."
   ]
  },
  {
   "cell_type": "code",
   "execution_count": 5,
   "metadata": {},
   "outputs": [
    {
     "data": {
      "application/vnd.jupyter.widget-view+json": {
       "model_id": "55f25ee766ab4c26ae5f407e4722de0f",
       "version_major": 2,
       "version_minor": 0
      },
      "text/plain": [
       "interactive(children=(FloatSlider(value=3.0, description='$\\\\epsilon$:', max=5.0, min=0.1), FloatSlider(value=…"
      ]
     },
     "metadata": {},
     "output_type": "display_data"
    },
    {
     "data": {
      "text/plain": [
       "<function __main__.interatomic_pot(eps, sig)>"
      ]
     },
     "execution_count": 5,
     "metadata": {},
     "output_type": "execute_result"
    }
   ],
   "source": [
    "import matplotlib.pyplot as plt\n",
    "import numpy as np\n",
    "from ipywidgets import interact, FloatSlider\n",
    "\n",
    "def LJ_attract(eps,sig,X):\n",
    "    return -4*eps*(sig/X)**6\n",
    "\n",
    "def LJ_repulse(eps,sig,X):\n",
    "    return 4*eps*((sig/X)**12)\n",
    "\n",
    "def LJ(eps,sig,X):\n",
    "    return 4*eps*((sig/X)**12 - (sig/X)**6)\n",
    "\n",
    "def interatomic_pot(eps,sig):\n",
    "    plt.rcParams.update({'font.size': 14})\n",
    "    \n",
    "    fig = plt.figure(figsize=(8,8))\n",
    "    \n",
    "    plt.xlabel('$x$')\n",
    "    plt.ylabel('$V(x)$')\n",
    "    plt.ylim(-5,3)\n",
    "    plt.xlim(0,1)\n",
    "    plt.tick_params(axis='both',direction='in')\n",
    "    \n",
    "    x = np.linspace(0.01,1,250)\n",
    "    \n",
    "    plt.plot(x,LJ_attract(eps,sig,x),color='royalblue',linewidth=3,label='Attract')\n",
    "    plt.plot(x,LJ_repulse(eps,sig,x),color='red',linewidth=3,label='Repulse')\n",
    "    plt.plot(x,LJ(eps,sig,x),color='purple',linewidth=3,label='LJ')\n",
    "    plt.axhline(y=0,color='black',ls='--',linewidth=1)\n",
    "    plt.hlines(y=0,xmin=0,xmax=sig,color='black',ls='-',label='$\\sigma$',linewidth=3)\n",
    "    plt.vlines(x=2**(1/6)*sig,ymin=(-1)*eps,ymax=0,color='orange',ls='-',label='$\\epsilon$',linewidth=3)\n",
    "    plt.legend()\n",
    "    plt.show()\n",
    "\n",
    "interactive_plot = interact(interatomic_pot, eps=FloatSlider(value=3, min=0.1, max=5, step=0.1, description='$\\epsilon$:'),\n",
    "                           sig=FloatSlider(value=0.2, min=0.05, max=0.5, step=0.01, description='$\\sigma$:'))\n",
    "interactive_plot"
   ]
  },
  {
   "cell_type": "markdown",
   "metadata": {},
   "source": [
    "Since the form of the Lennard-Jones potential and other models for the interatomic potential is cumberson, it is advantagous to make a suitable approximation. In the absense of a considerable external stimulus, the atoms will genrally oscillate about equilibrium. This intution motivates a series expansion. The critical point can be found by looking into the first derivative given by:\n",
    "\n",
    "\\begin{equation}\n",
    "\\frac{dV}{dx} = \\frac{24\\epsilon\\sigma^6}{x^{13}}(x^6 - 2\\sigma^6).\n",
    "\\end{equation}\n",
    "\n",
    "The zero for this expression is located at $x_0 = \\sqrt[6]{2}\\sigma$, defining equilibrium. Taking the Taylor series about this point to the second order gives:\n",
    "\n",
    "\\begin{equation}\n",
    "V(x) = V(x_0) + \\frac{dV}{dx}|_{x_0}(x-x_0) + \\frac{1}{2}\\frac{d^2V}{dx^2}|_{x_0}(x-x_0)^2 + \\mathcal{O}(x^3).\n",
    "\\end{equation}\n",
    "\n",
    "The first order term in the series is manifestly zero at the equilibrium point. So to the second order, the interatomic potential can be approximated as\n",
    "\n",
    "\\begin{equation}\n",
    "V(x) = 4\\epsilon\\left[ \\left(\\frac{\\sigma}{x_0}\\right)^{12} - \\left(\\frac{\\sigma}{x_0}\\right)^6 \\right]\n",
    "+ \\frac{12\\epsilon\\sigma^6}{x_0^{14}}(26\\sigma^6 - 7x_0^6)(x-x_0)^2,\n",
    "\\end{equation}\n",
    "\n",
    "which simplifies to the parabola\n",
    "\n",
    "\\begin{equation}\n",
    "V(x) = \\frac{36\\epsilon}{\\sqrt[3]{2}\\sigma^2}(x-\\sqrt[6]{2}\\sigma^6)^2 - \\epsilon.\n",
    "\\end{equation}\n",
    "\n",
    "This reveals that near equilibrium the interatomic potential is well approximated by a harmonic potential, which holds over the span of $\\epsilon$ and $\\sigma$."
   ]
  },
  {
   "cell_type": "code",
   "execution_count": 6,
   "metadata": {},
   "outputs": [
    {
     "data": {
      "application/vnd.jupyter.widget-view+json": {
       "model_id": "5760e799e61a45ca8e0671efcee55b7c",
       "version_major": 2,
       "version_minor": 0
      },
      "text/plain": [
       "interactive(children=(FloatSlider(value=3.0, description='$\\\\epsilon$:', max=5.0, min=0.1), FloatSlider(value=…"
      ]
     },
     "metadata": {},
     "output_type": "display_data"
    },
    {
     "data": {
      "text/plain": [
       "<function __main__.interatomic_pot(eps, sig)>"
      ]
     },
     "execution_count": 6,
     "metadata": {},
     "output_type": "execute_result"
    }
   ],
   "source": [
    "import matplotlib.pyplot as plt\n",
    "import numpy as np\n",
    "from ipywidgets import interact, FloatSlider\n",
    "\n",
    "x = np.linspace(0.01,1,250)\n",
    "\n",
    "def LJ(eps,sig,X):\n",
    "    return 4*eps*((sig/X)**12 - (sig/X)**6)\n",
    "\n",
    "def harmonic(eps,sig,X):\n",
    "    return ((36*eps)/(2**(1/3)*sig**2))*(X-(2**(1/6)*sig))**2 - eps\n",
    "\n",
    "def interatomic_pot(eps,sig):\n",
    "    plt.rcParams.update({'font.size': 14})\n",
    "    \n",
    "    fig = plt.figure(figsize=(8,8))\n",
    "    \n",
    "    plt.xlabel('$x$')\n",
    "    plt.ylabel('$V(x)$')\n",
    "    plt.ylim(-5,3)\n",
    "    plt.xlim(0,1)\n",
    "    plt.tick_params(axis='both',direction='in')\n",
    "    \n",
    "    plt.plot(x,LJ(eps,sig,x),color='royalblue',linewidth=3,label='LJ')\n",
    "    plt.plot(x,harmonic(eps,sig,x),color='orangered',linewidth=3,label='Harmonic')\n",
    "    plt.axhline(y=0,color='black',ls='--',linewidth=1)\n",
    "    plt.legend()\n",
    "    plt.show()\n",
    "\n",
    "interactive_plot = interact(interatomic_pot, eps=FloatSlider(value=3, min=0.1, max=5, step=0.1, description='$\\epsilon$:'),\n",
    "                           sig=FloatSlider(value=0.2, min=0.05, max=0.5, step=0.01, description='$\\sigma$:'))\n",
    "interactive_plot"
   ]
  },
  {
   "cell_type": "markdown",
   "metadata": {},
   "source": [
    "## Elastic Vibrations in a 1D Monoatomic Lattice\n",
    "\n",
    "\n",
    "This harmonic approximation allows the interatomic forces to be modeled as a collection of springs joining the atoms near equilibrium. This enables a semiclassical approach to lattice dynamics. The unit cell can be defined by the distance between nearest neighbors.\n",
    "\n",
    "![1D_monoatomic_lattice](1D_monoatomic_lattice.png)\n",
    "\n",
    "An equation of motion for a single atom in the unit cell can be written using the tools for systems of springs and masses.\n",
    "\n",
    "\\begin{equation}\n",
    "M\\frac{d^2u_n}{dt^2} = -C(2u_n - u_{n-1} - u_{n+1})\n",
    "\\end{equation}\n",
    "\n",
    "A reasonable ansatz for the harmonic equation is an oscillatory function. Supposing that the solution takes the form $u_n = ue^{i(kna- \\omega t)}$ then it evaluates as:\n",
    "\n",
    "\\begin{equation}\n",
    "-\\omega^2Mu_n = -C[2u_n - ue^{i(k[n-1]a - \\omega t)} - ue^{i(k[n+1]a - \\omega t)}].\n",
    "\\end{equation}\n",
    "\n",
    "Simplifying it is\n",
    "\n",
    "\\begin{equation}\n",
    "-\\omega^2Mu_n = -C(2u_n - u_ne^{-ika} - u_ne^{+ika}).\n",
    "\\end{equation}\n",
    "\n",
    "Written this way it is clear that $u_n$ is a common factor that can be eliminating. This gives\n",
    "\n",
    "\\begin{equation}\n",
    "\\omega^2M = C[2-(e^{ika}+e^{-ika})].\n",
    "\\end{equation}\n",
    "\n",
    "The exponentials can be written as a cosine by identity as\n",
    "\n",
    "\\begin{equation}\n",
    "\\omega^2 = \\frac{2C}{M}(1-\\cos ka).\n",
    "\\end{equation}\n",
    "\n",
    "Now using the identity that $\\sin^2(\\frac{ka}{2}) = \\frac{1}{2}(1- \\cos ka)$ gives\n",
    "\n",
    "\\begin{equation}\n",
    "\\omega^2 = \\frac{4C}{M}(\\sin^2\\frac{ka}{2}).\n",
    "\\end{equation}\n",
    "\n",
    "Taking the root, the phonon dispersion relation is\n",
    "\n",
    "\\begin{equation}\n",
    "\\omega = \\sqrt{\\frac{4C}{M}}\\left|\\sin\\frac{ka}{2}\\right|.\n",
    "\\end{equation}"
   ]
  },
  {
   "cell_type": "code",
   "execution_count": 7,
   "metadata": {},
   "outputs": [
    {
     "data": {
      "application/vnd.jupyter.widget-view+json": {
       "model_id": "06d6a67f239346eeb69fa0e33b0baafc",
       "version_major": 2,
       "version_minor": 0
      },
      "text/plain": [
       "interactive(children=(FloatSlider(value=0.0, description='$q$:', max=3.141592653589793, min=-3.141592653589793…"
      ]
     },
     "metadata": {},
     "output_type": "display_data"
    },
    {
     "data": {
      "text/plain": [
       "<function __main__.animate_phonons(q, a, C, M, t)>"
      ]
     },
     "execution_count": 7,
     "metadata": {},
     "output_type": "execute_result"
    }
   ],
   "source": [
    "import matplotlib.pyplot as plt\n",
    "from matplotlib import animation as anime\n",
    "import numpy as np\n",
    "from ipywidgets import interact, FloatSlider, Play\n",
    "from copy import copy\n",
    "\n",
    "def linear(q,a,C,M):\n",
    "    return np.sqrt(4*C/M)*np.abs(q*a/2)\n",
    "\n",
    "def dispersion(q,a,C,M):\n",
    "    return np.sqrt(4*C/M)*np.abs(np.sin((q*a)/2))\n",
    "\n",
    "def displace(q,a,C,M,n,t):\n",
    "    displacement = n + 1/4*(np.cos(q*n-dispersion(q,a,C,M)*t/(10*np.pi)))\n",
    "    return displacement\n",
    "\n",
    "def atoms(q,a,C,M,n,t):\n",
    "    atom = plt.Circle((n,0),M/2,color='royalblue')\n",
    "    atom.center = (displace(q,a,C,M,n,t),0)\n",
    "    return copy(atom)\n",
    "    \n",
    "def animate_phonons(q,a,C,M,t):\n",
    "    plt.rcParams.update({'font.size': 14})\n",
    "    \n",
    "    fig = plt.figure(figsize=(15,6))\n",
    "    \n",
    "    ax1 = fig.add_subplot(121)\n",
    "    ax1.tick_params(axis='both',direction='in')\n",
    "    ax1.set_xlim(-np.pi/a,np.pi/a)\n",
    "    ax1.set_ylim(0,7)\n",
    "    ax1.set_xlabel('k')\n",
    "    ax1.set_ylabel('$\\omega$')\n",
    "    \n",
    "    ax2 = fig.add_subplot(122)\n",
    "    ax2.axis('off')\n",
    "    ax2.set_xlim(-8,8)\n",
    "    ax2.set_ylim(-7,7)\n",
    "    \n",
    "    K = np.linspace(-3*np.pi,3*np.pi,2001)\n",
    "    \n",
    "    ax1.plot(K,dispersion(K,a,C,M),color='royalblue',linewidth=3,label='Phonon Dispersion')\n",
    "    ax1.scatter(q/a,dispersion(q/a,a,C,M),marker='D',color='white',edgecolor='red',s=150,linewidth=3)\n",
    "    ax1.plot(K,linear(K,a,C,M),color='green',ls='--',linewidth=3,label='Long Wavelength Limit')\n",
    "    for i in [-6,-4,-2,0,2,4,6]:\n",
    "        ax2.add_patch(atoms(q,a,C,M,i,t))\n",
    "    ax1.legend(frameon=False)\n",
    "    \n",
    "interactive_plot = interact(animate_phonons,\n",
    "                            q=FloatSlider(value=0.0, min=-np.pi, max=np.pi, step=0.01, description='$q$:'),\n",
    "                            a=FloatSlider(value=3, min=1, max=5, step=0.1, description='$a$:'),\n",
    "                            C=FloatSlider(value=3, min=0.1, max=5, step=0.1, description='$C$:'),\n",
    "                            M=FloatSlider(value=1, min=0.5, max=1.5, step=0.01, description='$M$:'),\n",
    "                            t=Play(value=0, min=0, max=4000, step=1, interval=24))\n",
    "interactive_plot"
   ]
  },
  {
   "cell_type": "markdown",
   "metadata": {},
   "source": [
    "## Diatomic 1D Lattice\n",
    "\n",
    "In the case of two sepecies that occupy alternating sites of a 1D lattice, the cell that contains the neighborhood of either atom is no longer periodic. Likewise the independent motion of either atom does not represent the motion of the entire system. The new unit cell must be defined to enclose the two species. One approach takes the centers of two of the nearest atoms of the same species to be the endpoints of the cell, defining the distance between the two as the lattice constant . In this way, the cell completely encloses one atom from one of the species, and it encloses two half atoms of the other species. In total that is two atoms per unit cell comprised of two different species, which validates the defintion of the new unit cell.\n",
    "\n",
    "![1D_Diatomic_Lattice](1D_Diatomic_Lattice.png)\n",
    "\n",
    "Now an equation of motion for each species can be written independently following following the same procedure as for the monoatomic system.\n",
    "\n",
    "\\begin{equation}\n",
    "M_1\\frac{d^2u_n}{dt^2} = - C ( 2u_n - v_n - v_{n-1} ) \\\\\n",
    "M_2\\frac{d^2v_n}{dt^2} = - C ( 2v_n - u_n - u_{n+1} )\n",
    "\\end{equation}\n",
    "\n",
    "As before a reasonable ansatz for either equation is an oscillatory function. Supposing that the general solutions $u_n = ue^{i( kna - \\omega t )}$ and $v_n = ve^{i( kna - \\omega t )}$, substitution into the equations of motion gives\n",
    "\n",
    "\\begin{equation}\n",
    "-\\omega^2 M_1 ue^{i( kna - \\omega t )} = -C ( 2ue^{i( kna - \\omega t )} - ve^{i( kna - \\omega t )} -  ve^{i(k(n-1)a - \\omega t )} ) \\\\\n",
    "-\\omega^2 M_2 ve^{i( kna - \\omega t )} = -C ( 2ve^{i( kna - \\omega t )} - ue^{i( kna - \\omega t )} - ue^{i(k(n+1)a - \\omega t )} ).\n",
    "\\end{equation}\n",
    "\n",
    "In both equations, $e^{i( kna - \\omega t )}$ is a common factor that can be eliminated, yielding\n",
    "\n",
    "\\begin{equation}\n",
    "-\\omega^2 M_1 u = -C[ 2u + ( 1 + e^{-ika} ) v ] \\\\\n",
    "-\\omega^2 M_2 v = -C[ 2v + ( 1 + e^{ika} ) u ].\n",
    "\\end{equation}\n",
    "\n",
    "Grouping the $u$ and $v$ terms motivates the subsequent solution path.\n",
    "\n",
    "\\begin{equation}\n",
    "( \\omega^2 M_1 - 2C )u + ( 1 + e^{-ika} )Cv \\\\\n",
    "( 1 + e^{ika} )Cu + ( \\omega^2 M_2 - 2C )v.\n",
    "\\end{equation}\n",
    "\n",
    "The motion of each species is coupled to the other through the action of the spring. Therefore, the system of equations must be solved silmutaneously. Casting the expressions into a matrix equation, there are simultaneous unique solutions for u and v when the matrix determinant is zero.\n",
    "\n",
    "\\begin{equation}\n",
    "\\left| \\begin{array}{cc} \\omega^2 M_1 - 2C & ( 1 + e^{-ika} )C \\\\ ( 1 + e^{ika} )C & \\omega^2 M_2 - 2C \\end{array} \\right| = 0\n",
    "\\end{equation}\n",
    "\n",
    "Therefore, the characteristic polynomial for the system is\n",
    "\n",
    "\\begin{equation}\n",
    "(\\omega^2 M_1 - 2C)(\\omega^2 M_2 - 2C) - C^2(1 + e^{-ika})(1 + e^{ika}) = 0.\n",
    "\\end{equation}\n",
    "\n",
    "which simplifies giving a quadratic equation in $\\omega^2$.\n",
    "\n",
    "\\begin{equation}\n",
    "M_1M_2\\omega^4 - 2C\\omega^2(M_1 + M_2) + 2C^2(1- coska) = 0\n",
    "\\end{equation}\n",
    "\n",
    "The roots are\n",
    "\n",
    "\\begin{equation}\n",
    "\\omega^2 = \\frac{2C}{M_1M_2}\\left[(M_1 + M_2) \\pm \\sqrt{(M_1+M_2)^2 + 2M_1M_2(1-coska)}\\right]\n",
    "\\end{equation}\n",
    "\n",
    "which may be simplified further giving the phonon dispersion relation as\n",
    "\n",
    "\\begin{equation}\n",
    "\\omega = \\sqrt{\\frac{2C}{M_1M_2}\\left(M_1 + M_2 \\pm \\sqrt{(M_1+M_2)^2 -4M_1M_2\\sin^2\\frac{ka}{2}} \\right)}.\n",
    "\\end{equation}"
   ]
  },
  {
   "cell_type": "code",
   "execution_count": 8,
   "metadata": {},
   "outputs": [
    {
     "data": {
      "application/vnd.jupyter.widget-view+json": {
       "model_id": "b700f597299f46718f5265fe3ee943f2",
       "version_major": 2,
       "version_minor": 0
      },
      "text/plain": [
       "interactive(children=(FloatSlider(value=0.0, description='$q$:', max=3.141592653589793, min=-3.141592653589793…"
      ]
     },
     "metadata": {},
     "output_type": "display_data"
    },
    {
     "data": {
      "text/plain": [
       "<function __main__.animate_phonons(q, a, C, M1, M2, t)>"
      ]
     },
     "execution_count": 8,
     "metadata": {},
     "output_type": "execute_result"
    }
   ],
   "source": [
    "import matplotlib.pyplot as plt\n",
    "from matplotlib import animation as anime\n",
    "import numpy as np\n",
    "from ipywidgets import interact, FloatSlider,Play\n",
    "from copy import copy\n",
    "\n",
    "def acoustic_dispersion(q,a,C,M1,M2):\n",
    "    return np.sqrt(2*C/(M1*M2))*np.sqrt(M1+M2 - np.sqrt((M1+M2)**2 - 4*M1*M2*np.sin((q*a)/2)**2))\n",
    "\n",
    "def optical_dispersion(q,a,C,M1,M2):\n",
    "    return np.sqrt(2*C/(M1*M2))*np.sqrt(M1+M2 + np.sqrt((M1+M2)**2 - 4*M1*M2*np.sin((q*a)/2)**2))\n",
    "\n",
    "def acoustic_displace(q,a,C,M1,M2,n,t):\n",
    "    displacement = n + 1/4*(np.cos(q*n-acoustic_dispersion(q,a,C,M1,M2)*t/(10*np.pi)))\n",
    "    return displacement\n",
    "\n",
    "def optical_displace(q,a,C,M1,M2,n,t):\n",
    "    displacement = n + 1/4*(np.cos(q*n-optical_dispersion(q,a,C,M1,M2)*t/(10*np.pi)))\n",
    "    return displacement\n",
    "\n",
    "\n",
    "def atoms(q,a,C,M1,M2,n,t,type):\n",
    "    if np.abs(n) == 6 or np.abs(n) == 2:\n",
    "        atom = plt.Circle((n,0),M1/2,color='royalblue')\n",
    "    else:\n",
    "        atom = plt.Circle((n,0),M2/2,color='orangered')\n",
    "    \n",
    "    if type == 'acoustic':\n",
    "        atom.center = (acoustic_displace(q,a,C,M1,M2,n,t),0)\n",
    "    else:\n",
    "        atom.center = (optical_displace(q,a,C,M1,M2,n,t),0)\n",
    "    return copy(atom)\n",
    "    \n",
    "def animate_phonons(q,a,C,M1,M2,t):\n",
    "    plt.rcParams.update({'font.size': 14})\n",
    "    \n",
    "    fig = plt.figure(figsize=(15,6))\n",
    "    \n",
    "    ax1 = fig.add_subplot(121)\n",
    "    ax1.tick_params(axis='both',direction='in')\n",
    "    ax1.set_xlim(-np.pi/a,np.pi/a)\n",
    "    ax1.set_ylim(0,10)\n",
    "    ax1.set_xlabel('k')\n",
    "    ax1.set_ylabel('$\\omega$')\n",
    "    \n",
    "    ax2 = fig.add_subplot(222)\n",
    "    ax2.axis('off')\n",
    "    ax2.set_xlim(-8,8)\n",
    "    ax2.set_ylim(-3.5,3.5)\n",
    "    ax2.annotate('Acoustic Branch',(-1.5,-2))\n",
    "    \n",
    "    ax3 = fig.add_subplot(224)\n",
    "    ax3.axis('off')\n",
    "    ax3.set_xlim(-8,8)\n",
    "    ax3.set_ylim(-3.5,3.5)\n",
    "    ax3.annotate('Optical Brach',(-1.5,-2))\n",
    "    \n",
    "    K = np.linspace(-3*np.pi,3*np.pi,2001)\n",
    "    \n",
    "    ax1.plot(K,acoustic_dispersion(K,a,C,M1,M2),color='royalblue',linewidth=3,label='Acoustic')\n",
    "    ax1.plot(K,optical_dispersion(K,a,C,M1,M2),color='green',linewidth=3,label='Optical')\n",
    "    ax1.scatter(q/a,acoustic_dispersion(q/a,a,C,M1,M2),marker='D',color='white',edgecolor='red',s=150,\n",
    "               linewidth=3)\n",
    "    ax1.scatter(q/a,optical_dispersion(q/a,a,C,M1,M2),marker='D',color='white',edgecolor='red',s=150,\n",
    "               linewidth=3)\n",
    "    ax1.legend(frameon=False)\n",
    "    \n",
    "    for i in [-6,-4,-2,0,2,4,6]:\n",
    "        ax2.add_patch(atoms(q,a,C,M1,M2,i,t,'acoustic'))\n",
    "        \n",
    "    for i in [-6,-4,-2,0,2,4,6]:\n",
    "        ax3.add_patch(atoms(q,a,C,M1,M2,i,t,'optical'))\n",
    "    \n",
    "interactive_plot = interact(animate_phonons,\n",
    "                            q=FloatSlider(value=0.0, min=-np.pi, max=np.pi, step=0.01, description='$q$:'),\n",
    "                            a=FloatSlider(value=3, min=1, max=5, step=0.1, description='$a$:'),\n",
    "                            C=FloatSlider(value=3, min=0.1, max=5, step=0.1, description='$C$:'),\n",
    "                            M1=FloatSlider(value=1, min=0.5, max=1.5, step=0.01, description='$M_1$:'),\n",
    "                            M2=FloatSlider(value=1, min=0.5, max=1.5, step=0.01, description='$M_2$:'),\n",
    "                            t=Play(value=0, min=0, max=4000, step=1, interval=24))\n",
    "interactive_plot"
   ]
  },
  {
   "cell_type": "code",
   "execution_count": null,
   "metadata": {},
   "outputs": [],
   "source": []
  }
 ],
 "metadata": {
  "kernelspec": {
   "display_name": "Python 3",
   "language": "python",
   "name": "python3"
  },
  "language_info": {
   "codemirror_mode": {
    "name": "ipython",
    "version": 3
   },
   "file_extension": ".py",
   "mimetype": "text/x-python",
   "name": "python",
   "nbconvert_exporter": "python",
   "pygments_lexer": "ipython3",
   "version": "3.8.5"
  }
 },
 "nbformat": 4,
 "nbformat_minor": 4
}
