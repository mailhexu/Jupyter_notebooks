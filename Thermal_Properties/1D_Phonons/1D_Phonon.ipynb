{
 "cells": [
  {
   "cell_type": "markdown",
   "metadata": {},
   "source": [
    "[![Open In Colab](https://colab.research.google.com/assets/colab-badge.svg)](https://colab.research.google.com/github/romerogroup/Jupyter_notebooks/blob/master/Thermal_Properties/1D_Phonons/1D_Phonon.ipynb)\n",
    "\n",
    "## Approximating the interatomic potential.\n",
    "\n"
   ]
  },
  {
   "cell_type": "code",
   "execution_count": 14,
   "metadata": {},
   "outputs": [
    {
     "data": {
      "application/vnd.jupyter.widget-view+json": {
       "model_id": "712880b20d1b4532806dc34efbfb71e3",
       "version_major": 2,
       "version_minor": 0
      },
      "text/plain": [
       "interactive(children=(FloatSlider(value=3.0, description='$\\\\epsilon$:', max=5.0, min=0.1), FloatSlider(value=…"
      ]
     },
     "metadata": {},
     "output_type": "display_data"
    },
    {
     "data": {
      "text/plain": [
       "<function __main__.interatomic_pot(eps, sig)>"
      ]
     },
     "execution_count": 14,
     "metadata": {},
     "output_type": "execute_result"
    }
   ],
   "source": [
    "import matplotlib.pyplot as plt\n",
    "import numpy as np\n",
    "from ipywidgets import interact, FloatSlider\n",
    "\n",
    "x = np.linspace(0.01,1,250)\n",
    "\n",
    "def LJ(eps,sig,X):\n",
    "    return 4*eps*((sig/X)**12 - (sig/X)**6)\n",
    "\n",
    "def harmonic(eps,sig,X):\n",
    "    return ((36*eps)/(2**(1/3)*sig**2))*(X-(2**(1/6)*sig))**2 - eps\n",
    "\n",
    "def interatomic_pot(eps,sig):\n",
    "    plt.plot(x,LJ(eps,sig,x),color='royalblue')\n",
    "    plt.plot(x,harmonic(eps,sig,x),color='orangered')\n",
    "    plt.axhline(y=0,color='black',ls='--')\n",
    "    plt.ylim(-5,1)\n",
    "    plt.xlim(0,1)\n",
    "    plt.show()\n",
    "\n",
    "interactive_plot = interact(interatomic_pot, eps=FloatSlider(value=3, min=0.1, max=5, step=0.1, description='$\\epsilon$:'),\n",
    "                           sig=FloatSlider(value=0.2, min=0.05, max=0.5, step=0.01, description='$\\sigma$:'))\n",
    "interactive_plot"
   ]
  },
  {
   "cell_type": "markdown",
   "metadata": {},
   "source": [
    "## Elastic Vibrations in a 1D Monoatomic Lattice"
   ]
  },
  {
   "cell_type": "code",
   "execution_count": 63,
   "metadata": {},
   "outputs": [
    {
     "data": {
      "application/vnd.jupyter.widget-view+json": {
       "model_id": "52bda0e1aa264bb58d45ddb111b6c7bc",
       "version_major": 2,
       "version_minor": 0
      },
      "text/plain": [
       "interactive(children=(FloatSlider(value=0.0, description='$q$:', max=3.141592653589793, min=-3.141592653589793…"
      ]
     },
     "metadata": {},
     "output_type": "display_data"
    },
    {
     "data": {
      "text/plain": [
       "<function __main__.animate_phonons(q, a, C, M, t)>"
      ]
     },
     "execution_count": 63,
     "metadata": {},
     "output_type": "execute_result"
    }
   ],
   "source": [
    "import matplotlib.pyplot as plt\n",
    "from matplotlib import animation as anime\n",
    "import numpy as np\n",
    "from ipywidgets import interact, FloatSlider,Play\n",
    "from copy import copy\n",
    "\n",
    "def dispersion(q,a,C,M):\n",
    "    return np.sqrt(4*C/M)*np.abs(np.sin((q*a)/2))\n",
    "\n",
    "def displace(q,a,C,M,n,t):\n",
    "    if n == 6:\n",
    "        w = n + 1/4*(np.cos(-q*n-dispersion(q,a,C,M)*t/10))\n",
    "    else:\n",
    "        w = n + 1/4*(np.cos(q*n-dispersion(q,a,C,M)*t/10))\n",
    "    return w\n",
    "\n",
    "def atoms(q,a,C,M,n,t):\n",
    "    atom = plt.Circle((n,0),M/2,color='royalblue')\n",
    "    atom.center = (displace(q,a,C,M,n,t),0)\n",
    "    return copy(atom)\n",
    "    \n",
    "def animate_phonons(q,a,C,M,t):\n",
    "    fig = plt.figure(figsize=(6,9))\n",
    "    ax1 = fig.add_subplot(211)\n",
    "    ax2 = fig.add_subplot(212)\n",
    "    ax1.tick_params(axis='both',direction='in')\n",
    "    ax1.set_xlim(-np.pi/a,np.pi/a)\n",
    "    ax1.set_ylim(0,7)\n",
    "    ax1.set_xlabel('k')\n",
    "    ax1.set_ylabel('$\\omega$')\n",
    "    ax2.axis('off')\n",
    "    ax2.set_xlim(-8,8)\n",
    "    ax2.set_ylim(-5,5)\n",
    "    \n",
    "    K = np.linspace(-3*np.pi,3*np.pi,2001)\n",
    "    \n",
    "    ax1.plot(K,dispersion(K,a,C,M),color='royalblue')\n",
    "    ax1.scatter(q/a,dispersion(q/a,a,C,M),marker='o',color='white',edgecolor='red',s=100)\n",
    "    for n in range(2):\n",
    "        ax1.axvline(x=(2*n+1)*np.pi/a,color='black',linewidth=0.5)\n",
    "        ax1.axvline(x=-(2*n+1)*np.pi/a,color='black',linewidth=0.5)\n",
    "    \n",
    "    for i in [-6,-4,-2,0,2,4,6]:\n",
    "        ax2.add_patch(atoms(q,a,C,M,i,t))\n",
    "    \n",
    "interactive_plot = interact(animate_phonons,\n",
    "                            q=FloatSlider(value=0.0, min=-np.pi, max=np.pi, step=0.01, description='$q$:'),\n",
    "                            a=FloatSlider(value=3, min=1, max=5, step=0.1, description='$a$:'),\n",
    "                            C=FloatSlider(value=3, min=0.1, max=5, step=0.1, description='$C$:'),\n",
    "                            M=FloatSlider(value=1, min=0.5, max=1.5, step=0.01, description='$M$:'),\n",
    "                            t=Play(value=0, min=0, max=2*np.pi*1000, step=1, interval=24))\n",
    "interactive_plot"
   ]
  },
  {
   "cell_type": "markdown",
   "metadata": {},
   "source": [
    "## Diatomic 1D Lattice\n",
    "\n",
    "In the case of two sepecies that occupy alternating sites of a 1D lattice, the cell that contains the neighborhood of either atom is no longer periodic. Likewise the independent motion of either atom does not represent the motion of the entire system. The new unit cell must be defined to enclose the two species. One approach takes the centers of two of the nearest atoms of the same species to be the endpoints of the cell, defining the distance between the two as the lattice constant . In this way, the cell completely encloses one atom from one of the species, and it encloses two half atoms of the other species. In total that is two atoms per unit cell comprised of two different species, which validates the defintion of the new unit cell.\n",
    "\n",
    "![1D_Diatomic_Lattice](1D_Diatomic_Lattice.png)\n",
    "\n",
    "Now an equation of motion for each species can be written independently following following the same procedure as for the monoatomic system.\n",
    "\n",
    "\\begin{equation}\n",
    "M_1\\frac{du_n}{dt^2} = - C ( 2u_n - v_n - v_{n-1} ) \\\\\n",
    "M_2\\frac{dv_n}{dt^2} = - C ( 2v_n - u_n - u_{n+1} )\n",
    "\\end{equation}\n",
    "\n",
    "As before a reasonable ansatz for either equation is an oscillatory function. Supposing that the general solutions $u_n = ue^{i( kna - \\omega t )}$ and $v_n = ve^{i( kna - \\omega t )}$, substitution into the equations of motion gives\n",
    "\n",
    "\\begin{equation}\n",
    "-\\omega^2 M_1 ue^{i( kna - \\omega t )} = -C ( 2ue^{i( kna - \\omega t )} - ve^{i( kna - \\omega t )} -  ve^{i(k(n-1)a - \\omega t )} ) \\\\\n",
    "-\\omega^2 M_2 ve^{i( kna - \\omega t )} = -C ( 2ve^{i( kna - \\omega t )} - ue^{i( kna - \\omega t )} - ue^{i(k(n+1)a - \\omega t )} ).\n",
    "\\end{equation}\n",
    "\n",
    "In both equations, $e^{i( kna - \\omega t )}$ is a common factor that can be eliminated, yielding\n",
    "\n",
    "\\begin{equation}\n",
    "-\\omega^2 M_1 u = -C[ 2u + ( 1 + e^{-ika} ) v ] \\\\\n",
    "-\\omega^2 M_2 v = -C[ 2v + ( 1 + e^{ika} ) u ].\n",
    "\\end{equation}\n",
    "\n",
    "Grouping the $u$ and $v$ terms motivates the subsequent solution path.\n",
    "\n",
    "\\begin{equation}\n",
    "( \\omega^2 M_1 - 2C )u + ( 1 + e^{-ika} )Cv \\\\\n",
    "( 1 + e^{ika} )Cu + ( \\omega^2 M_2 - 2C )v.\n",
    "\\end{equation}\n",
    "\n",
    "The motion of each species is coupled to the other through the action of the spring. Therefore, the system of equations must be solved silmutaneously. Casting the expressions into a matrix equation, there are simultaneous unique solutions for u and v when the matrix determinant is zero.\n",
    "\n",
    "\\begin{equation}\n",
    "\\left| \\begin{array}{cc} \\omega^2 M_1 - 2C & ( 1 + e^{-ika} )C \\\\ ( 1 + e^{ika} )C & \\omega^2 M_2 - 2C \\end{array} \\right| = 0\n",
    "\\end{equation}\n",
    "\n",
    "Therefore, the characteristic polynomial for the system is\n",
    "\n",
    "\\begin{equation}\n",
    "(\\omega^2 M_1 - 2C)(\\omega^2 M_2 - 2C) - C^2(1 + e^{-ika})(1 + e^{ika}) = 0.\n",
    "\\end{equation}\n",
    "\n",
    "which simplifies giving a quadratic equation in $\\omega^2$.\n",
    "\n",
    "\\begin{equation}\n",
    "M_1M_2\\omega^4 - 2C\\omega^2(M_1 + M_2) + 2C^2(1- coska) = 0\n",
    "\\end{equation}\n",
    "\n",
    "The roots are\n",
    "\n",
    "\\begin{equation}\n",
    "\\omega^2 = \\frac{2C}{M_1M_2}\\left[(M_1 + M_2) \\pm \\sqrt{(M_1+M_2)^2 + 2M_1M_2(1-coska)}\\right]\n",
    "\\end{equation}\n",
    "\n",
    "which may be simplified further as\n",
    "\n",
    "\\begin{equation}\n",
    "\\omega = \\sqrt{\\frac{2C}{M_1M_2}\\left(M_1 + M_2 \\pm \\sqrt{(M_1+M_2)^2 -4M_1M_2\\sin^2\\frac{ka}{2}} \\right)}.\n",
    "\\end{equation}\n",
    "\n",
    "Plotting provides the dispersion relation between the energy $\\hbar\\omega$ and the wavenumber $k$."
   ]
  },
  {
   "cell_type": "code",
   "execution_count": 66,
   "metadata": {},
   "outputs": [
    {
     "data": {
      "application/vnd.jupyter.widget-view+json": {
       "model_id": "ef9715a01e7f45a7b34130fc1c93f63b",
       "version_major": 2,
       "version_minor": 0
      },
      "text/plain": [
       "interactive(children=(FloatSlider(value=0.0, description='$q$:', max=3.141592653589793, min=-3.141592653589793…"
      ]
     },
     "metadata": {},
     "output_type": "display_data"
    },
    {
     "data": {
      "text/plain": [
       "<function __main__.animate_phonons(q, a, C, M1, M2, t)>"
      ]
     },
     "execution_count": 66,
     "metadata": {},
     "output_type": "execute_result"
    }
   ],
   "source": [
    "import matplotlib.pyplot as plt\n",
    "from matplotlib import animation as anime\n",
    "import numpy as np\n",
    "from ipywidgets import interact, FloatSlider,Play\n",
    "from copy import copy\n",
    "\n",
    "def acoustic_dispersion(q,a,C,M1,M2):\n",
    "    return np.sqrt(2*C/(M1*M2))*np.sqrt(M1+M2 - np.sqrt((M1+M2)**2 - 4*M1*M2*np.sin((q*a)/2)**2))\n",
    "\n",
    "def optical_dispersion(q,a,C,M1,M2):\n",
    "    return np.sqrt(2*C/(M1*M2))*np.sqrt(M1+M2 + np.sqrt((M1+M2)**2 - 4*M1*M2*np.sin((q*a)/2)**2))\n",
    "\n",
    "def acoustic_displace(q,a,C,M1,M2,n,t):\n",
    "    if n == 6:\n",
    "        u = n + 1/4*(np.cos(-q*n-acoustic_dispersion(q,a,C,M1,M2)*t/10))\n",
    "    else:\n",
    "        u = n + 1/4*(np.cos(q*n-acoustic_dispersion(q,a,C,M1,M2)*t/10))\n",
    "    return u\n",
    "\n",
    "def optical_displace(q,a,C,M1,M2,n,t):\n",
    "    if n == 6:\n",
    "        u = n + 1/4*(np.cos(-q*n-optical_dispersion(q,a,C,M1,M2)*t/10))\n",
    "    else:\n",
    "        u = n + 1/4*(np.cos(q*n-optical_dispersion(q,a,C,M1,M2)*t/10))\n",
    "    return u\n",
    "\n",
    "\n",
    "def atoms(q,a,C,M1,M2,n,t,type):\n",
    "    if np.abs(n) == 6 or np.abs(n) == 2:\n",
    "        atom = plt.Circle((n,0),M1/2,color='royalblue')\n",
    "    else:\n",
    "        atom = plt.Circle((n,0),M2/2,color='orangered')\n",
    "    \n",
    "    if type == 'acoustic':\n",
    "        atom.center = (acoustic_displace(q,a,C,M1,M2,n,t),0)\n",
    "    else:\n",
    "        atom.center = (optical_displace(q,a,C,M1,M2,n,t),0)\n",
    "    return copy(atom)\n",
    "    \n",
    "def animate_phonons(q,a,C,M1,M2,t):\n",
    "    fig = plt.figure(figsize=(6,9))\n",
    "    ax1 = fig.add_subplot(311)\n",
    "    ax2 = fig.add_subplot(312)\n",
    "    ax3 = fig.add_subplot(313)\n",
    "    ax1.tick_params(axis='both',direction='in')\n",
    "    ax1.set_xlim(-np.pi/a,np.pi/a)\n",
    "    ax1.set_ylim(0,8)\n",
    "    ax1.set_xlabel('k')\n",
    "    ax1.set_ylabel('$\\omega$')\n",
    "    ax2.axis('off')\n",
    "    ax2.set_xlim(-8,8)\n",
    "    ax2.set_ylim(-3.5,3.5)\n",
    "    ax2.annotate('Acoustic Branch',(-1.5,-2))\n",
    "    ax3.axis('off')\n",
    "    ax3.set_xlim(-8,8)\n",
    "    ax3.set_ylim(-3.5,3.5)\n",
    "    ax3.annotate('Optical Brach',(-1.5,-2))\n",
    "    \n",
    "    K = np.linspace(-3*np.pi,3*np.pi,2001)\n",
    "    \n",
    "    ax1.plot(K,acoustic_dispersion(K,a,C,M1,M2),color='royalblue')\n",
    "    ax1.plot(K,optical_dispersion(K,a,C,M1,M2),color='royalblue')\n",
    "    ax1.scatter(q/a,acoustic_dispersion(q/a,a,C,M1,M2),marker='o',color='white',edgecolor='red',s=100)\n",
    "    ax1.scatter(q/a,optical_dispersion(q/a,a,C,M1,M2),marker='o',color='white',edgecolor='red',s=100)\n",
    "    \n",
    "    for n in range(2):\n",
    "        ax1.axvline(x=(2*n+1)*np.pi/a,color='black',linewidth=0.5)\n",
    "        ax1.axvline(x=-(2*n+1)*np.pi/a,color='black',linewidth=0.5)\n",
    "    \n",
    "    for i in [-6,-4,-2,0,2,4,6]:\n",
    "        ax2.add_patch(atoms(q,a,C,M1,M2,i,t,'acoustic'))\n",
    "        \n",
    "    for i in [-6,-4,-2,0,2,4,6]:\n",
    "        ax3.add_patch(atoms(q,a,C,M1,M2,i,t,'optical'))\n",
    "    \n",
    "interactive_plot = interact(animate_phonons,\n",
    "                            q=FloatSlider(value=0.0, min=-np.pi, max=np.pi, step=0.01, description='$q$:'),\n",
    "                            a=FloatSlider(value=3, min=1, max=5, step=0.1, description='$a$:'),\n",
    "                            C=FloatSlider(value=3, min=0.1, max=5, step=0.1, description='$C$:'),\n",
    "                            M1=FloatSlider(value=1, min=0.5, max=1.5, step=0.01, description='$M1$:'),\n",
    "                            M2=FloatSlider(value=1, min=0.5, max=1.5, step=0.01, description='$M2$:'),\n",
    "                            t=Play(value=0, min=0, max=2*np.pi*1000, step=1, interval=24))\n",
    "interactive_plot"
   ]
  }
 ],
 "metadata": {
  "kernelspec": {
   "display_name": "Python 3",
   "language": "python",
   "name": "python3"
  },
  "language_info": {
   "codemirror_mode": {
    "name": "ipython",
    "version": 3
   },
   "file_extension": ".py",
   "mimetype": "text/x-python",
   "name": "python",
   "nbconvert_exporter": "python",
   "pygments_lexer": "ipython3",
   "version": "3.8.5"
  }
 },
 "nbformat": 4,
 "nbformat_minor": 4
}
